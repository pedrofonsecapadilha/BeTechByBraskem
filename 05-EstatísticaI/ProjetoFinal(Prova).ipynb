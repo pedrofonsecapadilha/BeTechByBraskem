{
  "cells": [
    {
      "cell_type": "markdown",
      "metadata": {
        "id": "X7OaTVLvWp79"
      },
      "source": [
        "# Questão 01\n",
        "\n",
        "Classifique as variáveis da tabela abaixo de acordo com seus tipos. PS.: Os alunos são separados em turmas de forma aleatória\n",
        "\n",
        "```\n",
        "Série\tTurma\tQtde de Alunos\tAltura média dos alunos\n",
        "1ª      A         25\t              1.25\n",
        "3ª      A         37\t              1.45\n",
        "2ª      C         32\t              1.35\n",
        "2ª      B         30\t              1.30\n",
        "4ª      C         40\t              1.65\n",
        "```\n",
        "Alternativas:\n",
        "\n",
        "**A) Série: Qualitativa ordinal; Turma: Qualitativa nominal; Qtde de Alunos: Quantitativa discreta; Altura média dos alunos: Quantitativa contínua**\n",
        "\n",
        "B) Série: Qualitativa nominal; **Turma: Qualitativa nominal**; **Qtde de Alunos: Quantitativa discreta**; Altura média dos alunos: Quantitativa discreta\n",
        "\n",
        "C) Série: Quantitativa nominal; Turma: Qualitativa ordinal; Qtde de Alunos: Quantitativa contínua; **Altura média dos alunos: Quantitativa contínua**\n",
        "\n",
        "D) **Série: Qualitativa ordinal**; **Turma: Qualitativa nominal**; Qtde de Alunos: Qualitativa ordinal; **Altura média dos alunos: Quantitativa contínua**"
      ]
    },
    {
      "cell_type": "markdown",
      "metadata": {
        "id": "moQbkxECX0JL"
      },
      "source": [
        "# Questão 02\n",
        "\n",
        "Qual é a média, mediana, variância e desvio padrão das alturas médias dos alunos do conjunto de dados da Questão 1, respectivamente?\n",
        "\n",
        "altura_media = [1.25, 1.45, 1.35, 1.30, 1.65]\n",
        "\n",
        "Alternativas:\n",
        "\n",
        "A) Média: 1,2; Mediana: 1,2; Variância: 0,25; Desvio Padrão: 0,5\n",
        "\n",
        "**B) Média: 1,4 ; Mediana: 1,35; Variância: 0,02; Desvio Padrão: 0,14**\n",
        "\n",
        "C) Média: 1,5; Mediana: 1,35; Variância: 0,3; Desvio Padrão: 0,14\n",
        "\n",
        "D) Média: 0,5; Mediana: 1,65; Variância: 1; Desvio Padrão: 1"
      ]
    },
    {
      "cell_type": "code",
      "execution_count": 1,
      "metadata": {
        "colab": {
          "base_uri": "https://localhost:8080/"
        },
        "id": "TGly6Th5Xzvy",
        "outputId": "dec4d667-561a-4947-a762-3a48425b327a"
      },
      "outputs": [
        {
          "name": "stdout",
          "output_type": "stream",
          "text": [
            "Média: 1.4\n",
            "Mediana: 1.35\n",
            "Variância: 0.02\n",
            "Desvio Padrão: 0.14\n"
          ]
        }
      ],
      "source": [
        "import numpy as np\n",
        "altura_media = [1.25, 1.45, 1.35, 1.30, 1.65]\n",
        "\n",
        "print(f\"Média: {round(np.average(altura_media), 2)}\")\n",
        "print(f\"Mediana: {round(np.median(altura_media), 2)}\")\n",
        "print(f\"Variância: {round(np.var(altura_media), 2)}\")\n",
        "print(f\"Desvio Padrão: {round(np.std(altura_media), 2)}\")"
      ]
    },
    {
      "cell_type": "markdown",
      "metadata": {
        "id": "yW5FXdHDbD4c"
      },
      "source": [
        "# Questão 03\n",
        "\n",
        "*Seu valor é obtido dividindo-se a frequência absoluta de um evento pela quantidade total de observações. Quando o número de observações é muito grande, seu valor converge para a probabilidade do evento.*\n",
        "\n",
        "Qual conceito pode ser descrito pela afirmação acima?\n",
        "\n",
        "Alternativas:\n",
        "\n",
        "A) Teorema do limite central\n",
        "\n",
        "B) Frequência percentual\n",
        "\n",
        "C) Frequência absoluta\n",
        "\n",
        "**D) Frequência relativa**"
      ]
    },
    {
      "cell_type": "markdown",
      "metadata": {
        "id": "7-IViskBcpud"
      },
      "source": [
        "Frequência relativa (ƒri): É o quociente entre a frequência absoluta da classe correspondente e a soma das frequências (total observado), isto é:\n",
        "\n",
        "![1.png](data:image/png;base64,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) onde n representa o número total de observações."
      ]
    },
    {
      "cell_type": "markdown",
      "metadata": {
        "id": "l5DEBCuldVKc"
      },
      "source": [
        "# Questão 04\n",
        "\n",
        "Considere que todos os alunos de uma escola estão representados pela tabela abaixo:\n",
        "```\n",
        "Série\tTurma\tQtde de Alunos\tAltura média dos alunos\n",
        "1ª      A         25\t              1.25\n",
        "3ª      A         37\t              1.45\n",
        "2ª      C         32\t              1.35\n",
        "2ª      B         30\t              1.30\n",
        "4ª      C         40\t              1.65\n",
        "```\n",
        "Caso todos os alunos participem de um sorteio, e um aluno seja escolhido aleatoriamente, qual é a probabilidade de que esse aluno seja da 2ª série?\n",
        "\n",
        "Alternativas:\n",
        "\n",
        "A) 0,15 ou 15%\n",
        "\n",
        "B) 0,182 ou 18,2%\n",
        "\n",
        "**C) 0,378 ou 37,8%**\n",
        "\n",
        "D) 0,243 ou 24,4%"
      ]
    },
    {
      "cell_type": "code",
      "execution_count": 2,
      "metadata": {
        "colab": {
          "base_uri": "https://localhost:8080/"
        },
        "id": "vQXAnMlJZPX-",
        "outputId": "7d7c9cc5-570f-4cc3-809f-ad06081134fe"
      },
      "outputs": [
        {
          "name": "stdout",
          "output_type": "stream",
          "text": [
            "A probabilidade do aluno sorteado ser da 2ªsérie é de: 0.378 ou 37.8%\n"
          ]
        }
      ],
      "source": [
        "alunos_segunda = 32 + 30\n",
        "total_alunos = 25 + 37 + 32 + 30 + 40\n",
        "\n",
        "prob = (alunos_segunda / total_alunos)\n",
        "\n",
        "print(f\"A probabilidade do aluno sorteado ser da 2ªsérie é de: {round(prob, 4)} ou {round(prob*100, 2)}%\")"
      ]
    },
    {
      "cell_type": "markdown",
      "metadata": {
        "id": "ZGcHEVMaebIf"
      },
      "source": [
        "# Questão 05\n",
        "\n",
        "Suponha que você tem uma urna com 3 bolas vermelhas (V), 4 bolas verdes (G) e 5 bolas azuis (A). Você retira uma bola ao acaso e, em seguida, sem devolvê-la, retira uma segunda bola. Considere os eventos:\n",
        "\n",
        "* Evento A: A primeira bola é verde.\n",
        "* Evento B: A segunda bola é azul.\n",
        "\n",
        "Qual é a probabilidade condicional de que a segunda bola seja azul, dado que a primeira bola retirada é verde ( P(B|A) )?\n",
        "\n",
        "Alternativas:\n",
        "\n",
        "A) 3/12\n",
        "\n",
        "**B) 5/11**\n",
        "\n",
        "C) 5/12\n",
        "\n",
        "D) 5/10"
      ]
    },
    {
      "cell_type": "code",
      "execution_count": 3,
      "metadata": {
        "colab": {
          "base_uri": "https://localhost:8080/"
        },
        "id": "zwxw8esCeaxo",
        "outputId": "a8e4f3f3-3220-4344-a72b-0d891f255a9c"
      },
      "outputs": [
        {
          "name": "stdout",
          "output_type": "stream",
          "text": [
            "A probabilidade de que a segunda bola seja azul, dado que a primeira é verde é: 45.45%\n"
          ]
        }
      ],
      "source": [
        "p_a = 4/12\n",
        "p_b = 5/11\n",
        "p_i = p_a * p_b\n",
        "p_b_a = p_i / p_a\n",
        "\n",
        "print(f\"A probabilidade de que a segunda bola seja azul, dado que a primeira é verde é: {round(p_b_a * 100, 2)}%\")"
      ]
    },
    {
      "cell_type": "markdown",
      "metadata": {
        "id": "ghT7yv0t9XMJ"
      },
      "source": [
        "# Questão 06\n",
        "\n",
        "Uma empresa produz smartphones e tem três modelos: A, B e C.\n",
        "\n",
        "Sabe-se que:\n",
        "\n",
        "* 60% dos smartphones são do modelo A;\n",
        "* 30% são do modelo B e;\n",
        "* 10% são do modelo C.\n",
        "\n",
        "Também se sabe que:\n",
        "\n",
        "* Dos smartphones do modelo A, 5% estão com defeito;\n",
        "* Dos do modelo B, 8% estão com defeito;\n",
        "* e dos do modelo C, 12% estão com defeito.\n",
        "\n",
        "Você recebe um smartphone escolhido aleatoriamente da empresa e percebe que ele está com defeito.\n",
        "\n",
        "Qual é a probabilidade de que o smartphone seja do modelo B, dado que o aparelho está com defeito?\n",
        "\n",
        "Alternativas:\n",
        "\n",
        "A) 0,2345 ou 23,45%\n",
        "\n",
        "**B) 0,3636 ou 36,36%**\n",
        "\n",
        "C) 0,5 ou 50%\n",
        "\n",
        "D) 0,3 ou 30%"
      ]
    },
    {
      "cell_type": "code",
      "execution_count": 4,
      "metadata": {
        "colab": {
          "base_uri": "https://localhost:8080/"
        },
        "id": "UMIFswpT9XAu",
        "outputId": "5b3df37e-0d4f-4f1f-e61b-41f8eaf97916"
      },
      "outputs": [
        {
          "name": "stdout",
          "output_type": "stream",
          "text": [
            "A probabilidade do smartphone defeituoso ser do modelo B é: 36.36%\n"
          ]
        }
      ],
      "source": [
        "# Probabilidade de ser B\n",
        "p_b = 30/100\n",
        "# Probabilidade de ser B defeituoso\n",
        "p_bd = 8/100\n",
        "\n",
        "# Probabilidade de ser defeituoso (considera as os três cenários)\n",
        "p_a_d = 60/100 * 5/100  # Probabilidade de ser A e defeituoso\n",
        "p_b_d = 30/100 * 8/100  # Probabilidade de ser B e defeituoso\n",
        "p_c_d = 10/100 * 12/100 # Probabilidade de ser C e defeituoso\n",
        "p_d = p_a_d + p_b_d + p_c_d\n",
        "\n",
        "# Aplicando o teorema:\n",
        "result = (p_b * p_bd) / p_d\n",
        "\n",
        "print(f'A probabilidade do smartphone defeituoso ser do modelo B é: {round(result*100, 2)}%')"
      ]
    },
    {
      "cell_type": "markdown",
      "metadata": {
        "id": "1U3EK7FNJIMc"
      },
      "source": [
        "# Questão 07\n",
        "\n",
        "Em um colégio, a altura dos alunos de uma determinada série segue uma distribuição Normal de média 1,5 m e de variância 0,0225 m². Ao medir a altura um aluno aleatório dessa série, qual é a probabilidade que ele tenha mais que 1,75m?\n",
        "\n",
        "Alternativas:\n",
        "\n",
        "**A) menos que 5%**\n",
        "\n",
        "B) mais que 90%\n",
        "\n",
        "C) mais que 10%\n",
        "\n",
        "D) menos que 2%"
      ]
    },
    {
      "cell_type": "code",
      "execution_count": 7,
      "metadata": {
        "colab": {
          "base_uri": "https://localhost:8080/",
          "height": 599
        },
        "id": "dEmazHW7d0vq",
        "outputId": "0cde8656-9a38-4d7d-8e0c-7f17d1182f07"
      },
      "outputs": [
        {
          "data": {
            "image/png": "[encoded data removed]",
            "text/plain": [
              "<Figure size 1000x600 with 1 Axes>"
            ]
          },
          "metadata": {},
          "output_type": "display_data"
        },
        {
          "name": "stdout",
          "output_type": "stream",
          "text": [
            "\n",
            "A probabilidade do aluno ter mais de 1,75m: 4.78%\n"
          ]
        }
      ],
      "source": [
        "import numpy as np\n",
        "import matplotlib.pyplot as plt\n",
        "from scipy.stats import norm\n",
        "\n",
        "# Valores\n",
        "mu = 1.5              # Média [m]\n",
        "var = 0.0225          # Variância [m²]\n",
        "sigma = np.sqrt(var)  # Desvio Padrão [m]\n",
        "\n",
        "# Calcula o Z-Score para 1,75 m\n",
        "z = (1.75 - mu)/sigma\n",
        "corresp = 1 - norm.cdf(z)\n",
        "\n",
        "plt.figure(figsize=(10,6))\n",
        "x = np.linspace(mu - 4*sigma, mu + 4*sigma, 500)\n",
        "y = norm(loc = mu, scale = sigma).pdf(x)\n",
        "plt.plot(x, y, color = 'black')\n",
        "plt.axvline(x=mu, color='r', linestyle='--')\n",
        "plt.axvline(x=z, color='b', linestyle='--')\n",
        "plt.title('Distribuição Normal')\n",
        "plt.xlabel('Data points')\n",
        "plt.ylabel('Probability Density')\n",
        "plt.show()\n",
        "\n",
        "print(f\"\\nA probabilidade do aluno ter mais de 1,75m: {round(corresp * 100, 2)}%\")"
      ]
    },
    {
      "cell_type": "markdown",
      "metadata": {
        "id": "G4KPSgp-NH4B"
      },
      "source": [
        "# Questão 08\n",
        "\n",
        "Qual das opções abaixo descreve melhor o conceito de Teorema Central do Limite:\n",
        "\n",
        "Alternativas:\n",
        "\n",
        "**A) Se o tamanho da amostra for grande o suficiente, a distribuição dos estimadores pontuais (como, por exemplo, a média amostral) vai se aproximar de uma distribuição normal, mesmo que a população tenha outra distribuição;**\n",
        "\n",
        "B) Se o tamanho da amostra for grande o suficiente, a distribuição dos estimadores pontuais (como, por exemplo, a média amostral) vai se aproximar de uma distribuição normal, desde que a população tenha uma distribuição normal;\n",
        "\n",
        "C) Se o tamanho da amostra for grande o suficiente, os valores obtidos nela se aproximarão de uma distribuição normal, mesmo que a população tenha outra distribuição;\n",
        "\n",
        "D) O Teorema Central do Limite funciona apenas para estimar a variância da população pela variância da amostra."
      ]
    },
    {
      "cell_type": "markdown",
      "metadata": {
        "id": "nZUUtrJXOBZO"
      },
      "source": [
        "# Questão 09\n",
        "\n",
        "Um fabricante de lâmpadas alega que a vida média de suas lâmpadas é de pelo menos 1000 horas.\n",
        "\n",
        "Um consumidor desconfia dessa afirmação e coleta uma amostra de 30 lâmpadas, obtendo uma vida média de 980 horas, com um desvio padrão de 120 horas.\n",
        "\n",
        "Utilize um nível de significância de 0.05 para determinar se há evidências para rejeitar a afirmação do fabricante em favor da alegação do consumidor.\n",
        "\n",
        "Realize um teste de hipótese utilizando a distribuição normal para testar a afirmação do fabricante. Considere:\n",
        "\n",
        "* Hipótese nula (H0): A vida média das lâmpadas é de pelo menos 1000 horas.\n",
        "* Hipótese alternativa (Ha): A vida média das lâmpadas é menor do que 1000 horas.\n",
        "\n",
        "A partir disso, qual é o valor crítico do teste (xc) e qual decisão deve ser tomada?\n",
        "\n",
        "Alternativas:\n",
        "\n",
        "**A) xc = 963,96 e deve-se aceitar a hipótese nula (H0)**\n",
        "\n",
        "B) xc = 951,55 e deve-se rejeitar a hipótese nula (H0)\n",
        "\n",
        "C) xc = 963,96 e deve-se rejeitar a hipótese nula (H0)\n",
        "\n",
        "D) xc = 951,55 e deve-se aceitar a hipótese nula (H0)"
      ]
    },
    {
      "cell_type": "code",
      "execution_count": null,
      "metadata": {
        "colab": {
          "base_uri": "https://localhost:8080/"
        },
        "id": "BKTZwaUiNHtb",
        "outputId": "a74c1fac-5a27-4728-c9a2-f702fc09311c"
      },
      "outputs": [
        {
          "name": "stdout",
          "output_type": "stream",
          "text": [
            "Valor crítico: 963.96 h\n",
            "Valor médio observado: 980 h\n",
            "Teste de Hipótese: \n",
            "Aceitamos H0\n"
          ]
        }
      ],
      "source": [
        "from scipy.stats import norm\n",
        "\n",
        "# H0 >= 1000 h\n",
        "# Ha < 1000 h\n",
        "\n",
        "# Cálculo do Z crítico para nível de significância: 0.05\n",
        "prob = st.norm.ppf(0.05)\n",
        "\n",
        "# Parâmetros para o teste\n",
        "mu = 1000     # média [h]\n",
        "sigma = 120   # desvio padrão [h]\n",
        "n = 30        # tamanho da amostra [qtdade]\n",
        "\n",
        "# Cálculo do valor crítico\n",
        "Xc = mu + (sigma/np.sqrt(n))*prob\n",
        "print(f\"Valor crítico: {round(Xc, 2)} h\")\n",
        "\n",
        "# Média observada\n",
        "Xobs = 980  # [h]\n",
        "print(f\"Valor médio observado: {Xobs} h\")\n",
        "\n",
        "# Verificando se o valor médio ultrapassa o valor crítico\n",
        "print(\"Teste de Hipótese: \")\n",
        "if(Xobs >= Xc):\n",
        "    print(\"Aceitamos H0\")\n",
        "else:\n",
        "    print(\"Rejeitamos H0\")"
      ]
    },
    {
      "cell_type": "markdown",
      "metadata": {
        "id": "ct1DUQJWadRJ"
      },
      "source": [
        "# Questão 10\n",
        "\n",
        "Considere as seguintes afirmações:\n",
        "\n",
        "* Todo ano, quando chega em dezembro, os briquedos ficam mais caros;\n",
        "* A cada ano que passa, o preço do aluguel fica mais caro.\n",
        "\n",
        "Considerando que os fenomenos das frases possam ser descritos por séries temporais, quais componentes de séries temporais se observa em cada uma das afirmações, respectivamente:\n",
        "\n",
        "Alternativas:\n",
        "\n",
        "A) 1- Tendencia; 2- Tendencia\n",
        "\n",
        "**B) 1- Sazonalidade; 2- Tendencia**\n",
        "\n",
        "C) 1- Tendencia; 2 - Sazonalidade\n",
        "\n",
        "D) 1- Sazonalidade; 2- Ruido Aleatório"
      ]
    }
  ],
  "metadata": {
    "colab": {
      "provenance": [],
      "toc_visible": true
    },
    "kernelspec": {
      "display_name": "Python 3",
      "name": "python3"
    },
    "language_info": {
      "codemirror_mode": {
        "name": "ipython",
        "version": 3
      },
      "file_extension": ".py",
      "mimetype": "text/x-python",
      "name": "python",
      "nbconvert_exporter": "python",
      "pygments_lexer": "ipython3",
      "version": "3.8.10"
    }
  },
  "nbformat": 4,
  "nbformat_minor": 0
}
