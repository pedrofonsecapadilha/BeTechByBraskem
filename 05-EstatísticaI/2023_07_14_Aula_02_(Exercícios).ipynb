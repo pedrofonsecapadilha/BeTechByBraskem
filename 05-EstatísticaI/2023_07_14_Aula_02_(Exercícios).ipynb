{
  "cells": [
    {
      "cell_type": "markdown",
      "metadata": {
        "id": "gXxCu26mQ42o"
      },
      "source": [
        "### ANÁLISE EXPLORATÓRIA DOS DADOS"
      ]
    },
    {
      "cell_type": "code",
      "execution_count": 1,
      "metadata": {
        "id": "-GJwUhFlKHz_"
      },
      "outputs": [],
      "source": [
        "import pandas as pd\n",
        "import numpy as np\n",
        "import matplotlib.pyplot as plt\n",
        "import seaborn as sns"
      ]
    },
    {
      "cell_type": "code",
      "execution_count": 2,
      "metadata": {
        "id": "Pp-LYOuFKP1x"
      },
      "outputs": [],
      "source": [
        "palpites = {\n",
        "'Amanda':\t427,\n",
        "'Nubia':\t437,\n",
        "'Fernanda':\t450,\n",
        "'Ingrid':\t481,\n",
        "'Daniel':\t489,\n",
        "'Robinson':\t500,\n",
        "'Kelly':\t564,\n",
        "'Pedro':\t573,\n",
        "'Yeda': \t599,\n",
        "'Janderson':600,\n",
        "'Thaysa':\t780,\n",
        "'Erick':\t189,\n",
        "'Mariane':\t247,\n",
        "'Enzo': \t278,\n",
        "'Hugo': \t280,\n",
        "'Ana':  \t290,\n",
        "'Lilian':\t297,\n",
        "'Daianne':\t300,\n",
        "'Luanny':\t342,\n",
        "'Caio': \t356,\n",
        "'Renata':\t358,\n",
        "'Carlucio':\t380,\n",
        "'Jamile':\t390,\n",
        "'Douglas':\t403,\n",
        "# 'Gustavo':0,\n",
        "# 'Gustavo1':403,\n",
        "# 'Renata1':390,\n",
        "# 'Renata2':390\n",
        "}"
      ]
    },
    {
      "cell_type": "code",
      "execution_count": 3,
      "metadata": {
        "colab": {
          "base_uri": "https://localhost:8080/",
          "height": 802
        },
        "id": "J6OeqttRKpQi",
        "outputId": "f9f6125c-46e4-4ab0-b7b8-a4709ef90160"
      },
      "outputs": [
        {
          "data": {
            "text/html": [
              "<div>\n",
              "<style scoped>\n",
              "    .dataframe tbody tr th:only-of-type {\n",
              "        vertical-align: middle;\n",
              "    }\n",
              "\n",
              "    .dataframe tbody tr th {\n",
              "        vertical-align: top;\n",
              "    }\n",
              "\n",
              "    .dataframe thead th {\n",
              "        text-align: right;\n",
              "    }\n",
              "</style>\n",
              "<table border=\"1\" class=\"dataframe\">\n",
              "  <thead>\n",
              "    <tr style=\"text-align: right;\">\n",
              "      <th></th>\n",
              "      <th>Nome</th>\n",
              "      <th>Palpite</th>\n",
              "    </tr>\n",
              "  </thead>\n",
              "  <tbody>\n",
              "    <tr>\n",
              "      <th>0</th>\n",
              "      <td>Amanda</td>\n",
              "      <td>427</td>\n",
              "    </tr>\n",
              "    <tr>\n",
              "      <th>1</th>\n",
              "      <td>Nubia</td>\n",
              "      <td>437</td>\n",
              "    </tr>\n",
              "    <tr>\n",
              "      <th>2</th>\n",
              "      <td>Fernanda</td>\n",
              "      <td>450</td>\n",
              "    </tr>\n",
              "    <tr>\n",
              "      <th>3</th>\n",
              "      <td>Ingrid</td>\n",
              "      <td>481</td>\n",
              "    </tr>\n",
              "    <tr>\n",
              "      <th>4</th>\n",
              "      <td>Daniel</td>\n",
              "      <td>489</td>\n",
              "    </tr>\n",
              "    <tr>\n",
              "      <th>5</th>\n",
              "      <td>Robinson</td>\n",
              "      <td>500</td>\n",
              "    </tr>\n",
              "    <tr>\n",
              "      <th>6</th>\n",
              "      <td>Kelly</td>\n",
              "      <td>564</td>\n",
              "    </tr>\n",
              "    <tr>\n",
              "      <th>7</th>\n",
              "      <td>Pedro</td>\n",
              "      <td>573</td>\n",
              "    </tr>\n",
              "    <tr>\n",
              "      <th>8</th>\n",
              "      <td>Yeda</td>\n",
              "      <td>599</td>\n",
              "    </tr>\n",
              "    <tr>\n",
              "      <th>9</th>\n",
              "      <td>Janderson</td>\n",
              "      <td>600</td>\n",
              "    </tr>\n",
              "    <tr>\n",
              "      <th>10</th>\n",
              "      <td>Thaysa</td>\n",
              "      <td>780</td>\n",
              "    </tr>\n",
              "    <tr>\n",
              "      <th>11</th>\n",
              "      <td>Erick</td>\n",
              "      <td>189</td>\n",
              "    </tr>\n",
              "    <tr>\n",
              "      <th>12</th>\n",
              "      <td>Mariane</td>\n",
              "      <td>247</td>\n",
              "    </tr>\n",
              "    <tr>\n",
              "      <th>13</th>\n",
              "      <td>Enzo</td>\n",
              "      <td>278</td>\n",
              "    </tr>\n",
              "    <tr>\n",
              "      <th>14</th>\n",
              "      <td>Hugo</td>\n",
              "      <td>280</td>\n",
              "    </tr>\n",
              "    <tr>\n",
              "      <th>15</th>\n",
              "      <td>Ana</td>\n",
              "      <td>290</td>\n",
              "    </tr>\n",
              "    <tr>\n",
              "      <th>16</th>\n",
              "      <td>Lilian</td>\n",
              "      <td>297</td>\n",
              "    </tr>\n",
              "    <tr>\n",
              "      <th>17</th>\n",
              "      <td>Daianne</td>\n",
              "      <td>300</td>\n",
              "    </tr>\n",
              "    <tr>\n",
              "      <th>18</th>\n",
              "      <td>Luanny</td>\n",
              "      <td>342</td>\n",
              "    </tr>\n",
              "    <tr>\n",
              "      <th>19</th>\n",
              "      <td>Caio</td>\n",
              "      <td>356</td>\n",
              "    </tr>\n",
              "    <tr>\n",
              "      <th>20</th>\n",
              "      <td>Renata</td>\n",
              "      <td>358</td>\n",
              "    </tr>\n",
              "    <tr>\n",
              "      <th>21</th>\n",
              "      <td>Carlucio</td>\n",
              "      <td>380</td>\n",
              "    </tr>\n",
              "    <tr>\n",
              "      <th>22</th>\n",
              "      <td>Jamile</td>\n",
              "      <td>390</td>\n",
              "    </tr>\n",
              "    <tr>\n",
              "      <th>23</th>\n",
              "      <td>Douglas</td>\n",
              "      <td>403</td>\n",
              "    </tr>\n",
              "  </tbody>\n",
              "</table>\n",
              "</div>"
            ],
            "text/plain": [
              "         Nome  Palpite\n",
              "0      Amanda      427\n",
              "1       Nubia      437\n",
              "2    Fernanda      450\n",
              "3      Ingrid      481\n",
              "4      Daniel      489\n",
              "5    Robinson      500\n",
              "6       Kelly      564\n",
              "7       Pedro      573\n",
              "8        Yeda      599\n",
              "9   Janderson      600\n",
              "10     Thaysa      780\n",
              "11      Erick      189\n",
              "12    Mariane      247\n",
              "13       Enzo      278\n",
              "14       Hugo      280\n",
              "15        Ana      290\n",
              "16     Lilian      297\n",
              "17    Daianne      300\n",
              "18     Luanny      342\n",
              "19       Caio      356\n",
              "20     Renata      358\n",
              "21   Carlucio      380\n",
              "22     Jamile      390\n",
              "23    Douglas      403"
            ]
          },
          "execution_count": 3,
          "metadata": {},
          "output_type": "execute_result"
        }
      ],
      "source": [
        "df_palpites = pd.DataFrame(palpites.items(), columns=['Nome', 'Palpite'])\n",
        "df_palpites"
      ]
    },
    {
      "cell_type": "code",
      "execution_count": 4,
      "metadata": {
        "colab": {
          "base_uri": "https://localhost:8080/",
          "height": 430
        },
        "id": "rTMCQTBgbUW3",
        "outputId": "65274a56-5688-449d-a3a1-728ec474f6bc"
      },
      "outputs": [
        {
          "data": {
            "image/png": "[encoded data removed]",
            "text/plain": [
              "<Figure size 640x480 with 1 Axes>"
            ]
          },
          "metadata": {},
          "output_type": "display_data"
        }
      ],
      "source": [
        "df_palpites.plot.barh(y='Palpite', x='Nome');"
      ]
    },
    {
      "cell_type": "code",
      "execution_count": 5,
      "metadata": {
        "colab": {
          "base_uri": "https://localhost:8080/",
          "height": 430
        },
        "id": "3OmANU14bXjA",
        "outputId": "362f8d8d-9056-4eff-c97d-171e0127f37d"
      },
      "outputs": [
        {
          "data": {
            "image/png": "[encoded data removed]",
            "text/plain": [
              "<Figure size 640x480 with 1 Axes>"
            ]
          },
          "metadata": {},
          "output_type": "display_data"
        }
      ],
      "source": [
        "df_palpites.sort_values('Palpite').plot.barh(y='Palpite', x='Nome');"
      ]
    },
    {
      "cell_type": "code",
      "execution_count": 6,
      "metadata": {
        "colab": {
          "base_uri": "https://localhost:8080/",
          "height": 430
        },
        "id": "37m4fFpCiUfS",
        "outputId": "697e8875-81ca-415c-dd45-659ccc3bd237"
      },
      "outputs": [
        {
          "data": {
            "image/png": "[encoded data removed]",
            "text/plain": [
              "<Figure size 640x480 with 1 Axes>"
            ]
          },
          "metadata": {},
          "output_type": "display_data"
        }
      ],
      "source": [
        "y = np.array(df_palpites.Palpite)\n",
        "x = np.array(range(0, df_palpites.Nome.count(), 1))\n",
        "\n",
        "plt.scatter(x, y);"
      ]
    },
    {
      "cell_type": "code",
      "execution_count": 7,
      "metadata": {
        "colab": {
          "base_uri": "https://localhost:8080/"
        },
        "id": "ccO7q2TsOdRI",
        "outputId": "05c5c51b-6530-4821-8d60-bac906aeeb26"
      },
      "outputs": [
        {
          "name": "stdout",
          "output_type": "stream",
          "text": [
            "189 396.5 780\n"
          ]
        }
      ],
      "source": [
        "min = df_palpites.Palpite.min()\n",
        "med = df_palpites.Palpite.median()\n",
        "max = df_palpites.Palpite.max()\n",
        "\n",
        "print(min, med, max)"
      ]
    },
    {
      "cell_type": "code",
      "execution_count": 8,
      "metadata": {
        "colab": {
          "base_uri": "https://localhost:8080/"
        },
        "id": "kjY7tZDxb36G",
        "outputId": "015ca13e-a4d8-4463-b0a9-972190e3cd38"
      },
      "outputs": [
        {
          "name": "stdout",
          "output_type": "stream",
          "text": [
            "591\n"
          ]
        }
      ],
      "source": [
        "amplitude = df_palpites.Palpite.max()-df_palpites.Palpite.min()\n",
        "print(amplitude)"
      ]
    },
    {
      "cell_type": "code",
      "execution_count": 9,
      "metadata": {
        "colab": {
          "base_uri": "https://localhost:8080/"
        },
        "id": "feLBPTLAQpEE",
        "outputId": "61dcb93b-b3c5-4939-b7a3-7b5e96c8aeab"
      },
      "outputs": [
        {
          "name": "stdout",
          "output_type": "stream",
          "text": [
            "299.25 491.75 396.5\n"
          ]
        }
      ],
      "source": [
        "Q1 = df_palpites.Palpite.quantile(q=0.25);\n",
        "Q2 = df_palpites.Palpite.quantile(q=0.75);\n",
        "Q3 = df_palpites.Palpite.quantile(q=0.50);\n",
        "\n",
        "print(Q1, Q2, Q3)"
      ]
    },
    {
      "cell_type": "code",
      "execution_count": 10,
      "metadata": {
        "colab": {
          "base_uri": "https://localhost:8080/",
          "height": 300
        },
        "id": "tFPk3CMyTSuo",
        "outputId": "e3fbcda5-b50f-4557-da7d-15f1900740ef"
      },
      "outputs": [
        {
          "data": {
            "text/html": [
              "<div>\n",
              "<style scoped>\n",
              "    .dataframe tbody tr th:only-of-type {\n",
              "        vertical-align: middle;\n",
              "    }\n",
              "\n",
              "    .dataframe tbody tr th {\n",
              "        vertical-align: top;\n",
              "    }\n",
              "\n",
              "    .dataframe thead th {\n",
              "        text-align: right;\n",
              "    }\n",
              "</style>\n",
              "<table border=\"1\" class=\"dataframe\">\n",
              "  <thead>\n",
              "    <tr style=\"text-align: right;\">\n",
              "      <th></th>\n",
              "      <th>Palpite</th>\n",
              "    </tr>\n",
              "  </thead>\n",
              "  <tbody>\n",
              "    <tr>\n",
              "      <th>count</th>\n",
              "      <td>24.000000</td>\n",
              "    </tr>\n",
              "    <tr>\n",
              "      <th>mean</th>\n",
              "      <td>417.083333</td>\n",
              "    </tr>\n",
              "    <tr>\n",
              "      <th>std</th>\n",
              "      <td>138.375330</td>\n",
              "    </tr>\n",
              "    <tr>\n",
              "      <th>min</th>\n",
              "      <td>189.000000</td>\n",
              "    </tr>\n",
              "    <tr>\n",
              "      <th>25%</th>\n",
              "      <td>299.250000</td>\n",
              "    </tr>\n",
              "    <tr>\n",
              "      <th>50%</th>\n",
              "      <td>396.500000</td>\n",
              "    </tr>\n",
              "    <tr>\n",
              "      <th>75%</th>\n",
              "      <td>491.750000</td>\n",
              "    </tr>\n",
              "    <tr>\n",
              "      <th>max</th>\n",
              "      <td>780.000000</td>\n",
              "    </tr>\n",
              "  </tbody>\n",
              "</table>\n",
              "</div>"
            ],
            "text/plain": [
              "          Palpite\n",
              "count   24.000000\n",
              "mean   417.083333\n",
              "std    138.375330\n",
              "min    189.000000\n",
              "25%    299.250000\n",
              "50%    396.500000\n",
              "75%    491.750000\n",
              "max    780.000000"
            ]
          },
          "execution_count": 10,
          "metadata": {},
          "output_type": "execute_result"
        }
      ],
      "source": [
        "df_palpites.describe()"
      ]
    },
    {
      "cell_type": "code",
      "execution_count": 11,
      "metadata": {
        "colab": {
          "base_uri": "https://localhost:8080/"
        },
        "id": "2v_bKqvgQXy1",
        "outputId": "b9839ce5-78d3-4b03-fd7f-ad32ef5d5005"
      },
      "outputs": [
        {
          "name": "stdout",
          "output_type": "stream",
          "text": [
            "97.25\n"
          ]
        }
      ],
      "source": [
        "# Intervalo Interquartil (IQR)\n",
        "# O intervalo interquartil é uma métrica auxiliar para a construção do gráfico de caixas (box-plot), onde consiste em identificar 50% das observações ao redor da mediana (25% para cada lado) e avaliar o espalhamento destes dados. O cálculo do intervalo interquartil é dado por:\n",
        "\n",
        "IQR = (Q3 - Q1)\n",
        "\n",
        "print(IQR)"
      ]
    },
    {
      "cell_type": "code",
      "execution_count": 12,
      "metadata": {
        "colab": {
          "base_uri": "https://localhost:8080/"
        },
        "id": "peyVHBJuVQpd",
        "outputId": "6f6143ee-4416-4777-f218-b4826d167fa1"
      },
      "outputs": [
        {
          "name": "stdout",
          "output_type": "stream",
          "text": [
            "153.375 542.375\n"
          ]
        }
      ],
      "source": [
        "lim_inf = Q1 - (1.5 * IQR)\n",
        "lim_sup = Q3 + (1.5 * IQR)\n",
        "\n",
        "print(lim_inf, lim_sup)"
      ]
    },
    {
      "cell_type": "code",
      "execution_count": 13,
      "metadata": {
        "colab": {
          "base_uri": "https://localhost:8080/"
        },
        "id": "0geGNcwhWnzV",
        "outputId": "d07cdc73-2ea1-4c90-801a-66dd3371a405"
      },
      "outputs": [
        {
          "data": {
            "text/plain": [
              "19147.731884057972"
            ]
          },
          "execution_count": 13,
          "metadata": {},
          "output_type": "execute_result"
        }
      ],
      "source": [
        "df_palpites.Palpite.var()"
      ]
    },
    {
      "cell_type": "code",
      "execution_count": 14,
      "metadata": {
        "colab": {
          "base_uri": "https://localhost:8080/"
        },
        "id": "P9tuXL-PXHrE",
        "outputId": "b3d8ff32-7e6c-4463-e498-52fe172cefa2"
      },
      "outputs": [
        {
          "name": "stdout",
          "output_type": "stream",
          "text": [
            "138.37532975230076\n"
          ]
        }
      ],
      "source": [
        "# Desvio Padrão - Raiz quadrada da variância\n",
        "\n",
        "std = np.sqrt(df_palpites.Palpite.var())\n",
        "print(std)"
      ]
    },
    {
      "cell_type": "code",
      "execution_count": 15,
      "metadata": {
        "colab": {
          "base_uri": "https://localhost:8080/",
          "height": 430
        },
        "id": "g6x4EgqoOI3j",
        "outputId": "f6518257-2bad-47e8-edaa-e323b1ef2a84"
      },
      "outputs": [
        {
          "data": {
            "image/png": "[encoded data removed]",
            "text/plain": [
              "<Figure size 640x480 with 1 Axes>"
            ]
          },
          "metadata": {},
          "output_type": "display_data"
        }
      ],
      "source": [
        "df_palpites.boxplot(column='Palpite');"
      ]
    }
  ],
  "metadata": {
    "colab": {
      "provenance": []
    },
    "kernelspec": {
      "display_name": "Python 3",
      "name": "python3"
    },
    "language_info": {
      "codemirror_mode": {
        "name": "ipython",
        "version": 3
      },
      "file_extension": ".py",
      "mimetype": "text/x-python",
      "name": "python",
      "nbconvert_exporter": "python",
      "pygments_lexer": "ipython3",
      "version": "3.8.10"
    }
  },
  "nbformat": 4,
  "nbformat_minor": 0
}
