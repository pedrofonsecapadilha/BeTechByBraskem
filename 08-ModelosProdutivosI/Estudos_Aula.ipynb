{
  "cells": [
    {
      "cell_type": "markdown",
      "metadata": {
        "id": "i7PrbojrZOVx"
      },
      "source": [
        "# 18/10/2023 - Aula 01 (OK)\n",
        "\n",
        "**MODELOS EM PRODUÇÃO, PORQUE?**\n",
        "\n",
        "Início: 18/10/2023  \n",
        "Término: 08/11/2023\n",
        "\n",
        "* Professor: Felipe Yoshimoto\n",
        "\n",
        "Projeto Final (Critério Avaliativo) - 06/11/2023 (Grupo)\n",
        "\n",
        "Link da Aula: https://colab.research.google.com/drive/1_98NI_wt79je4Ycpz4395jar1X4jXO4r?usp=sharing#scrollTo=8VR-m2zIURSF"
      ]
    },
    {
      "cell_type": "markdown",
      "metadata": {
        "id": "yRAe2hwgQVl5"
      },
      "source": [
        "# 20/10/2023 - Aula 02 (OK)\n",
        "\n",
        "**MODELOS EM PRODUÇÃO, PORQUE?**  \n",
        "**TRANSFORMANDO O CÓDIGO EM PRODUTO**\n",
        "\n",
        "Link da Aula: https://colab.research.google.com/drive/1cC-ZKpHbba8aCdV5PYroUTdwixRSiJKW?usp=sharing"
      ]
    },
    {
      "cell_type": "markdown",
      "metadata": {
        "id": "GTakpWePSd1X"
      },
      "source": [
        "# 23/10/2023 - Aula 03 (Assisti a Gravação - OK)\n",
        "\n",
        "**EFETUANDO E AUTOMATIZANDO O TREINAMENTO USANDO FERRAMENTAS**\n",
        "\n",
        "Conteiner / Docker e Podman\n",
        "\n",
        "Link da Aula: https://colab.research.google.com/drive/1uYI-Tmd270_LysyazWcWPrPXeUaUiI7H?usp=sharing\n"
      ]
    },
    {
      "cell_type": "markdown",
      "metadata": {
        "id": "odqUP40hSgFU"
      },
      "source": [
        "# 25/10/2023 - Aula 04 (OK)\n",
        "\n",
        "**TREINANDO UM MODELO USANDO RECURSOS EM NUVEM**\n",
        "\n",
        "AWS\n",
        "\n",
        "Link da Aula: https://colab.research.google.com/drive/1YcNxxktSNzAYLlt_g2MFLNKshhVhq5LZ?usp=sharing"
      ]
    },
    {
      "cell_type": "markdown",
      "metadata": {
        "id": "FIBxAuxLSgCg"
      },
      "source": [
        "# 27/10/2023 - Aula 05 (OK)\n",
        "\n",
        "**ENDPOINS API, DISPONIBILIZANDO O MODELO PARA CONSUMO**\n",
        "\n",
        "Link da Aula: https://colab.research.google.com/drive/1jwMy58xbrjTSe8UrXLBBEOx04bFbZjsy?usp=sharing"
      ]
    },
    {
      "cell_type": "markdown",
      "metadata": {
        "id": "oi8VHfWkSf_7"
      },
      "source": [
        "# 30/10/2023 - Aula 06\n",
        "\n",
        "**FERRAMENTAS TUDO EM UM**"
      ]
    },
    {
      "cell_type": "markdown",
      "metadata": {
        "id": "u7Ab6vvRSf9N"
      },
      "source": [
        "# 01/11/2023 - Aula 07\n",
        "\n",
        "**TESTES, RETESTES E RETREINOS**"
      ]
    },
    {
      "cell_type": "markdown",
      "metadata": {
        "id": "BjC0DROBSf4y"
      },
      "source": [
        "# 03/11/2023 - Aula 08\n",
        "\n",
        "**MLOPS E CI/CD**"
      ]
    },
    {
      "cell_type": "markdown",
      "metadata": {
        "id": "FSURo1jKSfxH"
      },
      "source": [
        "# 06/11/2023 - Aula 09\n",
        "\n",
        "**PROJETO**"
      ]
    }
  ],
  "metadata": {
    "colab": {
      "provenance": []
    },
    "kernelspec": {
      "display_name": "Python 3",
      "name": "python3"
    },
    "language_info": {
      "name": "python",
      "version": "3.8.10"
    }
  },
  "nbformat": 4,
  "nbformat_minor": 0
}
