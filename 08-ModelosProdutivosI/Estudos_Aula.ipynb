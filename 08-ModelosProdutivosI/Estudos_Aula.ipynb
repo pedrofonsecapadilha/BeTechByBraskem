{
  "nbformat": 4,
  "nbformat_minor": 0,
  "metadata": {
    "colab": {
      "provenance": [],
      "toc_visible": true
    },
    "kernelspec": {
      "name": "python3",
      "display_name": "Python 3"
    },
    "language_info": {
      "name": "python"
    }
  },
  "cells": [
    {
      "cell_type": "markdown",
      "source": [
        "# 18/10/2023 - Aula 01 (FALTEI - EMPREGABILIDADE ADA)\n",
        "\n"
      ],
      "metadata": {
        "id": "i7PrbojrZOVx"
      }
    }
  ]
}