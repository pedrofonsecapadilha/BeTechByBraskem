{
  "cells": [
    {
      "cell_type": "markdown",
      "metadata": {
        "id": "i7PrbojrZOVx"
      },
      "source": [
        "# 18/10/2023 - Aula 01 (FALTEI - EMPREGABILIDADE ADA)\n",
        "\n"
      ]
    }
  ],
  "metadata": {
    "colab": {
      "provenance": [],
      "toc_visible": true
    },
    "kernelspec": {
      "display_name": "Python 3",
      "name": "python3"
    },
    "language_info": {
      "name": "python",
      "version": "3.8.10"
    }
  },
  "nbformat": 4,
  "nbformat_minor": 0
}
