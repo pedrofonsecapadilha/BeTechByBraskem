{
  "cells": [
    {
      "cell_type": "code",
      "execution_count": 4,
      "metadata": {
        "id": "QidSB4VYTcDa"
      },
      "outputs": [],
      "source": [
        "import numpy as np\n",
        "import pandas as pd\n",
        "import matplotlib.pyplot as plt"
      ]
    },
    {
      "cell_type": "code",
      "execution_count": 5,
      "metadata": {
        "id": "VhtPFFrvIt_6"
      },
      "outputs": [],
      "source": [
        "# Caminho via Colab + Drive\n",
        "# death_df = pd.read_csv(\"/content/drive/MyDrive/ADA_Braskem/Curso/4-[DS-PY-004] TÉCNICAS DE PROGRAMAÇÃO I (PY)/datasets/COVID DEATHS.csv\")\n",
        "# vaccinations_df = pd.read_csv(\"/content/drive/MyDrive/ADA_Braskem/Curso/4-[DS-PY-004] TÉCNICAS DE PROGRAMAÇÃO I (PY)/datasets/COVID_VACCINATIONS.csv\")\n",
        "\n",
        "# No VSCode o caminho fica diferente:\n",
        "death_df = pd.read_csv(\"datasets/COVID DEATHS.csv\")\n",
        "vaccinations_df = pd.read_csv(\"datasets/COVID_VACCINATIONS.csv\")"
      ]
    },
    {
      "cell_type": "markdown",
      "metadata": {
        "id": "oK_lbPtQJfXa"
      },
      "source": [
        "# Usando NUMPY"
      ]
    },
    {
      "cell_type": "markdown",
      "metadata": {
        "id": "37Xz-T8Sylrl"
      },
      "source": [
        "## 01 - Os 10 paises com maior população tiveram maiores números, em proporção, de mortes por Covid-19?\n",
        "\n",
        "**Justificativa**: Devido ao número elevado de pessoas no país, e consequentemente, seu recursos de saúde limitados, o número de mortes pela Covid pode ter sido muito maior, do que em paises com menor população."
      ]
    },
    {
      "cell_type": "code",
      "execution_count": 7,
      "metadata": {
        "colab": {
          "base_uri": "https://localhost:8080/"
        },
        "id": "OUGhC53Wu6Ou",
        "outputId": "c78cfc3d-06f4-4523-ade5-2794620f47d8"
      },
      "outputs": [
        {
          "data": {
            "text/plain": [
              "array([('Afghanistan', 41128772, 0.), ('Afghanistan', 41128772, 0.),\n",
              "       ('Afghanistan', 41128772, 0.), ..., ('Zimbabwe', 16320539, 0.),\n",
              "       ('Zimbabwe', 16320539, 0.), ('Zimbabwe', 16320539, 0.)],\n",
              "      dtype=[('location', '<U100'), ('population', '<i8'), ('new_deaths', '<f8')])"
            ]
          },
          "execution_count": 7,
          "metadata": {},
          "output_type": "execute_result"
        }
      ],
      "source": [
        "covid = np.genfromtxt(\n",
        "    \"datasets/COVID DEATHS.csv\",\n",
        "    delimiter=',',\n",
        "    skip_header=1,\n",
        "    dtype=[\n",
        "        ('location', 'U100'),\n",
        "        ('population', int),\n",
        "        ('new_deaths', float)\n",
        "    ],\n",
        "    usecols=(2, 4, 9)\n",
        ")\n",
        "\n",
        "covid"
      ]
    },
    {
      "cell_type": "code",
      "execution_count": 8,
      "metadata": {
        "colab": {
          "base_uri": "https://localhost:8080/"
        },
        "id": "6OxQLYus2LPC",
        "outputId": "a18bb757-8cd6-4818-ce9b-bc2688b4b6e0"
      },
      "outputs": [
        {
          "data": {
            "text/plain": [
              "(255,)"
            ]
          },
          "execution_count": 8,
          "metadata": {},
          "output_type": "execute_result"
        }
      ],
      "source": [
        "unique = np.unique(covid['location'], return_index=True)[1]\n",
        "unique.shape"
      ]
    },
    {
      "cell_type": "code",
      "execution_count": 9,
      "metadata": {
        "colab": {
          "base_uri": "https://localhost:8080/"
        },
        "id": "vZ_QtkPD19Db",
        "outputId": "0aae48dd-5865-44b3-debe-a7f2311c0027"
      },
      "outputs": [
        {
          "data": {
            "text/plain": [
              "(255,)"
            ]
          },
          "execution_count": 9,
          "metadata": {},
          "output_type": "execute_result"
        }
      ],
      "source": [
        "paises = covid['location'][unique]\n",
        "paises.shape"
      ]
    },
    {
      "cell_type": "code",
      "execution_count": 10,
      "metadata": {
        "colab": {
          "base_uri": "https://localhost:8080/"
        },
        "id": "Bi9ofXJJztPc",
        "outputId": "106aef42-824f-4755-c566-9cc138eef4ec"
      },
      "outputs": [
        {
          "data": {
            "text/plain": [
              "array([  41128772, 1426736614,    2842318,   44903228,      44295,\n",
              "            79843,   35588996,      15877,      93772,   45510324,\n",
              "          2780472,     106459, 4721383370,   26177410,    8939617,\n",
              "         10358078,     409989,    1472237,  171186368,     281646,\n",
              "          9534956,   11655923,     405285,   13352864,      64207,\n",
              "           782457,   12224114,      27052,    3233530,    2630300,\n",
              "        215313504,      31332,     449002,    6781955,   22673764,\n",
              "         12889583,   16767851,   27914542,   38454328,     593162,\n",
              "            68722,    5579148,   17723312,   19603736, 1425887360,\n",
              "         51874028,     836783,    5970430,      17032,    5180836,\n",
              "         28160548,    4030361,   11212198,     191173,     896007,\n",
              "         10493990,   99010216,    5882259,    1120851,      72758,\n",
              "         11228821,   18001002,  110990096,    6336393,   56550000,\n",
              "          1674916,    3684041,    1326064,    1201680,  123379928,\n",
              "        744807803,  450146793,      53117,       3801,     929769,\n",
              "          5540745,   67813000,     304568,     306292,    2388997,\n",
              "          2705995,    3744385,   83369840,   33475870,      32677,\n",
              "         10384972,      56494,     125459,     395762,     171783,\n",
              "         17843914,      63329,   13859349,    2105580,     808727,\n",
              "         11585003, 1250514600,   10432858,    7488863,    9967304,\n",
              "           372903, 1417173120,  275501344,   88550568,   44496124,\n",
              "          5023108,      84534,    9449000,   59037472,    2827382,\n",
              "        123951696,     110796,   11285875,   19397998,   54027484,\n",
              "           131237,    1782115,    4268886,    6630621,    7529477,\n",
              "          1850654,    5489744,    2305826,    5302690,    6812344,\n",
              "            39355,    2750058,  737604900, 3432097300,     647601,\n",
              "           695180,   29611718,   20405318,   33938216,     523798,\n",
              "         22593598,     533293,      41593,     367512,    4736146,\n",
              "          1299478,     326113,  127504120,     114178,    3272993,\n",
              "            36491,    3398373,     627082,       4413,   37457976,\n",
              "         32969520,   54179312,    2567024,      12691,   30547586,\n",
              "         17564020,     289959,    5185289,    6948395,   26207982,\n",
              "        218541216,       1952,  600323657,   26069416,    2093606,\n",
              "           382836,    1896000,      49574,    5434324,   45038860,\n",
              "          4576300,  235824864,      18084,    5250076,    4408582,\n",
              "         10142625,    6780745,   34049588,  115559008,         47,\n",
              "         39857144,   10270857,    3252412,    2695131,     974062,\n",
              "         19659270,  144713312,   13776702,      10994,       5401,\n",
              "            47681,     179872,      31816,       5885,     103959,\n",
              "           222390,      33690,     227393,   36408824,    5466000,\n",
              "         17316452,    6871547,     107135,    8605723,    5637022,\n",
              "            44192,    5643455,    2119843,     724272,   17597508,\n",
              "         59893884,  436816679,   51815808,   10913172,   47558632,\n",
              "         21832150,   46874200,     618046,   10549349,    8740471,\n",
              "         22125242,   23893396,    9952789,   65497752,   71697024,\n",
              "          1341298,    8848700,       1893,     106867,    1531043,\n",
              "         12356116,   85341248,    6430777,      45726,      11335,\n",
              "         47249588,   39701744,    9441138,   67508936,  338289856,\n",
              "            99479, 2525921300,    3422796,   34627648,     326744,\n",
              "              808,   28301700,   98186856,    3170000,      11596,\n",
              "           576005, 7975105024,   33696612,   20017670,   16320539])"
            ]
          },
          "execution_count": 10,
          "metadata": {},
          "output_type": "execute_result"
        }
      ],
      "source": [
        "pop = covid['population'][unique]\n",
        "pop\n",
        "# pop.shape\n",
        "# type(pop)"
      ]
    },
    {
      "cell_type": "code",
      "execution_count": 11,
      "metadata": {
        "id": "OibPITWtzLGf"
      },
      "outputs": [],
      "source": [
        "pais = np.unique(covid['location'])"
      ]
    },
    {
      "cell_type": "code",
      "execution_count": 12,
      "metadata": {
        "id": "wmATboTyzT49"
      },
      "outputs": [],
      "source": [
        "copy_covid = covid[~np.isnan(covid['new_deaths'])].copy()"
      ]
    },
    {
      "cell_type": "code",
      "execution_count": 13,
      "metadata": {
        "colab": {
          "base_uri": "https://localhost:8080/"
        },
        "id": "fMa66rpPyPhL",
        "outputId": "1d25b442-0235-45cc-9a08-46df3d2c4375"
      },
      "outputs": [
        {
          "data": {
            "text/plain": [
              "array([['Afghanistan', '7884.0'],\n",
              "       ['Africa', '258851.0'],\n",
              "       ['Albania', '3604.0'],\n",
              "       ['Algeria', '6881.0'],\n",
              "       ['American Samoa', '34.0']], dtype='<U32')"
            ]
          },
          "execution_count": 13,
          "metadata": {},
          "output_type": "execute_result"
        }
      ],
      "source": [
        "cases = [(p, copy_covid[copy_covid['location'] == p]['new_deaths'].sum()) for p in pais]\n",
        "# len(cases)\n",
        "# type(cases)\n",
        "casos = np.array(cases)\n",
        "# casos.shape\n",
        "casos[:5]"
      ]
    },
    {
      "cell_type": "code",
      "execution_count": 14,
      "metadata": {
        "colab": {
          "base_uri": "https://localhost:8080/"
        },
        "id": "1eu-oqmt03hC",
        "outputId": "de897f07-03e9-4746-bf78-cea6d40bbb95"
      },
      "outputs": [
        {
          "data": {
            "text/plain": [
              "array([['41128772', 'Afghanistan', '7884.0'],\n",
              "       ['1426736614', 'Africa', '258851.0'],\n",
              "       ['2842318', 'Albania', '3604.0'],\n",
              "       ['44903228', 'Algeria', '6881.0'],\n",
              "       ['44295', 'American Samoa', '34.0']], dtype='<U32')"
            ]
          },
          "execution_count": 14,
          "metadata": {},
          "output_type": "execute_result"
        }
      ],
      "source": [
        "total_array = np.hstack((pop[:, np.newaxis], casos))\n",
        "total_array[:5]"
      ]
    },
    {
      "cell_type": "code",
      "execution_count": 15,
      "metadata": {
        "colab": {
          "base_uri": "https://localhost:8080/"
        },
        "id": "B4-h5jv4-Wds",
        "outputId": "f5c03585-b6f2-4e7b-994d-0f7efae205b4"
      },
      "outputs": [
        {
          "data": {
            "text/plain": [
              "array([0.01916906, 0.01814287, 0.12679792, 0.01532407, 0.0767581 ])"
            ]
          },
          "execution_count": 15,
          "metadata": {},
          "output_type": "execute_result"
        }
      ],
      "source": [
        "# Calculo da proporção entre mortes e população\n",
        "calc_percent = (total_array[:, 2].astype(float) / total_array[:, 0].astype(float))*100\n",
        "calc_percent[:5]"
      ]
    },
    {
      "cell_type": "code",
      "execution_count": 16,
      "metadata": {
        "colab": {
          "base_uri": "https://localhost:8080/"
        },
        "id": "Xtzzjhk--1cJ",
        "outputId": "d14835da-f7f0-4c8f-bdfe-bd4162c71a39"
      },
      "outputs": [
        {
          "data": {
            "text/plain": [
              "array([['41128772', 'Afghanistan', '7884.0', '0.01916906247529102'],\n",
              "       ['1426736614', 'Africa', '258851.0', '0.0181428721643503'],\n",
              "       ['2842318', 'Albania', '3604.0', '0.12679791634855775'],\n",
              "       ['44903228', 'Algeria', '6881.0', '0.015324065343364624'],\n",
              "       ['44295', 'American Samoa', '34.0', '0.07675809910825149']],\n",
              "      dtype='<U32')"
            ]
          },
          "execution_count": 16,
          "metadata": {},
          "output_type": "execute_result"
        }
      ],
      "source": [
        "result = np.hstack((total_array, calc_percent[:, np.newaxis]))\n",
        "result[:5]\n",
        "# 0-Population\n",
        "# 1-Country\n",
        "# 2-Total Deaths\n",
        "# 3-Proportion"
      ]
    },
    {
      "cell_type": "code",
      "execution_count": 17,
      "metadata": {
        "colab": {
          "base_uri": "https://localhost:8080/"
        },
        "id": "gVbQL8_G7nWB",
        "outputId": "defdc61e-d305-4947-cbb4-d38ab35ad32f"
      },
      "outputs": [
        {
          "name": "stdout",
          "output_type": "stream",
          "text": [
            "[['7975105024' 'World' '6899687.0' '0.08651531207722438']\n",
            " ['4721383370' 'Asia' '1628635.0' '0.034494868820618564']\n",
            " ['3432097300' 'Lower middle income' '1340097.0' '0.039046008398421574']\n",
            " ['2525921300' 'Upper middle income' '2654426.0' '0.10508743878916577']\n",
            " ['1426736614' 'Africa' '258851.0' '0.0181428721643503']\n",
            " ['1425887360' 'China' '120905.0' '0.008479281280675634']\n",
            " ['1417173120' 'India' '531000.0' '0.03746895792096311']\n",
            " ['1250514600' 'High income' '2853330.0' '0.22817246595921392']\n",
            " ['744807803' 'Europe' '2038597.0' '0.27370779304254955']\n",
            " ['737604900' 'Low income' '47890.0' '0.006492635827120996']\n",
            " ['600323657' 'North America' '1594720.0' '0.26564337110573005']\n",
            " ['450146793' 'European Union' '1223798.0' '0.27186642647035364']\n",
            " ['436816679' 'South America' '1352944.0' '0.30972809991992084']\n",
            " ['338289856' 'United States' '1121237.0' '0.3314426903773313']\n",
            " ['275501344' 'Indonesia' '161071.0' '0.05846468756246794']\n",
            " ['235824864' 'Pakistan' '30652.0' '0.01299778126873']\n",
            " ['218541216' 'Nigeria' '3155.0' '0.0014436636062279437']\n",
            " ['215313504' 'Brazil' '700556.0' '0.3253655655522656']\n",
            " ['171186368' 'Bangladesh' '29452.0' '0.017204640967673313']\n",
            " ['144713312' 'Russia' '397642.0' '0.27477914402235504']]\n"
          ]
        }
      ],
      "source": [
        "# Análise Top10 países por maior população\n",
        "\n",
        "sorted_indices = np.argsort(result[:, 0].astype(int))[::-1]\n",
        "sorted_array = result[sorted_indices]\n",
        "print(sorted_array[:20])\n",
        "# Países com maior população, indices (5,6,13,14,15,16,17,18,19,20)"
      ]
    },
    {
      "cell_type": "code",
      "execution_count": 18,
      "metadata": {
        "colab": {
          "base_uri": "https://localhost:8080/"
        },
        "id": "PcfZn0Tv9OiP",
        "outputId": "72e8660a-2daf-432f-e78a-6ee43f0373e3"
      },
      "outputs": [
        {
          "data": {
            "text/plain": [
              "array([['1425887360', 'China', '120905.0', '0.008479281280675634'],\n",
              "       ['1417173120', 'India', '531000.0', '0.03746895792096311'],\n",
              "       ['338289856', 'United States', '1121237.0', '0.3314426903773313'],\n",
              "       ['275501344', 'Indonesia', '161071.0', '0.05846468756246794'],\n",
              "       ['235824864', 'Pakistan', '30652.0', '0.01299778126873'],\n",
              "       ['218541216', 'Nigeria', '3155.0', '0.0014436636062279437'],\n",
              "       ['215313504', 'Brazil', '700556.0', '0.3253655655522656'],\n",
              "       ['171186368', 'Bangladesh', '29452.0', '0.017204640967673313'],\n",
              "       ['144713312', 'Russia', '397642.0', '0.27477914402235504'],\n",
              "       ['127504120', 'Mexico', '333596.0', '0.2616354671519634']],\n",
              "      dtype='<U32')"
            ]
          },
          "execution_count": 18,
          "metadata": {},
          "output_type": "execute_result"
        }
      ],
      "source": [
        "top10_i = [5,6,13,14,15,16,17,18,19,20]\n",
        "top10_pop = sorted_array[top10_i]\n",
        "top10_pop"
      ]
    },
    {
      "cell_type": "code",
      "execution_count": 19,
      "metadata": {
        "id": "iCNnNJvUBZa8"
      },
      "outputs": [],
      "source": [
        "# Análise Top10 países por maior número de morte proporcionais %\n",
        "\n",
        "sorted_indices = np.argsort(result[:, 3].astype(float))[::-1]\n",
        "sorted_array = result[sorted_indices]"
      ]
    },
    {
      "cell_type": "code",
      "execution_count": 20,
      "metadata": {
        "colab": {
          "base_uri": "https://localhost:8080/"
        },
        "id": "tNZfTPIrFEcQ",
        "outputId": "ec346159-8cfe-489d-a298-94f1a2d72efe"
      },
      "outputs": [
        {
          "name": "stdout",
          "output_type": "stream",
          "text": [
            "[['34049588' 'Peru' '219866.0' '0.645722937969176']\n",
            " ['6781955' 'Bulgaria' '38282.0' '0.5644685050254683']\n",
            " ['3233530' 'Bosnia and Herzegovina' '16328.0' '0.5049589767220345']\n",
            " ['9967304' 'Hungary' '48719.0' '0.4887881417081289']\n",
            " ['2093606' 'North Macedonia' '9667.0' '0.461739219318248']\n",
            " ['3744385' 'Georgia' '17032.0' '0.4548677553189643']\n",
            " ['4030361' 'Croatia' '18091.0' '0.4488679798162001']\n",
            " ['627082' 'Montenegro' '2808.0' '0.4477883275233542']\n",
            " ['2119843' 'Slovenia' '9230.0' '0.43540960344704777']\n",
            " ['10493990' 'Czechia' '42702.0' '0.40691862675683893']]\n"
          ]
        }
      ],
      "source": [
        "print(sorted_array[:10])"
      ]
    },
    {
      "cell_type": "markdown",
      "metadata": {
        "id": "krIt3MyyEHKN"
      },
      "source": [
        "### Conclusão\n",
        "Os TOP10 com maior população não necessariamente possuíram os maiores números de mortes proporcionais.\n",
        "\n",
        "TOP10 - População e % de mortes\n",
        "\n",
        "* China - 0,008%\n",
        "* India - 0,037%\n",
        "* United States - 0,331%\n",
        "* Indonesia - 0,058%\n",
        "* Pakistan - 0,012%\n",
        "* Nigeria - 0,001%\n",
        "* Brazil - 0,325%\n",
        "* Bangladesh - 0,017%\n",
        "* Russia - 0,274%\n",
        "* Mexico - 0,261%\n",
        "\n",
        "TOP10 - Maiores % de mortes\n",
        "\n",
        "* Peru - 0,645%\n",
        "* Bulgaria - 0,564%\n",
        "* Bosnia and Herzegovina - 0,504%\n",
        "* Hungary - 0,488%\n",
        "* North Macedonia - 0,461%\n",
        "* Georgia - 0,454%\n",
        "* Croatia - 0,448%\n",
        "* Montenegro - 0,447%\n",
        "* Slovenia - 0,435%\n",
        "* Czechia - 0,406%"
      ]
    },
    {
      "cell_type": "markdown",
      "metadata": {
        "id": "PwVNp7HDA9-e"
      },
      "source": [
        "## 10 - Quais foram os 5 países com maior % de mortes em relação a sua população total?\n",
        "\n",
        "**Justificativa:** Verficar se houve alguma relação entre localização (continente) e contaminção."
      ]
    },
    {
      "cell_type": "code",
      "execution_count": 22,
      "metadata": {
        "colab": {
          "base_uri": "https://localhost:8080/"
        },
        "id": "SaslU37tBNFx",
        "outputId": "daafb21c-5037-454d-f87c-362f8804c676"
      },
      "outputs": [
        {
          "data": {
            "text/plain": [
              "array([('Afghanistan', 'Asia', 41128772, 0.),\n",
              "       ('Afghanistan', 'Asia', 41128772, 0.),\n",
              "       ('Afghanistan', 'Asia', 41128772, 0.), ...,\n",
              "       ('Zimbabwe', 'Africa', 16320539, 0.),\n",
              "       ('Zimbabwe', 'Africa', 16320539, 0.),\n",
              "       ('Zimbabwe', 'Africa', 16320539, 0.)],\n",
              "      dtype=[('location', '<U100'), ('continent', '<U100'), ('population', '<i8'), ('new_deaths', '<f8')])"
            ]
          },
          "execution_count": 22,
          "metadata": {},
          "output_type": "execute_result"
        }
      ],
      "source": [
        "covid = np.genfromtxt(\n",
        "    \"datasets/COVID DEATHS.csv\",\n",
        "    delimiter=',',\n",
        "    skip_header=1,\n",
        "    dtype=[\n",
        "        ('location', 'U100'),\n",
        "        ('continent', 'U100'),\n",
        "        ('population', int),\n",
        "        ('new_deaths', float)\n",
        "    ],\n",
        "    usecols=(2, 1, 4, 9)\n",
        ")\n",
        "\n",
        "covid"
      ]
    },
    {
      "cell_type": "code",
      "execution_count": 23,
      "metadata": {
        "colab": {
          "base_uri": "https://localhost:8080/"
        },
        "id": "MBYON20L9tc7",
        "outputId": "c1fac844-426b-40b8-961a-1ba3ceabf3eb"
      },
      "outputs": [
        {
          "data": {
            "text/plain": [
              "array([     0,   1196,   2392,   3588,   4784,   5980,   7176,   8372,\n",
              "         9568,  10764,  11966,  13162,  14363,  15564,  16761,  17963,\n",
              "        19159,  20355,  21551,  22752,  23948,  25144,  26340,  27536,\n",
              "        28732,  29928,  31124,  32320,  33516,  34712,  35908,  37104,\n",
              "        38300,  39496,  40697,  41893,  43089,  44285,  45481,  46677,\n",
              "        47873,  49069,  50265,  51461,  52663,  53859,  55055,  56251,\n",
              "        57447,  58643,  59839,  61035,  62231,  63430,  64626,  65822,\n",
              "        67023,  68219,  69415,  70611,  71807,  73003,  74199,  75395,\n",
              "        76591,  77710,  78906,  80102,  81298,  82494,  83690,  84891,\n",
              "        86092,  87288,  88484,  89685,  90881,  92081,  93277,  94473,\n",
              "        95669,  96865,  98061,  99263, 100459, 101655, 102856, 104052,\n",
              "       105248, 106444, 107640, 108836, 110032, 111228, 112424, 113620,\n",
              "       114816, 116017, 117213, 118385, 119581, 120777, 121978, 123174,\n",
              "       124370, 125566, 126762, 127958, 129160, 130361, 131557, 132757,\n",
              "       133953, 135149, 136345, 137541, 138737, 139933, 141129, 142330,\n",
              "       143526, 144722, 145918, 147114, 148310, 149506, 150702, 151903,\n",
              "       153099, 154300, 155496, 156291, 157487, 158683, 159884, 161080,\n",
              "       162276, 163472, 164668, 165864, 167060, 168256, 169452, 170650,\n",
              "       171846, 173042, 174238, 175434, 176630, 177826, 179022, 180218,\n",
              "       181414, 182610, 183806, 185002, 186202, 187403, 188599, 189795,\n",
              "       190991, 192187, 193383, 194584, 195780, 196976, 197667, 198805,\n",
              "       200001, 201197, 202398, 203594, 204790, 205986, 207182, 208378,\n",
              "       209574, 210770, 211967, 213163, 214359, 215559, 216755, 217951,\n",
              "       219147, 220343, 221539, 222741, 223937, 225133, 226329, 227525,\n",
              "       228721, 229917, 231113, 232309, 233510, 234706, 235902, 237098,\n",
              "       238222, 239418, 240619, 241815, 243011, 244207, 245403, 246599,\n",
              "       247795, 248991, 250187, 251383, 252584, 253780, 254976, 256172,\n",
              "       257368, 258564, 259759, 260961, 262162, 263358, 264546, 265742,\n",
              "       266938, 268134, 269330, 270526, 271722, 272918, 274114, 275310,\n",
              "       276506, 277702, 278898, 280094, 281290, 282486, 283682, 284878,\n",
              "       286078, 287274, 288475, 289676, 290872, 292068, 293264, 294460,\n",
              "       295656, 296763, 297959, 297960, 299161, 300357, 301553])"
            ]
          },
          "execution_count": 23,
          "metadata": {},
          "output_type": "execute_result"
        }
      ],
      "source": [
        "unique = np.unique(covid[['location', 'continent']], return_index=True, axis=0)[1]\n",
        "unique"
      ]
    },
    {
      "cell_type": "code",
      "execution_count": 24,
      "metadata": {
        "colab": {
          "base_uri": "https://localhost:8080/"
        },
        "id": "KxScdl_Q9tdC",
        "outputId": "94827b26-b277-426c-b59e-6aec7626024f"
      },
      "outputs": [
        {
          "data": {
            "text/plain": [
              "array([('Afghanistan', 'Asia',   41128772, 0.),\n",
              "       ('Africa', '', 1426736614, 0.),\n",
              "       ('Albania', 'Europe',    2842318, 0.),\n",
              "       ('Algeria', 'Africa',   44903228, 0.),\n",
              "       ('American Samoa', 'Oceania',      44295, 0.)],\n",
              "      dtype=[('location', '<U100'), ('continent', '<U100'), ('population', '<i8'), ('new_deaths', '<f8')])"
            ]
          },
          "execution_count": 24,
          "metadata": {},
          "output_type": "execute_result"
        }
      ],
      "source": [
        "paises = covid[unique]\n",
        "paises[:5]"
      ]
    },
    {
      "cell_type": "code",
      "execution_count": 25,
      "metadata": {
        "colab": {
          "base_uri": "https://localhost:8080/"
        },
        "id": "74zc16pi9tdD",
        "outputId": "5a937156-b821-470f-8f2d-4cac609bb0e9"
      },
      "outputs": [
        {
          "data": {
            "text/plain": [
              "array([  41128772, 1426736614,    2842318,   44903228,      44295])"
            ]
          },
          "execution_count": 25,
          "metadata": {},
          "output_type": "execute_result"
        }
      ],
      "source": [
        "pop = covid['population'][unique]\n",
        "pop[:5]"
      ]
    },
    {
      "cell_type": "code",
      "execution_count": 26,
      "metadata": {
        "colab": {
          "base_uri": "https://localhost:8080/"
        },
        "id": "woFjuRTM9tdD",
        "outputId": "11dc164a-cfdf-4e98-9ca6-9344316c7446"
      },
      "outputs": [
        {
          "data": {
            "text/plain": [
              "(255,)"
            ]
          },
          "execution_count": 26,
          "metadata": {},
          "output_type": "execute_result"
        }
      ],
      "source": [
        "pais = np.unique(covid['location'])\n",
        "pais.shape"
      ]
    },
    {
      "cell_type": "code",
      "execution_count": 27,
      "metadata": {
        "colab": {
          "base_uri": "https://localhost:8080/"
        },
        "id": "rNDg4DexAORW",
        "outputId": "010d7fc6-b05b-4cf1-d193-fd28cba40db2"
      },
      "outputs": [
        {
          "data": {
            "text/plain": [
              "(255,)"
            ]
          },
          "execution_count": 27,
          "metadata": {},
          "output_type": "execute_result"
        }
      ],
      "source": [
        "continente = covid['continent'][unique]\n",
        "continente.shape"
      ]
    },
    {
      "cell_type": "code",
      "execution_count": 28,
      "metadata": {
        "id": "l_eN1KTP9tdE"
      },
      "outputs": [],
      "source": [
        "copy_covid = covid[~np.isnan(covid['new_deaths'])].copy()"
      ]
    },
    {
      "cell_type": "code",
      "execution_count": 29,
      "metadata": {
        "colab": {
          "base_uri": "https://localhost:8080/"
        },
        "id": "vfjm-nPj9tdE",
        "outputId": "68a6954e-33d4-4319-c273-1a1d70e97fdb"
      },
      "outputs": [
        {
          "data": {
            "text/plain": [
              "array([['Afghanistan', '7884.0'],\n",
              "       ['Africa', '258851.0'],\n",
              "       ['Albania', '3604.0'],\n",
              "       ['Algeria', '6881.0'],\n",
              "       ['American Samoa', '34.0']], dtype='<U32')"
            ]
          },
          "execution_count": 29,
          "metadata": {},
          "output_type": "execute_result"
        }
      ],
      "source": [
        "cases = [(p, copy_covid[copy_covid['location'] == p]['new_deaths'].sum()) for p in pais]\n",
        "casos = np.array(cases)\n",
        "casos[:5]"
      ]
    },
    {
      "cell_type": "code",
      "execution_count": 30,
      "metadata": {
        "colab": {
          "base_uri": "https://localhost:8080/"
        },
        "id": "ReI72C0-9tdE",
        "outputId": "24f0b7c7-1f61-4705-9aaa-6df3d8f040b1"
      },
      "outputs": [
        {
          "data": {
            "text/plain": [
              "array([['Asia', '41128772', 'Afghanistan', '7884.0'],\n",
              "       ['', '1426736614', 'Africa', '258851.0'],\n",
              "       ['Europe', '2842318', 'Albania', '3604.0'],\n",
              "       ['Africa', '44903228', 'Algeria', '6881.0'],\n",
              "       ['Oceania', '44295', 'American Samoa', '34.0']], dtype='<U100')"
            ]
          },
          "execution_count": 30,
          "metadata": {},
          "output_type": "execute_result"
        }
      ],
      "source": [
        "total_array = np.hstack((pop[:, np.newaxis], casos))\n",
        "total_array = np.hstack((continente[:, np.newaxis], total_array))\n",
        "total_array[:5]"
      ]
    },
    {
      "cell_type": "code",
      "execution_count": 31,
      "metadata": {
        "colab": {
          "base_uri": "https://localhost:8080/"
        },
        "id": "t3CfFPhg9tdE",
        "outputId": "4a23b8c0-9b4b-444e-bdb2-8bcd76557f8d"
      },
      "outputs": [
        {
          "data": {
            "text/plain": [
              "array([0.01916906, 0.01814287, 0.12679792, 0.01532407, 0.0767581 ])"
            ]
          },
          "execution_count": 31,
          "metadata": {},
          "output_type": "execute_result"
        }
      ],
      "source": [
        "# Calculo da proporção entre mortes e população\n",
        "calc_percent = (total_array[:, 3].astype(float) / total_array[:, 1].astype(float))*100\n",
        "calc_percent[:5]"
      ]
    },
    {
      "cell_type": "code",
      "execution_count": 32,
      "metadata": {
        "colab": {
          "base_uri": "https://localhost:8080/"
        },
        "id": "X6LwsaBo9tdE",
        "outputId": "f2630192-0bef-4db7-a6ff-46bb70382888"
      },
      "outputs": [
        {
          "data": {
            "text/plain": [
              "array([['Asia', '41128772', 'Afghanistan', '7884.0',\n",
              "        '0.01916906247529102'],\n",
              "       ['', '1426736614', 'Africa', '258851.0', '0.0181428721643503'],\n",
              "       ['Europe', '2842318', 'Albania', '3604.0', '0.12679791634855775'],\n",
              "       ['Africa', '44903228', 'Algeria', '6881.0',\n",
              "        '0.015324065343364624'],\n",
              "       ['Oceania', '44295', 'American Samoa', '34.0',\n",
              "        '0.07675809910825149']], dtype='<U100')"
            ]
          },
          "execution_count": 32,
          "metadata": {},
          "output_type": "execute_result"
        }
      ],
      "source": [
        "result = np.hstack((total_array, calc_percent[:, np.newaxis]))\n",
        "result[:5]\n",
        "# 0-Continente\n",
        "# 1-Population\n",
        "# 2-Country\n",
        "# 3-Total Deaths\n",
        "# 4-Proportion"
      ]
    },
    {
      "cell_type": "code",
      "execution_count": 33,
      "metadata": {
        "colab": {
          "base_uri": "https://localhost:8080/"
        },
        "id": "Gvp311cI9tdF",
        "outputId": "42ff77cc-7661-4b9d-cfe4-52743a2360ef"
      },
      "outputs": [
        {
          "name": "stdout",
          "output_type": "stream",
          "text": [
            "[['South America' '34049588' 'Peru' '219866.0' '0.645722937969176']\n",
            " ['Europe' '6781955' 'Bulgaria' '38282.0' '0.5644685050254683']\n",
            " ['Europe' '3233530' 'Bosnia and Herzegovina' '16328.0'\n",
            "  '0.5049589767220345']\n",
            " ['Europe' '9967304' 'Hungary' '48719.0' '0.4887881417081289']\n",
            " ['Europe' '2093606' 'North Macedonia' '9667.0' '0.461739219318248']]\n"
          ]
        }
      ],
      "source": [
        "# Análise Top5 países por maior número de morte percentuais %\n",
        "\n",
        "sorted_indices = np.argsort(result[:, 4].astype(float))[::-1]\n",
        "sorted_array = result[sorted_indices]\n",
        "print(sorted_array[:5])"
      ]
    },
    {
      "cell_type": "markdown",
      "metadata": {
        "id": "-ZpbWaAs9tdF"
      },
      "source": [
        "### Conclusão\n",
        "Os TOP5 países com maior % de mortes são na maioria países da Europa, pode ser que haja correlação!\n",
        "\n",
        "TOP5 - Países com maior % de mortes e seus continentes\n",
        "\n",
        "* Peru - South America - 0.64%\n",
        "* Bulgaria - Europe - 0.56%\n",
        "* Bosnia and Herzegovina - Europe - 0.50%\n",
        "* Hungary - Europe - 0.48%\n",
        "* North Macedonia - Europe - 0.46"
      ]
    },
    {
      "cell_type": "markdown",
      "metadata": {
        "id": "Xh7fVJIMayeu"
      },
      "source": []
    },
    {
      "cell_type": "markdown",
      "metadata": {
        "id": "UgTmYfPsKk24"
      },
      "source": [
        "# Usando PANDAS"
      ]
    },
    {
      "cell_type": "markdown",
      "metadata": {
        "id": "_2UQjsvaa2Vb"
      },
      "source": [
        "## 02 - Países com maior índice de rigidez nas restrições tem uma taxa de mortalidade menor?\n",
        "\n",
        "**Justificativa:** Verficar se as medidas restritivas auxiliou na diminuição da taxa de mortalidade\n",
        "\n",
        "Obs.: Taxa de mortalidade = Total de Mortes / habitantes"
      ]
    },
    {
      "cell_type": "code",
      "execution_count": 34,
      "metadata": {
        "colab": {
          "base_uri": "https://localhost:8080/",
          "height": 488
        },
        "id": "g0KOMW4wa-A0",
        "outputId": "dd30bae5-be80-44d7-8321-cdb826621988"
      },
      "outputs": [
        {
          "data": {
            "text/html": [
              "<div>\n",
              "<style scoped>\n",
              "    .dataframe tbody tr th:only-of-type {\n",
              "        vertical-align: middle;\n",
              "    }\n",
              "\n",
              "    .dataframe tbody tr th {\n",
              "        vertical-align: top;\n",
              "    }\n",
              "\n",
              "    .dataframe thead th {\n",
              "        text-align: right;\n",
              "    }\n",
              "</style>\n",
              "<table border=\"1\" class=\"dataframe\">\n",
              "  <thead>\n",
              "    <tr style=\"text-align: right;\">\n",
              "      <th></th>\n",
              "      <th>iso_code</th>\n",
              "      <th>continent</th>\n",
              "      <th>location</th>\n",
              "      <th>date</th>\n",
              "      <th>population</th>\n",
              "      <th>total_cases</th>\n",
              "      <th>new_cases</th>\n",
              "      <th>new_cases_smoothed</th>\n",
              "      <th>total_deaths</th>\n",
              "      <th>new_deaths</th>\n",
              "      <th>...</th>\n",
              "      <th>new_deaths_smoothed_per_million</th>\n",
              "      <th>reproduction_rate</th>\n",
              "      <th>icu_patients</th>\n",
              "      <th>icu_patients_per_million</th>\n",
              "      <th>hosp_patients</th>\n",
              "      <th>hosp_patients_per_million</th>\n",
              "      <th>weekly_icu_admissions</th>\n",
              "      <th>weekly_icu_admissions_per_million</th>\n",
              "      <th>weekly_hosp_admissions</th>\n",
              "      <th>weekly_hosp_admissions_per_million</th>\n",
              "    </tr>\n",
              "  </thead>\n",
              "  <tbody>\n",
              "    <tr>\n",
              "      <th>0</th>\n",
              "      <td>AFG</td>\n",
              "      <td>Asia</td>\n",
              "      <td>Afghanistan</td>\n",
              "      <td>1/3/2020</td>\n",
              "      <td>41128772</td>\n",
              "      <td>NaN</td>\n",
              "      <td>0.0</td>\n",
              "      <td>NaN</td>\n",
              "      <td>NaN</td>\n",
              "      <td>0.0</td>\n",
              "      <td>...</td>\n",
              "      <td>NaN</td>\n",
              "      <td>NaN</td>\n",
              "      <td>NaN</td>\n",
              "      <td>NaN</td>\n",
              "      <td>NaN</td>\n",
              "      <td>NaN</td>\n",
              "      <td>NaN</td>\n",
              "      <td>NaN</td>\n",
              "      <td>NaN</td>\n",
              "      <td>NaN</td>\n",
              "    </tr>\n",
              "    <tr>\n",
              "      <th>1</th>\n",
              "      <td>AFG</td>\n",
              "      <td>Asia</td>\n",
              "      <td>Afghanistan</td>\n",
              "      <td>1/4/2020</td>\n",
              "      <td>41128772</td>\n",
              "      <td>NaN</td>\n",
              "      <td>0.0</td>\n",
              "      <td>NaN</td>\n",
              "      <td>NaN</td>\n",
              "      <td>0.0</td>\n",
              "      <td>...</td>\n",
              "      <td>NaN</td>\n",
              "      <td>NaN</td>\n",
              "      <td>NaN</td>\n",
              "      <td>NaN</td>\n",
              "      <td>NaN</td>\n",
              "      <td>NaN</td>\n",
              "      <td>NaN</td>\n",
              "      <td>NaN</td>\n",
              "      <td>NaN</td>\n",
              "      <td>NaN</td>\n",
              "    </tr>\n",
              "    <tr>\n",
              "      <th>2</th>\n",
              "      <td>AFG</td>\n",
              "      <td>Asia</td>\n",
              "      <td>Afghanistan</td>\n",
              "      <td>1/5/2020</td>\n",
              "      <td>41128772</td>\n",
              "      <td>NaN</td>\n",
              "      <td>0.0</td>\n",
              "      <td>NaN</td>\n",
              "      <td>NaN</td>\n",
              "      <td>0.0</td>\n",
              "      <td>...</td>\n",
              "      <td>NaN</td>\n",
              "      <td>NaN</td>\n",
              "      <td>NaN</td>\n",
              "      <td>NaN</td>\n",
              "      <td>NaN</td>\n",
              "      <td>NaN</td>\n",
              "      <td>NaN</td>\n",
              "      <td>NaN</td>\n",
              "      <td>NaN</td>\n",
              "      <td>NaN</td>\n",
              "    </tr>\n",
              "    <tr>\n",
              "      <th>3</th>\n",
              "      <td>AFG</td>\n",
              "      <td>Asia</td>\n",
              "      <td>Afghanistan</td>\n",
              "      <td>1/6/2020</td>\n",
              "      <td>41128772</td>\n",
              "      <td>NaN</td>\n",
              "      <td>0.0</td>\n",
              "      <td>NaN</td>\n",
              "      <td>NaN</td>\n",
              "      <td>0.0</td>\n",
              "      <td>...</td>\n",
              "      <td>NaN</td>\n",
              "      <td>NaN</td>\n",
              "      <td>NaN</td>\n",
              "      <td>NaN</td>\n",
              "      <td>NaN</td>\n",
              "      <td>NaN</td>\n",
              "      <td>NaN</td>\n",
              "      <td>NaN</td>\n",
              "      <td>NaN</td>\n",
              "      <td>NaN</td>\n",
              "    </tr>\n",
              "    <tr>\n",
              "      <th>4</th>\n",
              "      <td>AFG</td>\n",
              "      <td>Asia</td>\n",
              "      <td>Afghanistan</td>\n",
              "      <td>1/7/2020</td>\n",
              "      <td>41128772</td>\n",
              "      <td>NaN</td>\n",
              "      <td>0.0</td>\n",
              "      <td>NaN</td>\n",
              "      <td>NaN</td>\n",
              "      <td>0.0</td>\n",
              "      <td>...</td>\n",
              "      <td>NaN</td>\n",
              "      <td>NaN</td>\n",
              "      <td>NaN</td>\n",
              "      <td>NaN</td>\n",
              "      <td>NaN</td>\n",
              "      <td>NaN</td>\n",
              "      <td>NaN</td>\n",
              "      <td>NaN</td>\n",
              "      <td>NaN</td>\n",
              "      <td>NaN</td>\n",
              "    </tr>\n",
              "    <tr>\n",
              "      <th>...</th>\n",
              "      <td>...</td>\n",
              "      <td>...</td>\n",
              "      <td>...</td>\n",
              "      <td>...</td>\n",
              "      <td>...</td>\n",
              "      <td>...</td>\n",
              "      <td>...</td>\n",
              "      <td>...</td>\n",
              "      <td>...</td>\n",
              "      <td>...</td>\n",
              "      <td>...</td>\n",
              "      <td>...</td>\n",
              "      <td>...</td>\n",
              "      <td>...</td>\n",
              "      <td>...</td>\n",
              "      <td>...</td>\n",
              "      <td>...</td>\n",
              "      <td>...</td>\n",
              "      <td>...</td>\n",
              "      <td>...</td>\n",
              "      <td>...</td>\n",
              "    </tr>\n",
              "    <tr>\n",
              "      <th>95</th>\n",
              "      <td>AFG</td>\n",
              "      <td>Asia</td>\n",
              "      <td>Afghanistan</td>\n",
              "      <td>4/7/2020</td>\n",
              "      <td>41128772</td>\n",
              "      <td>367.0</td>\n",
              "      <td>30.0</td>\n",
              "      <td>28.714</td>\n",
              "      <td>11.0</td>\n",
              "      <td>4.0</td>\n",
              "      <td>...</td>\n",
              "      <td>0.024</td>\n",
              "      <td>1.49</td>\n",
              "      <td>NaN</td>\n",
              "      <td>NaN</td>\n",
              "      <td>NaN</td>\n",
              "      <td>NaN</td>\n",
              "      <td>NaN</td>\n",
              "      <td>NaN</td>\n",
              "      <td>NaN</td>\n",
              "      <td>NaN</td>\n",
              "    </tr>\n",
              "    <tr>\n",
              "      <th>96</th>\n",
              "      <td>AFG</td>\n",
              "      <td>Asia</td>\n",
              "      <td>Afghanistan</td>\n",
              "      <td>4/8/2020</td>\n",
              "      <td>41128772</td>\n",
              "      <td>423.0</td>\n",
              "      <td>56.0</td>\n",
              "      <td>33.000</td>\n",
              "      <td>14.0</td>\n",
              "      <td>3.0</td>\n",
              "      <td>...</td>\n",
              "      <td>0.035</td>\n",
              "      <td>1.48</td>\n",
              "      <td>NaN</td>\n",
              "      <td>NaN</td>\n",
              "      <td>NaN</td>\n",
              "      <td>NaN</td>\n",
              "      <td>NaN</td>\n",
              "      <td>NaN</td>\n",
              "      <td>NaN</td>\n",
              "      <td>NaN</td>\n",
              "    </tr>\n",
              "    <tr>\n",
              "      <th>97</th>\n",
              "      <td>AFG</td>\n",
              "      <td>Asia</td>\n",
              "      <td>Afghanistan</td>\n",
              "      <td>4/9/2020</td>\n",
              "      <td>41128772</td>\n",
              "      <td>444.0</td>\n",
              "      <td>21.0</td>\n",
              "      <td>29.857</td>\n",
              "      <td>15.0</td>\n",
              "      <td>1.0</td>\n",
              "      <td>...</td>\n",
              "      <td>0.038</td>\n",
              "      <td>1.48</td>\n",
              "      <td>NaN</td>\n",
              "      <td>NaN</td>\n",
              "      <td>NaN</td>\n",
              "      <td>NaN</td>\n",
              "      <td>NaN</td>\n",
              "      <td>NaN</td>\n",
              "      <td>NaN</td>\n",
              "      <td>NaN</td>\n",
              "    </tr>\n",
              "    <tr>\n",
              "      <th>98</th>\n",
              "      <td>AFG</td>\n",
              "      <td>Asia</td>\n",
              "      <td>Afghanistan</td>\n",
              "      <td>4/10/2020</td>\n",
              "      <td>41128772</td>\n",
              "      <td>521.0</td>\n",
              "      <td>77.0</td>\n",
              "      <td>36.000</td>\n",
              "      <td>15.0</td>\n",
              "      <td>0.0</td>\n",
              "      <td>...</td>\n",
              "      <td>0.035</td>\n",
              "      <td>1.48</td>\n",
              "      <td>NaN</td>\n",
              "      <td>NaN</td>\n",
              "      <td>NaN</td>\n",
              "      <td>NaN</td>\n",
              "      <td>NaN</td>\n",
              "      <td>NaN</td>\n",
              "      <td>NaN</td>\n",
              "      <td>NaN</td>\n",
              "    </tr>\n",
              "    <tr>\n",
              "      <th>99</th>\n",
              "      <td>AFG</td>\n",
              "      <td>Asia</td>\n",
              "      <td>Afghanistan</td>\n",
              "      <td>4/11/2020</td>\n",
              "      <td>41128772</td>\n",
              "      <td>521.0</td>\n",
              "      <td>0.0</td>\n",
              "      <td>35.857</td>\n",
              "      <td>15.0</td>\n",
              "      <td>0.0</td>\n",
              "      <td>...</td>\n",
              "      <td>0.035</td>\n",
              "      <td>1.48</td>\n",
              "      <td>NaN</td>\n",
              "      <td>NaN</td>\n",
              "      <td>NaN</td>\n",
              "      <td>NaN</td>\n",
              "      <td>NaN</td>\n",
              "      <td>NaN</td>\n",
              "      <td>NaN</td>\n",
              "      <td>NaN</td>\n",
              "    </tr>\n",
              "  </tbody>\n",
              "</table>\n",
              "<p>100 rows × 26 columns</p>\n",
              "</div>"
            ],
            "text/plain": [
              "   iso_code continent     location       date  population  total_cases  \\\n",
              "0       AFG      Asia  Afghanistan   1/3/2020    41128772          NaN   \n",
              "1       AFG      Asia  Afghanistan   1/4/2020    41128772          NaN   \n",
              "2       AFG      Asia  Afghanistan   1/5/2020    41128772          NaN   \n",
              "3       AFG      Asia  Afghanistan   1/6/2020    41128772          NaN   \n",
              "4       AFG      Asia  Afghanistan   1/7/2020    41128772          NaN   \n",
              "..      ...       ...          ...        ...         ...          ...   \n",
              "95      AFG      Asia  Afghanistan   4/7/2020    41128772        367.0   \n",
              "96      AFG      Asia  Afghanistan   4/8/2020    41128772        423.0   \n",
              "97      AFG      Asia  Afghanistan   4/9/2020    41128772        444.0   \n",
              "98      AFG      Asia  Afghanistan  4/10/2020    41128772        521.0   \n",
              "99      AFG      Asia  Afghanistan  4/11/2020    41128772        521.0   \n",
              "\n",
              "    new_cases  new_cases_smoothed  total_deaths  new_deaths  ...  \\\n",
              "0         0.0                 NaN           NaN         0.0  ...   \n",
              "1         0.0                 NaN           NaN         0.0  ...   \n",
              "2         0.0                 NaN           NaN         0.0  ...   \n",
              "3         0.0                 NaN           NaN         0.0  ...   \n",
              "4         0.0                 NaN           NaN         0.0  ...   \n",
              "..        ...                 ...           ...         ...  ...   \n",
              "95       30.0              28.714          11.0         4.0  ...   \n",
              "96       56.0              33.000          14.0         3.0  ...   \n",
              "97       21.0              29.857          15.0         1.0  ...   \n",
              "98       77.0              36.000          15.0         0.0  ...   \n",
              "99        0.0              35.857          15.0         0.0  ...   \n",
              "\n",
              "    new_deaths_smoothed_per_million  reproduction_rate  icu_patients  \\\n",
              "0                               NaN                NaN           NaN   \n",
              "1                               NaN                NaN           NaN   \n",
              "2                               NaN                NaN           NaN   \n",
              "3                               NaN                NaN           NaN   \n",
              "4                               NaN                NaN           NaN   \n",
              "..                              ...                ...           ...   \n",
              "95                            0.024               1.49           NaN   \n",
              "96                            0.035               1.48           NaN   \n",
              "97                            0.038               1.48           NaN   \n",
              "98                            0.035               1.48           NaN   \n",
              "99                            0.035               1.48           NaN   \n",
              "\n",
              "    icu_patients_per_million  hosp_patients  hosp_patients_per_million  \\\n",
              "0                        NaN            NaN                        NaN   \n",
              "1                        NaN            NaN                        NaN   \n",
              "2                        NaN            NaN                        NaN   \n",
              "3                        NaN            NaN                        NaN   \n",
              "4                        NaN            NaN                        NaN   \n",
              "..                       ...            ...                        ...   \n",
              "95                       NaN            NaN                        NaN   \n",
              "96                       NaN            NaN                        NaN   \n",
              "97                       NaN            NaN                        NaN   \n",
              "98                       NaN            NaN                        NaN   \n",
              "99                       NaN            NaN                        NaN   \n",
              "\n",
              "    weekly_icu_admissions  weekly_icu_admissions_per_million  \\\n",
              "0                     NaN                                NaN   \n",
              "1                     NaN                                NaN   \n",
              "2                     NaN                                NaN   \n",
              "3                     NaN                                NaN   \n",
              "4                     NaN                                NaN   \n",
              "..                    ...                                ...   \n",
              "95                    NaN                                NaN   \n",
              "96                    NaN                                NaN   \n",
              "97                    NaN                                NaN   \n",
              "98                    NaN                                NaN   \n",
              "99                    NaN                                NaN   \n",
              "\n",
              "    weekly_hosp_admissions  weekly_hosp_admissions_per_million  \n",
              "0                      NaN                                 NaN  \n",
              "1                      NaN                                 NaN  \n",
              "2                      NaN                                 NaN  \n",
              "3                      NaN                                 NaN  \n",
              "4                      NaN                                 NaN  \n",
              "..                     ...                                 ...  \n",
              "95                     NaN                                 NaN  \n",
              "96                     NaN                                 NaN  \n",
              "97                     NaN                                 NaN  \n",
              "98                     NaN                                 NaN  \n",
              "99                     NaN                                 NaN  \n",
              "\n",
              "[100 rows x 26 columns]"
            ]
          },
          "execution_count": 34,
          "metadata": {},
          "output_type": "execute_result"
        }
      ],
      "source": [
        "covid_df = pd.read_csv(\"datasets/COVID DEATHS.csv\")\n",
        "covid_df.head(100)"
      ]
    },
    {
      "cell_type": "code",
      "execution_count": 35,
      "metadata": {
        "colab": {
          "base_uri": "https://localhost:8080/",
          "height": 424
        },
        "id": "3uuHZnRYdvfM",
        "outputId": "e82a57a2-4166-415e-df49-9b1cc50ca690"
      },
      "outputs": [
        {
          "data": {
            "text/html": [
              "<div>\n",
              "<style scoped>\n",
              "    .dataframe tbody tr th:only-of-type {\n",
              "        vertical-align: middle;\n",
              "    }\n",
              "\n",
              "    .dataframe tbody tr th {\n",
              "        vertical-align: top;\n",
              "    }\n",
              "\n",
              "    .dataframe thead th {\n",
              "        text-align: right;\n",
              "    }\n",
              "</style>\n",
              "<table border=\"1\" class=\"dataframe\">\n",
              "  <thead>\n",
              "    <tr style=\"text-align: right;\">\n",
              "      <th></th>\n",
              "      <th>location</th>\n",
              "      <th>population</th>\n",
              "      <th>new_deaths</th>\n",
              "    </tr>\n",
              "  </thead>\n",
              "  <tbody>\n",
              "    <tr>\n",
              "      <th>0</th>\n",
              "      <td>Afghanistan</td>\n",
              "      <td>41128772</td>\n",
              "      <td>0.0</td>\n",
              "    </tr>\n",
              "    <tr>\n",
              "      <th>1</th>\n",
              "      <td>Afghanistan</td>\n",
              "      <td>41128772</td>\n",
              "      <td>0.0</td>\n",
              "    </tr>\n",
              "    <tr>\n",
              "      <th>2</th>\n",
              "      <td>Afghanistan</td>\n",
              "      <td>41128772</td>\n",
              "      <td>0.0</td>\n",
              "    </tr>\n",
              "    <tr>\n",
              "      <th>3</th>\n",
              "      <td>Afghanistan</td>\n",
              "      <td>41128772</td>\n",
              "      <td>0.0</td>\n",
              "    </tr>\n",
              "    <tr>\n",
              "      <th>4</th>\n",
              "      <td>Afghanistan</td>\n",
              "      <td>41128772</td>\n",
              "      <td>0.0</td>\n",
              "    </tr>\n",
              "    <tr>\n",
              "      <th>...</th>\n",
              "      <td>...</td>\n",
              "      <td>...</td>\n",
              "      <td>...</td>\n",
              "    </tr>\n",
              "    <tr>\n",
              "      <th>302744</th>\n",
              "      <td>Zimbabwe</td>\n",
              "      <td>16320539</td>\n",
              "      <td>1.0</td>\n",
              "    </tr>\n",
              "    <tr>\n",
              "      <th>302745</th>\n",
              "      <td>Zimbabwe</td>\n",
              "      <td>16320539</td>\n",
              "      <td>0.0</td>\n",
              "    </tr>\n",
              "    <tr>\n",
              "      <th>302746</th>\n",
              "      <td>Zimbabwe</td>\n",
              "      <td>16320539</td>\n",
              "      <td>0.0</td>\n",
              "    </tr>\n",
              "    <tr>\n",
              "      <th>302747</th>\n",
              "      <td>Zimbabwe</td>\n",
              "      <td>16320539</td>\n",
              "      <td>0.0</td>\n",
              "    </tr>\n",
              "    <tr>\n",
              "      <th>302748</th>\n",
              "      <td>Zimbabwe</td>\n",
              "      <td>16320539</td>\n",
              "      <td>0.0</td>\n",
              "    </tr>\n",
              "  </tbody>\n",
              "</table>\n",
              "<p>302749 rows × 3 columns</p>\n",
              "</div>"
            ],
            "text/plain": [
              "           location  population  new_deaths\n",
              "0       Afghanistan    41128772         0.0\n",
              "1       Afghanistan    41128772         0.0\n",
              "2       Afghanistan    41128772         0.0\n",
              "3       Afghanistan    41128772         0.0\n",
              "4       Afghanistan    41128772         0.0\n",
              "...             ...         ...         ...\n",
              "302744     Zimbabwe    16320539         1.0\n",
              "302745     Zimbabwe    16320539         0.0\n",
              "302746     Zimbabwe    16320539         0.0\n",
              "302747     Zimbabwe    16320539         0.0\n",
              "302748     Zimbabwe    16320539         0.0\n",
              "\n",
              "[302749 rows x 3 columns]"
            ]
          },
          "execution_count": 35,
          "metadata": {},
          "output_type": "execute_result"
        }
      ],
      "source": [
        "ex = covid_df.iloc[:, [2,4,9]]\n",
        "ex"
      ]
    },
    {
      "cell_type": "code",
      "execution_count": 36,
      "metadata": {
        "colab": {
          "base_uri": "https://localhost:8080/"
        },
        "id": "0mCM5nxhel6k",
        "outputId": "0c7f4a79-2624-494d-f8d4-42779b1f25ee"
      },
      "outputs": [
        {
          "name": "stdout",
          "output_type": "stream",
          "text": [
            "<class 'pandas.core.frame.DataFrame'>\n",
            "Index: 255 entries, 0 to 301553\n",
            "Data columns (total 2 columns):\n",
            " #   Column      Non-Null Count  Dtype \n",
            "---  ------      --------------  ----- \n",
            " 0   location    255 non-null    object\n",
            " 1   population  255 non-null    int64 \n",
            "dtypes: int64(1), object(1)\n",
            "memory usage: 6.0+ KB\n"
          ]
        }
      ],
      "source": [
        "loc_pop = covid_df[['location', 'population']].drop_duplicates()\n",
        "loc_pop.info()"
      ]
    },
    {
      "cell_type": "code",
      "execution_count": 37,
      "metadata": {
        "colab": {
          "base_uri": "https://localhost:8080/"
        },
        "id": "SkHekhXJc4eR",
        "outputId": "2c49f4a3-3dcf-4696-f8a1-9169d76f03eb"
      },
      "outputs": [
        {
          "name": "stdout",
          "output_type": "stream",
          "text": [
            "<class 'pandas.core.series.Series'>\n",
            "Index: 255 entries, Afghanistan to Zimbabwe\n",
            "Series name: new_deaths\n",
            "Non-Null Count  Dtype  \n",
            "--------------  -----  \n",
            "255 non-null    float64\n",
            "dtypes: float64(1)\n",
            "memory usage: 4.0+ KB\n"
          ]
        }
      ],
      "source": [
        "nd_sum = covid_df.groupby('location')['new_deaths'].sum()\n",
        "nd_sum.info()"
      ]
    },
    {
      "cell_type": "code",
      "execution_count": 38,
      "metadata": {
        "colab": {
          "base_uri": "https://localhost:8080/",
          "height": 424
        },
        "id": "MGyN36EsfGCn",
        "outputId": "a424e195-4cdd-4e9f-cdc9-7e42041ddc43"
      },
      "outputs": [
        {
          "data": {
            "text/html": [
              "<div>\n",
              "<style scoped>\n",
              "    .dataframe tbody tr th:only-of-type {\n",
              "        vertical-align: middle;\n",
              "    }\n",
              "\n",
              "    .dataframe tbody tr th {\n",
              "        vertical-align: top;\n",
              "    }\n",
              "\n",
              "    .dataframe thead th {\n",
              "        text-align: right;\n",
              "    }\n",
              "</style>\n",
              "<table border=\"1\" class=\"dataframe\">\n",
              "  <thead>\n",
              "    <tr style=\"text-align: right;\">\n",
              "      <th></th>\n",
              "      <th>location</th>\n",
              "      <th>population</th>\n",
              "      <th>new_deaths</th>\n",
              "    </tr>\n",
              "  </thead>\n",
              "  <tbody>\n",
              "    <tr>\n",
              "      <th>0</th>\n",
              "      <td>Afghanistan</td>\n",
              "      <td>41128772</td>\n",
              "      <td>7884.0</td>\n",
              "    </tr>\n",
              "    <tr>\n",
              "      <th>1</th>\n",
              "      <td>Africa</td>\n",
              "      <td>1426736614</td>\n",
              "      <td>258851.0</td>\n",
              "    </tr>\n",
              "    <tr>\n",
              "      <th>2</th>\n",
              "      <td>Albania</td>\n",
              "      <td>2842318</td>\n",
              "      <td>3604.0</td>\n",
              "    </tr>\n",
              "    <tr>\n",
              "      <th>3</th>\n",
              "      <td>Algeria</td>\n",
              "      <td>44903228</td>\n",
              "      <td>6881.0</td>\n",
              "    </tr>\n",
              "    <tr>\n",
              "      <th>4</th>\n",
              "      <td>American Samoa</td>\n",
              "      <td>44295</td>\n",
              "      <td>34.0</td>\n",
              "    </tr>\n",
              "    <tr>\n",
              "      <th>...</th>\n",
              "      <td>...</td>\n",
              "      <td>...</td>\n",
              "      <td>...</td>\n",
              "    </tr>\n",
              "    <tr>\n",
              "      <th>250</th>\n",
              "      <td>Western Sahara</td>\n",
              "      <td>576005</td>\n",
              "      <td>0.0</td>\n",
              "    </tr>\n",
              "    <tr>\n",
              "      <th>251</th>\n",
              "      <td>World</td>\n",
              "      <td>7975105024</td>\n",
              "      <td>6899687.0</td>\n",
              "    </tr>\n",
              "    <tr>\n",
              "      <th>252</th>\n",
              "      <td>Yemen</td>\n",
              "      <td>33696612</td>\n",
              "      <td>2159.0</td>\n",
              "    </tr>\n",
              "    <tr>\n",
              "      <th>253</th>\n",
              "      <td>Zambia</td>\n",
              "      <td>20017670</td>\n",
              "      <td>4057.0</td>\n",
              "    </tr>\n",
              "    <tr>\n",
              "      <th>254</th>\n",
              "      <td>Zimbabwe</td>\n",
              "      <td>16320539</td>\n",
              "      <td>5685.0</td>\n",
              "    </tr>\n",
              "  </tbody>\n",
              "</table>\n",
              "<p>255 rows × 3 columns</p>\n",
              "</div>"
            ],
            "text/plain": [
              "           location  population  new_deaths\n",
              "0       Afghanistan    41128772      7884.0\n",
              "1            Africa  1426736614    258851.0\n",
              "2           Albania     2842318      3604.0\n",
              "3           Algeria    44903228      6881.0\n",
              "4    American Samoa       44295        34.0\n",
              "..              ...         ...         ...\n",
              "250  Western Sahara      576005         0.0\n",
              "251           World  7975105024   6899687.0\n",
              "252           Yemen    33696612      2159.0\n",
              "253          Zambia    20017670      4057.0\n",
              "254        Zimbabwe    16320539      5685.0\n",
              "\n",
              "[255 rows x 3 columns]"
            ]
          },
          "execution_count": 38,
          "metadata": {},
          "output_type": "execute_result"
        }
      ],
      "source": [
        "result = loc_pop.merge(nd_sum, on='location')\n",
        "result"
      ]
    },
    {
      "cell_type": "code",
      "execution_count": 39,
      "metadata": {
        "colab": {
          "base_uri": "https://localhost:8080/",
          "height": 424
        },
        "id": "oaMRG6FvffcH",
        "outputId": "913fdb98-06ce-4e24-e473-80d21cbf5449"
      },
      "outputs": [
        {
          "data": {
            "text/html": [
              "<div>\n",
              "<style scoped>\n",
              "    .dataframe tbody tr th:only-of-type {\n",
              "        vertical-align: middle;\n",
              "    }\n",
              "\n",
              "    .dataframe tbody tr th {\n",
              "        vertical-align: top;\n",
              "    }\n",
              "\n",
              "    .dataframe thead th {\n",
              "        text-align: right;\n",
              "    }\n",
              "</style>\n",
              "<table border=\"1\" class=\"dataframe\">\n",
              "  <thead>\n",
              "    <tr style=\"text-align: right;\">\n",
              "      <th></th>\n",
              "      <th>location</th>\n",
              "      <th>population</th>\n",
              "      <th>new_deaths</th>\n",
              "      <th>tx</th>\n",
              "    </tr>\n",
              "  </thead>\n",
              "  <tbody>\n",
              "    <tr>\n",
              "      <th>0</th>\n",
              "      <td>Afghanistan</td>\n",
              "      <td>41128772</td>\n",
              "      <td>7884.0</td>\n",
              "      <td>0.019169</td>\n",
              "    </tr>\n",
              "    <tr>\n",
              "      <th>1</th>\n",
              "      <td>Africa</td>\n",
              "      <td>1426736614</td>\n",
              "      <td>258851.0</td>\n",
              "      <td>0.018143</td>\n",
              "    </tr>\n",
              "    <tr>\n",
              "      <th>2</th>\n",
              "      <td>Albania</td>\n",
              "      <td>2842318</td>\n",
              "      <td>3604.0</td>\n",
              "      <td>0.126798</td>\n",
              "    </tr>\n",
              "    <tr>\n",
              "      <th>3</th>\n",
              "      <td>Algeria</td>\n",
              "      <td>44903228</td>\n",
              "      <td>6881.0</td>\n",
              "      <td>0.015324</td>\n",
              "    </tr>\n",
              "    <tr>\n",
              "      <th>4</th>\n",
              "      <td>American Samoa</td>\n",
              "      <td>44295</td>\n",
              "      <td>34.0</td>\n",
              "      <td>0.076758</td>\n",
              "    </tr>\n",
              "    <tr>\n",
              "      <th>...</th>\n",
              "      <td>...</td>\n",
              "      <td>...</td>\n",
              "      <td>...</td>\n",
              "      <td>...</td>\n",
              "    </tr>\n",
              "    <tr>\n",
              "      <th>250</th>\n",
              "      <td>Western Sahara</td>\n",
              "      <td>576005</td>\n",
              "      <td>0.0</td>\n",
              "      <td>0.000000</td>\n",
              "    </tr>\n",
              "    <tr>\n",
              "      <th>251</th>\n",
              "      <td>World</td>\n",
              "      <td>7975105024</td>\n",
              "      <td>6899687.0</td>\n",
              "      <td>0.086515</td>\n",
              "    </tr>\n",
              "    <tr>\n",
              "      <th>252</th>\n",
              "      <td>Yemen</td>\n",
              "      <td>33696612</td>\n",
              "      <td>2159.0</td>\n",
              "      <td>0.006407</td>\n",
              "    </tr>\n",
              "    <tr>\n",
              "      <th>253</th>\n",
              "      <td>Zambia</td>\n",
              "      <td>20017670</td>\n",
              "      <td>4057.0</td>\n",
              "      <td>0.020267</td>\n",
              "    </tr>\n",
              "    <tr>\n",
              "      <th>254</th>\n",
              "      <td>Zimbabwe</td>\n",
              "      <td>16320539</td>\n",
              "      <td>5685.0</td>\n",
              "      <td>0.034833</td>\n",
              "    </tr>\n",
              "  </tbody>\n",
              "</table>\n",
              "<p>255 rows × 4 columns</p>\n",
              "</div>"
            ],
            "text/plain": [
              "           location  population  new_deaths        tx\n",
              "0       Afghanistan    41128772      7884.0  0.019169\n",
              "1            Africa  1426736614    258851.0  0.018143\n",
              "2           Albania     2842318      3604.0  0.126798\n",
              "3           Algeria    44903228      6881.0  0.015324\n",
              "4    American Samoa       44295        34.0  0.076758\n",
              "..              ...         ...         ...       ...\n",
              "250  Western Sahara      576005         0.0  0.000000\n",
              "251           World  7975105024   6899687.0  0.086515\n",
              "252           Yemen    33696612      2159.0  0.006407\n",
              "253          Zambia    20017670      4057.0  0.020267\n",
              "254        Zimbabwe    16320539      5685.0  0.034833\n",
              "\n",
              "[255 rows x 4 columns]"
            ]
          },
          "execution_count": 39,
          "metadata": {},
          "output_type": "execute_result"
        }
      ],
      "source": [
        "result['tx'] = (result['new_deaths'] / result['population'])*100\n",
        "result"
      ]
    },
    {
      "cell_type": "code",
      "execution_count": 40,
      "metadata": {
        "colab": {
          "base_uri": "https://localhost:8080/",
          "height": 363
        },
        "id": "DL81jrXTfuCu",
        "outputId": "34f05029-380c-4a5c-b075-1d0584a711b2"
      },
      "outputs": [
        {
          "data": {
            "text/html": [
              "<div>\n",
              "<style scoped>\n",
              "    .dataframe tbody tr th:only-of-type {\n",
              "        vertical-align: middle;\n",
              "    }\n",
              "\n",
              "    .dataframe tbody tr th {\n",
              "        vertical-align: top;\n",
              "    }\n",
              "\n",
              "    .dataframe thead th {\n",
              "        text-align: right;\n",
              "    }\n",
              "</style>\n",
              "<table border=\"1\" class=\"dataframe\">\n",
              "  <thead>\n",
              "    <tr style=\"text-align: right;\">\n",
              "      <th></th>\n",
              "      <th>location</th>\n",
              "      <th>population</th>\n",
              "      <th>new_deaths</th>\n",
              "      <th>tx</th>\n",
              "    </tr>\n",
              "  </thead>\n",
              "  <tbody>\n",
              "    <tr>\n",
              "      <th>161</th>\n",
              "      <td>Niue</td>\n",
              "      <td>1952</td>\n",
              "      <td>0.0</td>\n",
              "      <td>0.0</td>\n",
              "    </tr>\n",
              "    <tr>\n",
              "      <th>163</th>\n",
              "      <td>North Korea</td>\n",
              "      <td>26069416</td>\n",
              "      <td>0.0</td>\n",
              "      <td>0.0</td>\n",
              "    </tr>\n",
              "    <tr>\n",
              "      <th>130</th>\n",
              "      <td>Macao</td>\n",
              "      <td>695180</td>\n",
              "      <td>0.0</td>\n",
              "      <td>0.0</td>\n",
              "    </tr>\n",
              "    <tr>\n",
              "      <th>98</th>\n",
              "      <td>Hong Kong</td>\n",
              "      <td>7488863</td>\n",
              "      <td>0.0</td>\n",
              "      <td>0.0</td>\n",
              "    </tr>\n",
              "    <tr>\n",
              "      <th>199</th>\n",
              "      <td>Scotland</td>\n",
              "      <td>5466000</td>\n",
              "      <td>0.0</td>\n",
              "      <td>0.0</td>\n",
              "    </tr>\n",
              "    <tr>\n",
              "      <th>227</th>\n",
              "      <td>Tokelau</td>\n",
              "      <td>1893</td>\n",
              "      <td>0.0</td>\n",
              "      <td>0.0</td>\n",
              "    </tr>\n",
              "    <tr>\n",
              "      <th>189</th>\n",
              "      <td>Saint Helena</td>\n",
              "      <td>5401</td>\n",
              "      <td>0.0</td>\n",
              "      <td>0.0</td>\n",
              "    </tr>\n",
              "    <tr>\n",
              "      <th>232</th>\n",
              "      <td>Turkmenistan</td>\n",
              "      <td>6430777</td>\n",
              "      <td>0.0</td>\n",
              "      <td>0.0</td>\n",
              "    </tr>\n",
              "    <tr>\n",
              "      <th>234</th>\n",
              "      <td>Tuvalu</td>\n",
              "      <td>11335</td>\n",
              "      <td>0.0</td>\n",
              "      <td>0.0</td>\n",
              "    </tr>\n",
              "    <tr>\n",
              "      <th>64</th>\n",
              "      <td>England</td>\n",
              "      <td>56550000</td>\n",
              "      <td>0.0</td>\n",
              "      <td>0.0</td>\n",
              "    </tr>\n",
              "  </tbody>\n",
              "</table>\n",
              "</div>"
            ],
            "text/plain": [
              "         location  population  new_deaths   tx\n",
              "161          Niue        1952         0.0  0.0\n",
              "163   North Korea    26069416         0.0  0.0\n",
              "130         Macao      695180         0.0  0.0\n",
              "98      Hong Kong     7488863         0.0  0.0\n",
              "199      Scotland     5466000         0.0  0.0\n",
              "227       Tokelau        1893         0.0  0.0\n",
              "189  Saint Helena        5401         0.0  0.0\n",
              "232  Turkmenistan     6430777         0.0  0.0\n",
              "234        Tuvalu       11335         0.0  0.0\n",
              "64        England    56550000         0.0  0.0"
            ]
          },
          "execution_count": 40,
          "metadata": {},
          "output_type": "execute_result"
        }
      ],
      "source": [
        "result.sort_values(by='tx', ascending=True).head(10)"
      ]
    },
    {
      "cell_type": "markdown",
      "metadata": {
        "id": "3Q7b0UzwgDxz"
      },
      "source": [
        "### Conclusão\n",
        "Nesse caso teria que fazer uma análise conjunta com as medidas restritivas adotadas em cada um dos países com menores taxas de mortalidade."
      ]
    },
    {
      "cell_type": "markdown",
      "metadata": {
        "id": "iETnBJxEgi65"
      },
      "source": [
        "## 03 - Países que testaram mais pessoas tiveram menos casos positivos de Covid-19?\n",
        "\n",
        "**Justificativa:** Verificar se países que testaram mais conseguiram isolar essas pessoas e consequentemente ter menos casos positivos no geral"
      ]
    },
    {
      "cell_type": "code",
      "execution_count": 41,
      "metadata": {
        "id": "WgQ68hZqg7nw"
      },
      "outputs": [],
      "source": [
        "death_df = pd.read_csv(\"datasets/COVID DEATHS.csv\")\n",
        "vaccinations_df = pd.read_csv(\"datasets/COVID_VACCINATIONS.csv\")"
      ]
    },
    {
      "cell_type": "code",
      "execution_count": 42,
      "metadata": {
        "colab": {
          "base_uri": "https://localhost:8080/",
          "height": 424
        },
        "id": "Is9cMg1hlLvV",
        "outputId": "7d7eff01-fb29-42ff-8449-3e5910fcab30"
      },
      "outputs": [
        {
          "data": {
            "text/html": [
              "<div>\n",
              "<style scoped>\n",
              "    .dataframe tbody tr th:only-of-type {\n",
              "        vertical-align: middle;\n",
              "    }\n",
              "\n",
              "    .dataframe tbody tr th {\n",
              "        vertical-align: top;\n",
              "    }\n",
              "\n",
              "    .dataframe thead th {\n",
              "        text-align: right;\n",
              "    }\n",
              "</style>\n",
              "<table border=\"1\" class=\"dataframe\">\n",
              "  <thead>\n",
              "    <tr style=\"text-align: right;\">\n",
              "      <th></th>\n",
              "      <th>location</th>\n",
              "      <th>new_cases</th>\n",
              "    </tr>\n",
              "  </thead>\n",
              "  <tbody>\n",
              "    <tr>\n",
              "      <th>0</th>\n",
              "      <td>Afghanistan</td>\n",
              "      <td>211631.0</td>\n",
              "    </tr>\n",
              "    <tr>\n",
              "      <th>1</th>\n",
              "      <td>Africa</td>\n",
              "      <td>13075600.0</td>\n",
              "    </tr>\n",
              "    <tr>\n",
              "      <th>2</th>\n",
              "      <td>Albania</td>\n",
              "      <td>333897.0</td>\n",
              "    </tr>\n",
              "    <tr>\n",
              "      <th>3</th>\n",
              "      <td>Algeria</td>\n",
              "      <td>271613.0</td>\n",
              "    </tr>\n",
              "    <tr>\n",
              "      <th>4</th>\n",
              "      <td>American Samoa</td>\n",
              "      <td>8326.0</td>\n",
              "    </tr>\n",
              "    <tr>\n",
              "      <th>...</th>\n",
              "      <td>...</td>\n",
              "      <td>...</td>\n",
              "    </tr>\n",
              "    <tr>\n",
              "      <th>250</th>\n",
              "      <td>Western Sahara</td>\n",
              "      <td>0.0</td>\n",
              "    </tr>\n",
              "    <tr>\n",
              "      <th>251</th>\n",
              "      <td>World</td>\n",
              "      <td>763128258.0</td>\n",
              "    </tr>\n",
              "    <tr>\n",
              "      <th>252</th>\n",
              "      <td>Yemen</td>\n",
              "      <td>11945.0</td>\n",
              "    </tr>\n",
              "    <tr>\n",
              "      <th>253</th>\n",
              "      <td>Zambia</td>\n",
              "      <td>343415.0</td>\n",
              "    </tr>\n",
              "    <tr>\n",
              "      <th>254</th>\n",
              "      <td>Zimbabwe</td>\n",
              "      <td>264584.0</td>\n",
              "    </tr>\n",
              "  </tbody>\n",
              "</table>\n",
              "<p>255 rows × 2 columns</p>\n",
              "</div>"
            ],
            "text/plain": [
              "           location    new_cases\n",
              "0       Afghanistan     211631.0\n",
              "1            Africa   13075600.0\n",
              "2           Albania     333897.0\n",
              "3           Algeria     271613.0\n",
              "4    American Samoa       8326.0\n",
              "..              ...          ...\n",
              "250  Western Sahara          0.0\n",
              "251           World  763128258.0\n",
              "252           Yemen      11945.0\n",
              "253          Zambia     343415.0\n",
              "254        Zimbabwe     264584.0\n",
              "\n",
              "[255 rows x 2 columns]"
            ]
          },
          "execution_count": 42,
          "metadata": {},
          "output_type": "execute_result"
        }
      ],
      "source": [
        "nc_sum = death_df.groupby('location')['new_cases'].sum().reset_index()\n",
        "nc_sum"
      ]
    },
    {
      "cell_type": "code",
      "execution_count": 43,
      "metadata": {
        "colab": {
          "base_uri": "https://localhost:8080/",
          "height": 677
        },
        "id": "CtvRz9QWip26",
        "outputId": "cac0b750-4927-4740-fa19-78f0405c4184"
      },
      "outputs": [
        {
          "data": {
            "text/html": [
              "<div>\n",
              "<style scoped>\n",
              "    .dataframe tbody tr th:only-of-type {\n",
              "        vertical-align: middle;\n",
              "    }\n",
              "\n",
              "    .dataframe tbody tr th {\n",
              "        vertical-align: top;\n",
              "    }\n",
              "\n",
              "    .dataframe thead th {\n",
              "        text-align: right;\n",
              "    }\n",
              "</style>\n",
              "<table border=\"1\" class=\"dataframe\">\n",
              "  <thead>\n",
              "    <tr style=\"text-align: right;\">\n",
              "      <th></th>\n",
              "      <th>location</th>\n",
              "      <th>new_cases</th>\n",
              "    </tr>\n",
              "  </thead>\n",
              "  <tbody>\n",
              "    <tr>\n",
              "      <th>251</th>\n",
              "      <td>World</td>\n",
              "      <td>763128258.0</td>\n",
              "    </tr>\n",
              "    <tr>\n",
              "      <th>96</th>\n",
              "      <td>High income</td>\n",
              "      <td>419283550.0</td>\n",
              "    </tr>\n",
              "    <tr>\n",
              "      <th>12</th>\n",
              "      <td>Asia</td>\n",
              "      <td>295847337.0</td>\n",
              "    </tr>\n",
              "    <tr>\n",
              "      <th>70</th>\n",
              "      <td>Europe</td>\n",
              "      <td>248182478.0</td>\n",
              "    </tr>\n",
              "    <tr>\n",
              "      <th>241</th>\n",
              "      <td>Upper middle income</td>\n",
              "      <td>243254393.0</td>\n",
              "    </tr>\n",
              "    <tr>\n",
              "      <th>71</th>\n",
              "      <td>European Union</td>\n",
              "      <td>183460552.0</td>\n",
              "    </tr>\n",
              "    <tr>\n",
              "      <th>162</th>\n",
              "      <td>North America</td>\n",
              "      <td>123493697.0</td>\n",
              "    </tr>\n",
              "    <tr>\n",
              "      <th>239</th>\n",
              "      <td>United States</td>\n",
              "      <td>102873924.0</td>\n",
              "    </tr>\n",
              "    <tr>\n",
              "      <th>44</th>\n",
              "      <td>China</td>\n",
              "      <td>99239252.0</td>\n",
              "    </tr>\n",
              "    <tr>\n",
              "      <th>128</th>\n",
              "      <td>Lower middle income</td>\n",
              "      <td>97088159.0</td>\n",
              "    </tr>\n",
              "    <tr>\n",
              "      <th>211</th>\n",
              "      <td>South America</td>\n",
              "      <td>68341184.0</td>\n",
              "    </tr>\n",
              "    <tr>\n",
              "      <th>101</th>\n",
              "      <td>India</td>\n",
              "      <td>44768926.0</td>\n",
              "    </tr>\n",
              "    <tr>\n",
              "      <th>76</th>\n",
              "      <td>France</td>\n",
              "      <td>38791479.0</td>\n",
              "    </tr>\n",
              "    <tr>\n",
              "      <th>82</th>\n",
              "      <td>Germany</td>\n",
              "      <td>38368891.0</td>\n",
              "    </tr>\n",
              "    <tr>\n",
              "      <th>30</th>\n",
              "      <td>Brazil</td>\n",
              "      <td>37319827.0</td>\n",
              "    </tr>\n",
              "    <tr>\n",
              "      <th>110</th>\n",
              "      <td>Japan</td>\n",
              "      <td>33523927.0</td>\n",
              "    </tr>\n",
              "    <tr>\n",
              "      <th>212</th>\n",
              "      <td>South Korea</td>\n",
              "      <td>30918060.0</td>\n",
              "    </tr>\n",
              "    <tr>\n",
              "      <th>108</th>\n",
              "      <td>Italy</td>\n",
              "      <td>25715384.0</td>\n",
              "    </tr>\n",
              "    <tr>\n",
              "      <th>238</th>\n",
              "      <td>United Kingdom</td>\n",
              "      <td>24330379.0</td>\n",
              "    </tr>\n",
              "    <tr>\n",
              "      <th>186</th>\n",
              "      <td>Russia</td>\n",
              "      <td>22727542.0</td>\n",
              "    </tr>\n",
              "  </tbody>\n",
              "</table>\n",
              "</div>"
            ],
            "text/plain": [
              "                location    new_cases\n",
              "251                World  763128258.0\n",
              "96           High income  419283550.0\n",
              "12                  Asia  295847337.0\n",
              "70                Europe  248182478.0\n",
              "241  Upper middle income  243254393.0\n",
              "71        European Union  183460552.0\n",
              "162        North America  123493697.0\n",
              "239        United States  102873924.0\n",
              "44                 China   99239252.0\n",
              "128  Lower middle income   97088159.0\n",
              "211        South America   68341184.0\n",
              "101                India   44768926.0\n",
              "76                France   38791479.0\n",
              "82               Germany   38368891.0\n",
              "30                Brazil   37319827.0\n",
              "110                Japan   33523927.0\n",
              "212          South Korea   30918060.0\n",
              "108                Italy   25715384.0\n",
              "238       United Kingdom   24330379.0\n",
              "186               Russia   22727542.0"
            ]
          },
          "execution_count": 43,
          "metadata": {},
          "output_type": "execute_result"
        }
      ],
      "source": [
        "nc_sum_sort = nc_sum.sort_values(by='new_cases', ascending=False)\n",
        "nc_sum_sort.head(20)\n",
        "# Index dos top5 países: 239,44,101,76,82"
      ]
    },
    {
      "cell_type": "code",
      "execution_count": 44,
      "metadata": {
        "colab": {
          "base_uri": "https://localhost:8080/",
          "height": 206
        },
        "id": "5EqpggYImdnF",
        "outputId": "12086132-450d-43fc-cf0a-36dd93461c61"
      },
      "outputs": [
        {
          "data": {
            "text/html": [
              "<div>\n",
              "<style scoped>\n",
              "    .dataframe tbody tr th:only-of-type {\n",
              "        vertical-align: middle;\n",
              "    }\n",
              "\n",
              "    .dataframe tbody tr th {\n",
              "        vertical-align: top;\n",
              "    }\n",
              "\n",
              "    .dataframe thead th {\n",
              "        text-align: right;\n",
              "    }\n",
              "</style>\n",
              "<table border=\"1\" class=\"dataframe\">\n",
              "  <thead>\n",
              "    <tr style=\"text-align: right;\">\n",
              "      <th></th>\n",
              "      <th>location</th>\n",
              "      <th>new_cases</th>\n",
              "    </tr>\n",
              "  </thead>\n",
              "  <tbody>\n",
              "    <tr>\n",
              "      <th>239</th>\n",
              "      <td>United States</td>\n",
              "      <td>102873924.0</td>\n",
              "    </tr>\n",
              "    <tr>\n",
              "      <th>44</th>\n",
              "      <td>China</td>\n",
              "      <td>99239252.0</td>\n",
              "    </tr>\n",
              "    <tr>\n",
              "      <th>101</th>\n",
              "      <td>India</td>\n",
              "      <td>44768926.0</td>\n",
              "    </tr>\n",
              "    <tr>\n",
              "      <th>76</th>\n",
              "      <td>France</td>\n",
              "      <td>38791479.0</td>\n",
              "    </tr>\n",
              "    <tr>\n",
              "      <th>82</th>\n",
              "      <td>Germany</td>\n",
              "      <td>38368891.0</td>\n",
              "    </tr>\n",
              "  </tbody>\n",
              "</table>\n",
              "</div>"
            ],
            "text/plain": [
              "          location    new_cases\n",
              "239  United States  102873924.0\n",
              "44           China   99239252.0\n",
              "101          India   44768926.0\n",
              "76          France   38791479.0\n",
              "82         Germany   38368891.0"
            ]
          },
          "execution_count": 44,
          "metadata": {},
          "output_type": "execute_result"
        }
      ],
      "source": [
        "nc_sum_id = [239,44,101,76,82]\n",
        "nc_sum.iloc[nc_sum_id]"
      ]
    },
    {
      "cell_type": "code",
      "execution_count": 45,
      "metadata": {
        "colab": {
          "base_uri": "https://localhost:8080/",
          "height": 424
        },
        "id": "I7Kued0VnhqW",
        "outputId": "929efa15-c533-4daf-efc1-818c3afd97a0"
      },
      "outputs": [
        {
          "data": {
            "text/html": [
              "<div>\n",
              "<style scoped>\n",
              "    .dataframe tbody tr th:only-of-type {\n",
              "        vertical-align: middle;\n",
              "    }\n",
              "\n",
              "    .dataframe tbody tr th {\n",
              "        vertical-align: top;\n",
              "    }\n",
              "\n",
              "    .dataframe thead th {\n",
              "        text-align: right;\n",
              "    }\n",
              "</style>\n",
              "<table border=\"1\" class=\"dataframe\">\n",
              "  <thead>\n",
              "    <tr style=\"text-align: right;\">\n",
              "      <th></th>\n",
              "      <th>location</th>\n",
              "      <th>new_tests</th>\n",
              "    </tr>\n",
              "  </thead>\n",
              "  <tbody>\n",
              "    <tr>\n",
              "      <th>0</th>\n",
              "      <td>Afghanistan</td>\n",
              "      <td>0.0</td>\n",
              "    </tr>\n",
              "    <tr>\n",
              "      <th>1</th>\n",
              "      <td>Africa</td>\n",
              "      <td>0.0</td>\n",
              "    </tr>\n",
              "    <tr>\n",
              "      <th>2</th>\n",
              "      <td>Albania</td>\n",
              "      <td>1613870.0</td>\n",
              "    </tr>\n",
              "    <tr>\n",
              "      <th>3</th>\n",
              "      <td>Algeria</td>\n",
              "      <td>0.0</td>\n",
              "    </tr>\n",
              "    <tr>\n",
              "      <th>4</th>\n",
              "      <td>American Samoa</td>\n",
              "      <td>0.0</td>\n",
              "    </tr>\n",
              "    <tr>\n",
              "      <th>...</th>\n",
              "      <td>...</td>\n",
              "      <td>...</td>\n",
              "    </tr>\n",
              "    <tr>\n",
              "      <th>250</th>\n",
              "      <td>Western Sahara</td>\n",
              "      <td>0.0</td>\n",
              "    </tr>\n",
              "    <tr>\n",
              "      <th>251</th>\n",
              "      <td>World</td>\n",
              "      <td>0.0</td>\n",
              "    </tr>\n",
              "    <tr>\n",
              "      <th>252</th>\n",
              "      <td>Yemen</td>\n",
              "      <td>0.0</td>\n",
              "    </tr>\n",
              "    <tr>\n",
              "      <th>253</th>\n",
              "      <td>Zambia</td>\n",
              "      <td>3412336.0</td>\n",
              "    </tr>\n",
              "    <tr>\n",
              "      <th>254</th>\n",
              "      <td>Zimbabwe</td>\n",
              "      <td>1869683.0</td>\n",
              "    </tr>\n",
              "  </tbody>\n",
              "</table>\n",
              "<p>255 rows × 2 columns</p>\n",
              "</div>"
            ],
            "text/plain": [
              "           location  new_tests\n",
              "0       Afghanistan        0.0\n",
              "1            Africa        0.0\n",
              "2           Albania  1613870.0\n",
              "3           Algeria        0.0\n",
              "4    American Samoa        0.0\n",
              "..              ...        ...\n",
              "250  Western Sahara        0.0\n",
              "251           World        0.0\n",
              "252           Yemen        0.0\n",
              "253          Zambia  3412336.0\n",
              "254        Zimbabwe  1869683.0\n",
              "\n",
              "[255 rows x 2 columns]"
            ]
          },
          "execution_count": 45,
          "metadata": {},
          "output_type": "execute_result"
        }
      ],
      "source": [
        "nt_sum = vaccinations_df.groupby('location')['new_tests'].sum().reset_index()\n",
        "nt_sum"
      ]
    },
    {
      "cell_type": "code",
      "execution_count": 46,
      "metadata": {
        "colab": {
          "base_uri": "https://localhost:8080/",
          "height": 677
        },
        "id": "hFY2L76yoKtn",
        "outputId": "2be5e141-1bb0-43e3-b5fa-229fbfa2823a"
      },
      "outputs": [
        {
          "data": {
            "text/html": [
              "<div>\n",
              "<style scoped>\n",
              "    .dataframe tbody tr th:only-of-type {\n",
              "        vertical-align: middle;\n",
              "    }\n",
              "\n",
              "    .dataframe tbody tr th {\n",
              "        vertical-align: top;\n",
              "    }\n",
              "\n",
              "    .dataframe thead th {\n",
              "        text-align: right;\n",
              "    }\n",
              "</style>\n",
              "<table border=\"1\" class=\"dataframe\">\n",
              "  <thead>\n",
              "    <tr style=\"text-align: right;\">\n",
              "      <th></th>\n",
              "      <th>location</th>\n",
              "      <th>new_tests</th>\n",
              "    </tr>\n",
              "  </thead>\n",
              "  <tbody>\n",
              "    <tr>\n",
              "      <th>239</th>\n",
              "      <td>United States</td>\n",
              "      <td>912769124.0</td>\n",
              "    </tr>\n",
              "    <tr>\n",
              "      <th>101</th>\n",
              "      <td>India</td>\n",
              "      <td>838798638.0</td>\n",
              "    </tr>\n",
              "    <tr>\n",
              "      <th>238</th>\n",
              "      <td>United Kingdom</td>\n",
              "      <td>502482746.0</td>\n",
              "    </tr>\n",
              "    <tr>\n",
              "      <th>76</th>\n",
              "      <td>France</td>\n",
              "      <td>278234000.0</td>\n",
              "    </tr>\n",
              "    <tr>\n",
              "      <th>108</th>\n",
              "      <td>Italy</td>\n",
              "      <td>224719845.0</td>\n",
              "    </tr>\n",
              "    <tr>\n",
              "      <th>14</th>\n",
              "      <td>Austria</td>\n",
              "      <td>188768459.0</td>\n",
              "    </tr>\n",
              "    <tr>\n",
              "      <th>237</th>\n",
              "      <td>United Arab Emirates</td>\n",
              "      <td>168522672.0</td>\n",
              "    </tr>\n",
              "    <tr>\n",
              "      <th>231</th>\n",
              "      <td>Turkey</td>\n",
              "      <td>163164533.0</td>\n",
              "    </tr>\n",
              "    <tr>\n",
              "      <th>186</th>\n",
              "      <td>Russia</td>\n",
              "      <td>156015815.0</td>\n",
              "    </tr>\n",
              "    <tr>\n",
              "      <th>212</th>\n",
              "      <td>South Korea</td>\n",
              "      <td>100269452.0</td>\n",
              "    </tr>\n",
              "    <tr>\n",
              "      <th>214</th>\n",
              "      <td>Spain</td>\n",
              "      <td>93162168.0</td>\n",
              "    </tr>\n",
              "    <tr>\n",
              "      <th>13</th>\n",
              "      <td>Australia</td>\n",
              "      <td>73363499.0</td>\n",
              "    </tr>\n",
              "    <tr>\n",
              "      <th>57</th>\n",
              "      <td>Denmark</td>\n",
              "      <td>64649913.0</td>\n",
              "    </tr>\n",
              "    <tr>\n",
              "      <th>38</th>\n",
              "      <td>Canada</td>\n",
              "      <td>62175498.0</td>\n",
              "    </tr>\n",
              "    <tr>\n",
              "      <th>133</th>\n",
              "      <td>Malaysia</td>\n",
              "      <td>60647556.0</td>\n",
              "    </tr>\n",
              "    <tr>\n",
              "      <th>55</th>\n",
              "      <td>Czechia</td>\n",
              "      <td>54587458.0</td>\n",
              "    </tr>\n",
              "    <tr>\n",
              "      <th>110</th>\n",
              "      <td>Japan</td>\n",
              "      <td>53504941.0</td>\n",
              "    </tr>\n",
              "    <tr>\n",
              "      <th>107</th>\n",
              "      <td>Israel</td>\n",
              "      <td>51780014.0</td>\n",
              "    </tr>\n",
              "    <tr>\n",
              "      <th>102</th>\n",
              "      <td>Indonesia</td>\n",
              "      <td>51528978.0</td>\n",
              "    </tr>\n",
              "    <tr>\n",
              "      <th>206</th>\n",
              "      <td>Slovakia</td>\n",
              "      <td>51238482.0</td>\n",
              "    </tr>\n",
              "  </tbody>\n",
              "</table>\n",
              "</div>"
            ],
            "text/plain": [
              "                 location    new_tests\n",
              "239         United States  912769124.0\n",
              "101                 India  838798638.0\n",
              "238        United Kingdom  502482746.0\n",
              "76                 France  278234000.0\n",
              "108                 Italy  224719845.0\n",
              "14                Austria  188768459.0\n",
              "237  United Arab Emirates  168522672.0\n",
              "231                Turkey  163164533.0\n",
              "186                Russia  156015815.0\n",
              "212           South Korea  100269452.0\n",
              "214                 Spain   93162168.0\n",
              "13              Australia   73363499.0\n",
              "57                Denmark   64649913.0\n",
              "38                 Canada   62175498.0\n",
              "133              Malaysia   60647556.0\n",
              "55                Czechia   54587458.0\n",
              "110                 Japan   53504941.0\n",
              "107                Israel   51780014.0\n",
              "102             Indonesia   51528978.0\n",
              "206              Slovakia   51238482.0"
            ]
          },
          "execution_count": 46,
          "metadata": {},
          "output_type": "execute_result"
        }
      ],
      "source": [
        "nt_sum_sort = nt_sum.sort_values(by='new_tests', ascending=False)\n",
        "nt_sum_sort.head(20)\n",
        "# Index dos top5 países: 239,101,238,76,108"
      ]
    },
    {
      "cell_type": "code",
      "execution_count": 47,
      "metadata": {
        "colab": {
          "base_uri": "https://localhost:8080/",
          "height": 206
        },
        "id": "Mk47k9NMobZd",
        "outputId": "e713a2e6-8c79-4d90-cab9-96d5ac41a70d"
      },
      "outputs": [
        {
          "data": {
            "text/html": [
              "<div>\n",
              "<style scoped>\n",
              "    .dataframe tbody tr th:only-of-type {\n",
              "        vertical-align: middle;\n",
              "    }\n",
              "\n",
              "    .dataframe tbody tr th {\n",
              "        vertical-align: top;\n",
              "    }\n",
              "\n",
              "    .dataframe thead th {\n",
              "        text-align: right;\n",
              "    }\n",
              "</style>\n",
              "<table border=\"1\" class=\"dataframe\">\n",
              "  <thead>\n",
              "    <tr style=\"text-align: right;\">\n",
              "      <th></th>\n",
              "      <th>location</th>\n",
              "      <th>new_tests</th>\n",
              "    </tr>\n",
              "  </thead>\n",
              "  <tbody>\n",
              "    <tr>\n",
              "      <th>239</th>\n",
              "      <td>United States</td>\n",
              "      <td>912769124.0</td>\n",
              "    </tr>\n",
              "    <tr>\n",
              "      <th>101</th>\n",
              "      <td>India</td>\n",
              "      <td>838798638.0</td>\n",
              "    </tr>\n",
              "    <tr>\n",
              "      <th>238</th>\n",
              "      <td>United Kingdom</td>\n",
              "      <td>502482746.0</td>\n",
              "    </tr>\n",
              "    <tr>\n",
              "      <th>76</th>\n",
              "      <td>France</td>\n",
              "      <td>278234000.0</td>\n",
              "    </tr>\n",
              "    <tr>\n",
              "      <th>108</th>\n",
              "      <td>Italy</td>\n",
              "      <td>224719845.0</td>\n",
              "    </tr>\n",
              "  </tbody>\n",
              "</table>\n",
              "</div>"
            ],
            "text/plain": [
              "           location    new_tests\n",
              "239   United States  912769124.0\n",
              "101           India  838798638.0\n",
              "238  United Kingdom  502482746.0\n",
              "76           France  278234000.0\n",
              "108           Italy  224719845.0"
            ]
          },
          "execution_count": 47,
          "metadata": {},
          "output_type": "execute_result"
        }
      ],
      "source": [
        "nt_sum_id = [239,101,238,76,108]\n",
        "nt_sum.iloc[nt_sum_id]"
      ]
    },
    {
      "cell_type": "markdown",
      "metadata": {
        "id": "_nfOWMsZf-C-"
      },
      "source": [
        "### Conclusão\n",
        "Não necessariamente quem testou mais teve menos casos, no que foi apresentado dos que mais testaram (United States, India, United Kingdom, France e Italy) três deles foram que mais tiveram casos de covid também (United States, India e France)."
      ]
    },
    {
      "cell_type": "markdown",
      "metadata": {
        "id": "RGBng8b2pO4I"
      },
      "source": [
        "## 04 - Uma comparação entre o total de vacinados e o total de doses de reforço aplicados?\n",
        "\n",
        "**Justificativa:** Fazer um comparação entre o total de vacinados e o número de pessoas que seguindo as indicações  tomaram a dose de reforço"
      ]
    },
    {
      "cell_type": "code",
      "execution_count": 49,
      "metadata": {
        "id": "GLY2RhKJJUZ6"
      },
      "outputs": [],
      "source": [
        "world_info = vaccinations_df[vaccinations_df['location']=='World']"
      ]
    },
    {
      "cell_type": "code",
      "execution_count": 50,
      "metadata": {
        "colab": {
          "base_uri": "https://localhost:8080/"
        },
        "id": "EQ_xGDgk_rnY",
        "outputId": "37707ed4-e0c4-4826-f6dd-e73cf5396a3f"
      },
      "outputs": [
        {
          "data": {
            "text/plain": [
              "5573659114.0"
            ]
          },
          "execution_count": 50,
          "metadata": {},
          "output_type": "execute_result"
        }
      ],
      "source": [
        "pv = world_info['people_vaccinated'].iloc[-1]\n",
        "pv"
      ]
    },
    {
      "cell_type": "code",
      "execution_count": 51,
      "metadata": {
        "colab": {
          "base_uri": "https://localhost:8080/"
        },
        "id": "Fc3fYCDpKBfD",
        "outputId": "be237a1f-7f50-42ac-c0bb-16157cc4f726"
      },
      "outputs": [
        {
          "data": {
            "text/plain": [
              "2760368981.0"
            ]
          },
          "execution_count": 51,
          "metadata": {},
          "output_type": "execute_result"
        }
      ],
      "source": [
        "tb = world_info['total_boosters'].iloc[-1]\n",
        "tb"
      ]
    },
    {
      "cell_type": "code",
      "execution_count": 52,
      "metadata": {
        "colab": {
          "base_uri": "https://localhost:8080/"
        },
        "id": "Z5b40fJ3KKkM",
        "outputId": "66429311-be18-447d-a797-54d380d45cca"
      },
      "outputs": [
        {
          "name": "stdout",
          "output_type": "stream",
          "text": [
            "O percentual de pessoas que tomara a dose de reforço em comparação as vacinadas é de: 49.53%\n"
          ]
        }
      ],
      "source": [
        "percent = tb / pv * 100\n",
        "print(f\"O percentual de pessoas que tomara a dose de reforço em comparação as vacinadas é de: {round(percent, 2)}%\")"
      ]
    },
    {
      "cell_type": "markdown",
      "metadata": {
        "id": "Cahe0j5JHAv8"
      },
      "source": [
        "### Conclusão\n",
        "\n",
        "Em números absolutos do mundo temos que **49,53%** das pessoas que foram vacinadas tomaram a dose de reforço.\n",
        "\n",
        "É importante verificar que nem todos os laboratórios exigiam dose de reforço da sua vacina e essa informação nós não temos aqui."
      ]
    },
    {
      "cell_type": "markdown",
      "metadata": {
        "id": "v8eH93woLE9p"
      },
      "source": [
        "## 05 - A quantidade de dados faltantes  quanto a mortes agrupados por continentes e países.\n",
        "\n",
        "**Justificativa:** Trazer uma panorâma da omissão de dados  durante o periodo da pandemia."
      ]
    },
    {
      "cell_type": "code",
      "execution_count": 53,
      "metadata": {
        "colab": {
          "base_uri": "https://localhost:8080/"
        },
        "id": "MuockbSnaEuu",
        "outputId": "e93e10b5-f8f1-4af8-cbdb-0ddd9f6ce333"
      },
      "outputs": [
        {
          "data": {
            "text/plain": [
              "location\n",
              "Afghanistan       1196\n",
              "Africa            1196\n",
              "Albania           1196\n",
              "Algeria           1196\n",
              "American Samoa    1196\n",
              "                  ... \n",
              "Western Sahara       1\n",
              "World             1201\n",
              "Yemen             1196\n",
              "Zambia            1196\n",
              "Zimbabwe          1196\n",
              "Name: date, Length: 255, dtype: int64"
            ]
          },
          "execution_count": 53,
          "metadata": {},
          "output_type": "execute_result"
        }
      ],
      "source": [
        "all_deaths = death_df.groupby('location')['date'].count()\n",
        "all_deaths"
      ]
    },
    {
      "cell_type": "code",
      "execution_count": 54,
      "metadata": {
        "colab": {
          "base_uri": "https://localhost:8080/"
        },
        "id": "-KtjDLiKXiXx",
        "outputId": "46f086fe-12ac-4248-b3b9-19a0453ee919"
      },
      "outputs": [
        {
          "data": {
            "text/plain": [
              "location\n",
              "Afghanistan       0\n",
              "Africa            0\n",
              "Albania           0\n",
              "Algeria           0\n",
              "American Samoa    0\n",
              "                 ..\n",
              "Western Sahara    1\n",
              "World             5\n",
              "Yemen             0\n",
              "Zambia            0\n",
              "Zimbabwe          1\n",
              "Name: new_deaths, Length: 255, dtype: int64"
            ]
          },
          "execution_count": 54,
          "metadata": {},
          "output_type": "execute_result"
        }
      ],
      "source": [
        "nan_deaths = death_df.groupby('location')['new_deaths'].apply(lambda x: x.isna().sum())\n",
        "nan_deaths"
      ]
    },
    {
      "cell_type": "code",
      "execution_count": 55,
      "metadata": {
        "colab": {
          "base_uri": "https://localhost:8080/",
          "height": 455
        },
        "id": "98kV872uamz8",
        "outputId": "a69ffcc8-cefd-4622-bb4a-be1b50401451"
      },
      "outputs": [
        {
          "data": {
            "text/html": [
              "<div>\n",
              "<style scoped>\n",
              "    .dataframe tbody tr th:only-of-type {\n",
              "        vertical-align: middle;\n",
              "    }\n",
              "\n",
              "    .dataframe tbody tr th {\n",
              "        vertical-align: top;\n",
              "    }\n",
              "\n",
              "    .dataframe thead th {\n",
              "        text-align: right;\n",
              "    }\n",
              "</style>\n",
              "<table border=\"1\" class=\"dataframe\">\n",
              "  <thead>\n",
              "    <tr style=\"text-align: right;\">\n",
              "      <th></th>\n",
              "      <th>date</th>\n",
              "      <th>new_deaths</th>\n",
              "    </tr>\n",
              "    <tr>\n",
              "      <th>location</th>\n",
              "      <th></th>\n",
              "      <th></th>\n",
              "    </tr>\n",
              "  </thead>\n",
              "  <tbody>\n",
              "    <tr>\n",
              "      <th>Afghanistan</th>\n",
              "      <td>1196</td>\n",
              "      <td>0</td>\n",
              "    </tr>\n",
              "    <tr>\n",
              "      <th>Africa</th>\n",
              "      <td>1196</td>\n",
              "      <td>0</td>\n",
              "    </tr>\n",
              "    <tr>\n",
              "      <th>Albania</th>\n",
              "      <td>1196</td>\n",
              "      <td>0</td>\n",
              "    </tr>\n",
              "    <tr>\n",
              "      <th>Algeria</th>\n",
              "      <td>1196</td>\n",
              "      <td>0</td>\n",
              "    </tr>\n",
              "    <tr>\n",
              "      <th>American Samoa</th>\n",
              "      <td>1196</td>\n",
              "      <td>0</td>\n",
              "    </tr>\n",
              "    <tr>\n",
              "      <th>...</th>\n",
              "      <td>...</td>\n",
              "      <td>...</td>\n",
              "    </tr>\n",
              "    <tr>\n",
              "      <th>Western Sahara</th>\n",
              "      <td>1</td>\n",
              "      <td>1</td>\n",
              "    </tr>\n",
              "    <tr>\n",
              "      <th>World</th>\n",
              "      <td>1201</td>\n",
              "      <td>5</td>\n",
              "    </tr>\n",
              "    <tr>\n",
              "      <th>Yemen</th>\n",
              "      <td>1196</td>\n",
              "      <td>0</td>\n",
              "    </tr>\n",
              "    <tr>\n",
              "      <th>Zambia</th>\n",
              "      <td>1196</td>\n",
              "      <td>0</td>\n",
              "    </tr>\n",
              "    <tr>\n",
              "      <th>Zimbabwe</th>\n",
              "      <td>1196</td>\n",
              "      <td>1</td>\n",
              "    </tr>\n",
              "  </tbody>\n",
              "</table>\n",
              "<p>255 rows × 2 columns</p>\n",
              "</div>"
            ],
            "text/plain": [
              "                date  new_deaths\n",
              "location                        \n",
              "Afghanistan     1196           0\n",
              "Africa          1196           0\n",
              "Albania         1196           0\n",
              "Algeria         1196           0\n",
              "American Samoa  1196           0\n",
              "...              ...         ...\n",
              "Western Sahara     1           1\n",
              "World           1201           5\n",
              "Yemen           1196           0\n",
              "Zambia          1196           0\n",
              "Zimbabwe        1196           1\n",
              "\n",
              "[255 rows x 2 columns]"
            ]
          },
          "execution_count": 55,
          "metadata": {},
          "output_type": "execute_result"
        }
      ],
      "source": [
        "deaths = pd.merge(all_deaths, nan_deaths, on='location')\n",
        "deaths"
      ]
    },
    {
      "cell_type": "code",
      "execution_count": 56,
      "metadata": {
        "colab": {
          "base_uri": "https://localhost:8080/"
        },
        "id": "7JSAj6MyfXZI",
        "outputId": "92fd13ea-91ae-478c-d83d-dafeeb170ae8"
      },
      "outputs": [
        {
          "name": "stdout",
          "output_type": "stream",
          "text": [
            "Número total de dados: 302749\n",
            "Número total de dados em branco: 8610\n",
            "Percentual de omissão dos dados: 2.84%\n"
          ]
        }
      ],
      "source": [
        "date_sum = deaths['date'].sum()\n",
        "empty_sum = deaths['new_deaths'].sum()\n",
        "percent = round((empty_sum / date_sum * 100), 2)\n",
        "\n",
        "print(f\"Número total de dados: {date_sum}\")\n",
        "print(f\"Número total de dados em branco: {empty_sum}\")\n",
        "print(f\"Percentual de omissão dos dados: {percent}%\")"
      ]
    },
    {
      "cell_type": "code",
      "execution_count": 57,
      "metadata": {
        "colab": {
          "base_uri": "https://localhost:8080/"
        },
        "id": "xnPGMn5EgTDS",
        "outputId": "ee331362-d2d8-44ff-8139-da079bf52280"
      },
      "outputs": [
        {
          "data": {
            "text/plain": [
              "continent\n",
              "Africa           68173\n",
              "Asia             60088\n",
              "Europe           65555\n",
              "North America    49050\n",
              "Oceania          28720\n",
              "South America    16761\n",
              "Name: date, dtype: int64"
            ]
          },
          "execution_count": 57,
          "metadata": {},
          "output_type": "execute_result"
        }
      ],
      "source": [
        "continent_all_deaths = death_df.groupby('continent')['date'].count()\n",
        "continent_all_deaths"
      ]
    },
    {
      "cell_type": "code",
      "execution_count": 58,
      "metadata": {
        "colab": {
          "base_uri": "https://localhost:8080/"
        },
        "id": "xMKqLG3ggfae",
        "outputId": "75382e40-18c6-4b2a-f1b7-dd344b41bc6b"
      },
      "outputs": [
        {
          "data": {
            "text/plain": [
              "continent\n",
              "Africa              8\n",
              "Asia             3894\n",
              "Europe           4582\n",
              "North America      31\n",
              "Oceania            17\n",
              "South America      28\n",
              "Name: new_deaths, dtype: int64"
            ]
          },
          "execution_count": 58,
          "metadata": {},
          "output_type": "execute_result"
        }
      ],
      "source": [
        "continent_nan_deaths = death_df.groupby('continent')['new_deaths'].apply(lambda x: x.isna().sum())\n",
        "continent_nan_deaths"
      ]
    },
    {
      "cell_type": "code",
      "execution_count": 59,
      "metadata": {
        "colab": {
          "base_uri": "https://localhost:8080/",
          "height": 269
        },
        "id": "J6rNmLk-gpFh",
        "outputId": "4fcfd133-b69c-4ea3-d982-b72dff03cdee"
      },
      "outputs": [
        {
          "data": {
            "text/html": [
              "<div>\n",
              "<style scoped>\n",
              "    .dataframe tbody tr th:only-of-type {\n",
              "        vertical-align: middle;\n",
              "    }\n",
              "\n",
              "    .dataframe tbody tr th {\n",
              "        vertical-align: top;\n",
              "    }\n",
              "\n",
              "    .dataframe thead th {\n",
              "        text-align: right;\n",
              "    }\n",
              "</style>\n",
              "<table border=\"1\" class=\"dataframe\">\n",
              "  <thead>\n",
              "    <tr style=\"text-align: right;\">\n",
              "      <th></th>\n",
              "      <th>date</th>\n",
              "      <th>new_deaths</th>\n",
              "    </tr>\n",
              "    <tr>\n",
              "      <th>continent</th>\n",
              "      <th></th>\n",
              "      <th></th>\n",
              "    </tr>\n",
              "  </thead>\n",
              "  <tbody>\n",
              "    <tr>\n",
              "      <th>Africa</th>\n",
              "      <td>68173</td>\n",
              "      <td>8</td>\n",
              "    </tr>\n",
              "    <tr>\n",
              "      <th>Asia</th>\n",
              "      <td>60088</td>\n",
              "      <td>3894</td>\n",
              "    </tr>\n",
              "    <tr>\n",
              "      <th>Europe</th>\n",
              "      <td>65555</td>\n",
              "      <td>4582</td>\n",
              "    </tr>\n",
              "    <tr>\n",
              "      <th>North America</th>\n",
              "      <td>49050</td>\n",
              "      <td>31</td>\n",
              "    </tr>\n",
              "    <tr>\n",
              "      <th>Oceania</th>\n",
              "      <td>28720</td>\n",
              "      <td>17</td>\n",
              "    </tr>\n",
              "    <tr>\n",
              "      <th>South America</th>\n",
              "      <td>16761</td>\n",
              "      <td>28</td>\n",
              "    </tr>\n",
              "  </tbody>\n",
              "</table>\n",
              "</div>"
            ],
            "text/plain": [
              "                date  new_deaths\n",
              "continent                       \n",
              "Africa         68173           8\n",
              "Asia           60088        3894\n",
              "Europe         65555        4582\n",
              "North America  49050          31\n",
              "Oceania        28720          17\n",
              "South America  16761          28"
            ]
          },
          "execution_count": 59,
          "metadata": {},
          "output_type": "execute_result"
        }
      ],
      "source": [
        "continent_deaths = pd.merge(continent_all_deaths, continent_nan_deaths, on='continent')\n",
        "continent_deaths"
      ]
    },
    {
      "cell_type": "code",
      "execution_count": 60,
      "metadata": {
        "colab": {
          "base_uri": "https://localhost:8080/",
          "height": 269
        },
        "id": "jfe5udOMglBx",
        "outputId": "6d2f1536-2892-4938-f476-e85acb7905c0"
      },
      "outputs": [
        {
          "data": {
            "text/html": [
              "<div>\n",
              "<style scoped>\n",
              "    .dataframe tbody tr th:only-of-type {\n",
              "        vertical-align: middle;\n",
              "    }\n",
              "\n",
              "    .dataframe tbody tr th {\n",
              "        vertical-align: top;\n",
              "    }\n",
              "\n",
              "    .dataframe thead th {\n",
              "        text-align: right;\n",
              "    }\n",
              "</style>\n",
              "<table border=\"1\" class=\"dataframe\">\n",
              "  <thead>\n",
              "    <tr style=\"text-align: right;\">\n",
              "      <th></th>\n",
              "      <th>date</th>\n",
              "      <th>new_deaths</th>\n",
              "      <th>percent</th>\n",
              "    </tr>\n",
              "    <tr>\n",
              "      <th>continent</th>\n",
              "      <th></th>\n",
              "      <th></th>\n",
              "      <th></th>\n",
              "    </tr>\n",
              "  </thead>\n",
              "  <tbody>\n",
              "    <tr>\n",
              "      <th>Africa</th>\n",
              "      <td>68173</td>\n",
              "      <td>8</td>\n",
              "      <td>0.01</td>\n",
              "    </tr>\n",
              "    <tr>\n",
              "      <th>Asia</th>\n",
              "      <td>60088</td>\n",
              "      <td>3894</td>\n",
              "      <td>6.48</td>\n",
              "    </tr>\n",
              "    <tr>\n",
              "      <th>Europe</th>\n",
              "      <td>65555</td>\n",
              "      <td>4582</td>\n",
              "      <td>6.99</td>\n",
              "    </tr>\n",
              "    <tr>\n",
              "      <th>North America</th>\n",
              "      <td>49050</td>\n",
              "      <td>31</td>\n",
              "      <td>0.06</td>\n",
              "    </tr>\n",
              "    <tr>\n",
              "      <th>Oceania</th>\n",
              "      <td>28720</td>\n",
              "      <td>17</td>\n",
              "      <td>0.06</td>\n",
              "    </tr>\n",
              "    <tr>\n",
              "      <th>South America</th>\n",
              "      <td>16761</td>\n",
              "      <td>28</td>\n",
              "      <td>0.17</td>\n",
              "    </tr>\n",
              "  </tbody>\n",
              "</table>\n",
              "</div>"
            ],
            "text/plain": [
              "                date  new_deaths  percent\n",
              "continent                                \n",
              "Africa         68173           8     0.01\n",
              "Asia           60088        3894     6.48\n",
              "Europe         65555        4582     6.99\n",
              "North America  49050          31     0.06\n",
              "Oceania        28720          17     0.06\n",
              "South America  16761          28     0.17"
            ]
          },
          "execution_count": 60,
          "metadata": {},
          "output_type": "execute_result"
        }
      ],
      "source": [
        "continent_deaths['percent'] = round((continent_deaths['new_deaths'] / continent_deaths['date'] * 100), 2)\n",
        "continent_deaths"
      ]
    },
    {
      "cell_type": "markdown",
      "metadata": {
        "id": "OXzOPD-zLE9x"
      },
      "source": [
        "### Conclusão\n",
        "\n",
        "Analisando o percentual de dados faltantes em relação ao total, deu apenas 2.84%, o que é bem pouco considerando a quantidade que temos. Agora separando por Continente conseguimos ver que Ásia e Europa são os continentes com maior falta de informação."
      ]
    },
    {
      "cell_type": "markdown",
      "metadata": {
        "id": "YudrwufALbeH"
      },
      "source": [
        "## 06 - A taxa de reprodução do vírus (reproduction_rate) é mais intensa em países mais populosos (population)?\n",
        "\n",
        "**Justificativa:** É provável que o tamanho da população tenha influenciado no rápido crescimento do número de infectados"
      ]
    },
    {
      "cell_type": "code",
      "execution_count": 61,
      "metadata": {
        "id": "BhxBoC9I9qDJ"
      },
      "outputs": [],
      "source": [
        "split = ['location', 'population', 'reproduction_rate']\n",
        "df_6 = death_df[split]"
      ]
    },
    {
      "cell_type": "code",
      "execution_count": 62,
      "metadata": {
        "colab": {
          "base_uri": "https://localhost:8080/"
        },
        "id": "lydiNzHP-10Y",
        "outputId": "51a3d5ca-702f-4929-9d16-99b1a68ebd34"
      },
      "outputs": [
        {
          "name": "stdout",
          "output_type": "stream",
          "text": [
            "             population  reproduction_rate\n",
            "location                                  \n",
            "South Korea    51815808               5.87\n",
            "Iran           88550568               4.82\n",
            "Turkey         85341248               4.25\n",
            "Philippines   115559008               4.22\n",
            "Japan         123951696               4.08\n"
          ]
        }
      ],
      "source": [
        "df_6_filter = df_6.groupby('location').agg({'population': 'first', 'reproduction_rate': 'max'})\n",
        "print(df_6_filter.sort_values(by='reproduction_rate', ascending=False).head(5))"
      ]
    },
    {
      "cell_type": "code",
      "execution_count": 63,
      "metadata": {
        "colab": {
          "base_uri": "https://localhost:8080/"
        },
        "id": "RkUBCeBnAnAF",
        "outputId": "0ecbf106-98d7-4839-ad41-5a4332b1ccd0"
      },
      "outputs": [
        {
          "name": "stdout",
          "output_type": "stream",
          "text": [
            "               population  reproduction_rate\n",
            "location                                    \n",
            "World          7975105024               3.59\n",
            "China          1425887360               3.68\n",
            "India          1417173120               2.67\n",
            "United States   338289856               3.61\n",
            "Indonesia       275501344               2.36\n",
            "Pakistan        235824864               2.33\n"
          ]
        }
      ],
      "source": [
        "drop_nan = df_6_filter.dropna(subset=['reproduction_rate'])\n",
        "print(drop_nan.sort_values(by=['population'], ascending=[False]).head(6))"
      ]
    },
    {
      "cell_type": "markdown",
      "metadata": {
        "id": "ZsbKAeBjLbeS"
      },
      "source": [
        "### Conclusão\n",
        "\n",
        "Não conseguimos afirmar que a taxa de reprodução do vírus é mais intensa em países mais populosos. Pegando os Top-5 de população e de maior taxa de reprodução eles não são os mesmos nem ao menos tem um em comum.\n",
        "\n",
        "Provavelmente temos que considerar mais as medidas adotadas e como cada país se comportou com a pandemia."
      ]
    },
    {
      "cell_type": "markdown",
      "metadata": {
        "id": "TcLMUdvD8YAr"
      },
      "source": [
        "## 07 - Qual a relação entre pacientes hospitalizados e quantidade de mortes?\n",
        "\n",
        "**Justificativa:** Queremos verificar a eficácia do tratamento hospitalar."
      ]
    },
    {
      "cell_type": "code",
      "execution_count": 64,
      "metadata": {
        "colab": {
          "base_uri": "https://localhost:8080/",
          "height": 206
        },
        "id": "YvCJi30l8YAz",
        "outputId": "973a8679-4a8c-40b6-aa5b-954be52bcfb1"
      },
      "outputs": [
        {
          "data": {
            "text/html": [
              "<div>\n",
              "<style scoped>\n",
              "    .dataframe tbody tr th:only-of-type {\n",
              "        vertical-align: middle;\n",
              "    }\n",
              "\n",
              "    .dataframe tbody tr th {\n",
              "        vertical-align: top;\n",
              "    }\n",
              "\n",
              "    .dataframe thead th {\n",
              "        text-align: right;\n",
              "    }\n",
              "</style>\n",
              "<table border=\"1\" class=\"dataframe\">\n",
              "  <thead>\n",
              "    <tr style=\"text-align: right;\">\n",
              "      <th></th>\n",
              "      <th>continent</th>\n",
              "      <th>location</th>\n",
              "      <th>date</th>\n",
              "      <th>total_deaths</th>\n",
              "      <th>new_deaths</th>\n",
              "      <th>hosp_patients</th>\n",
              "    </tr>\n",
              "  </thead>\n",
              "  <tbody>\n",
              "    <tr>\n",
              "      <th>168711</th>\n",
              "      <td>Africa</td>\n",
              "      <td>Mayotte</td>\n",
              "      <td>4/2/2021</td>\n",
              "      <td>161.0</td>\n",
              "      <td>0.0</td>\n",
              "      <td>NaN</td>\n",
              "    </tr>\n",
              "    <tr>\n",
              "      <th>246486</th>\n",
              "      <td>Europe</td>\n",
              "      <td>Slovakia</td>\n",
              "      <td>12/21/2022</td>\n",
              "      <td>20792.0</td>\n",
              "      <td>4.0</td>\n",
              "      <td>498.0</td>\n",
              "    </tr>\n",
              "    <tr>\n",
              "      <th>118379</th>\n",
              "      <td>Asia</td>\n",
              "      <td>Hong Kong</td>\n",
              "      <td>4/11/2023</td>\n",
              "      <td>NaN</td>\n",
              "      <td>NaN</td>\n",
              "      <td>NaN</td>\n",
              "    </tr>\n",
              "    <tr>\n",
              "      <th>134038</th>\n",
              "      <td>Asia</td>\n",
              "      <td>Jordan</td>\n",
              "      <td>3/28/2020</td>\n",
              "      <td>1.0</td>\n",
              "      <td>1.0</td>\n",
              "      <td>NaN</td>\n",
              "    </tr>\n",
              "    <tr>\n",
              "      <th>259480</th>\n",
              "      <td>South America</td>\n",
              "      <td>Suriname</td>\n",
              "      <td>7/8/2022</td>\n",
              "      <td>1376.0</td>\n",
              "      <td>0.0</td>\n",
              "      <td>NaN</td>\n",
              "    </tr>\n",
              "  </tbody>\n",
              "</table>\n",
              "</div>"
            ],
            "text/plain": [
              "            continent   location        date  total_deaths  new_deaths  \\\n",
              "168711         Africa    Mayotte    4/2/2021         161.0         0.0   \n",
              "246486         Europe   Slovakia  12/21/2022       20792.0         4.0   \n",
              "118379           Asia  Hong Kong   4/11/2023           NaN         NaN   \n",
              "134038           Asia     Jordan   3/28/2020           1.0         1.0   \n",
              "259480  South America   Suriname    7/8/2022        1376.0         0.0   \n",
              "\n",
              "        hosp_patients  \n",
              "168711            NaN  \n",
              "246486          498.0  \n",
              "118379            NaN  \n",
              "134038            NaN  \n",
              "259480            NaN  "
            ]
          },
          "execution_count": 64,
          "metadata": {},
          "output_type": "execute_result"
        }
      ],
      "source": [
        "split_7 = ['continent', 'location', 'date', 'total_deaths', 'new_deaths', 'hosp_patients']\n",
        "df_7 = death_df[split_7]\n",
        "df_7.sample(5)"
      ]
    },
    {
      "cell_type": "code",
      "execution_count": 65,
      "metadata": {
        "id": "Sa1gRaVCGtXP"
      },
      "outputs": [],
      "source": [
        "world_7 = df_7[df_7['location']=='World']\n",
        "sum_nd = world_7['new_deaths'].sum()"
      ]
    },
    {
      "cell_type": "code",
      "execution_count": 66,
      "metadata": {
        "id": "yyQqIUtwGrM3"
      },
      "outputs": [],
      "source": [
        "all_sum_hp = df_7[df_7['continent'].notna()]\n",
        "sum_hp = all_sum_hp['hosp_patients'].sum()"
      ]
    },
    {
      "cell_type": "code",
      "execution_count": 67,
      "metadata": {
        "colab": {
          "base_uri": "https://localhost:8080/"
        },
        "id": "PBBgty59Fsm7",
        "outputId": "d9bda7f3-88f5-4ff4-8b36-57d6740bd53b"
      },
      "outputs": [
        {
          "name": "stdout",
          "output_type": "stream",
          "text": [
            "Considerando location WORLD, temos:\n",
            " -> Total de Mortes: 6899687.0\n",
            " -> Total de hospitalizados: 149650253.0\n",
            "A relação percentual entre hospitalizados e morte no mundo é: 4.61%\n"
          ]
        }
      ],
      "source": [
        "print(f\"Considerando location WORLD, temos:\\n -> Total de Mortes: {sum_nd}\\n -> Total de hospitalizados: {sum_hp}\")\n",
        "print(f\"A relação percentual entre hospitalizados e morte no mundo é: {round((sum_nd / sum_hp * 100), 2)}%\")"
      ]
    },
    {
      "cell_type": "code",
      "execution_count": 68,
      "metadata": {
        "colab": {
          "base_uri": "https://localhost:8080/",
          "height": 528
        },
        "id": "jQNfUiV2H26J",
        "outputId": "6c8da250-59fd-4e35-c7e9-b7beb0564069"
      },
      "outputs": [
        {
          "name": "stderr",
          "output_type": "stream",
          "text": [
            "/tmp/ipykernel_7765/1879129664.py:2: SettingWithCopyWarning: \n",
            "A value is trying to be set on a copy of a slice from a DataFrame.\n",
            "Try using .loc[row_indexer,col_indexer] = value instead\n",
            "\n",
            "See the caveats in the documentation: https://pandas.pydata.org/pandas-docs/stable/user_guide/indexing.html#returning-a-view-versus-a-copy\n",
            "  df_7['date'] = pd.to_datetime(df_7['date'])\n"
          ]
        },
        {
          "data": {
            "text/html": [
              "<div>\n",
              "<style scoped>\n",
              "    .dataframe tbody tr th:only-of-type {\n",
              "        vertical-align: middle;\n",
              "    }\n",
              "\n",
              "    .dataframe tbody tr th {\n",
              "        vertical-align: top;\n",
              "    }\n",
              "\n",
              "    .dataframe thead th {\n",
              "        text-align: right;\n",
              "    }\n",
              "</style>\n",
              "<table border=\"1\" class=\"dataframe\">\n",
              "  <thead>\n",
              "    <tr style=\"text-align: right;\">\n",
              "      <th></th>\n",
              "      <th>date</th>\n",
              "      <th>new_deaths</th>\n",
              "      <th>hosp_patients</th>\n",
              "    </tr>\n",
              "  </thead>\n",
              "  <tbody>\n",
              "    <tr>\n",
              "      <th>0</th>\n",
              "      <td>2020-01-01</td>\n",
              "      <td>0.0</td>\n",
              "      <td>0.0</td>\n",
              "    </tr>\n",
              "    <tr>\n",
              "      <th>1</th>\n",
              "      <td>2020-01-02</td>\n",
              "      <td>0.0</td>\n",
              "      <td>0.0</td>\n",
              "    </tr>\n",
              "    <tr>\n",
              "      <th>2</th>\n",
              "      <td>2020-01-03</td>\n",
              "      <td>0.0</td>\n",
              "      <td>0.0</td>\n",
              "    </tr>\n",
              "    <tr>\n",
              "      <th>3</th>\n",
              "      <td>2020-01-04</td>\n",
              "      <td>0.0</td>\n",
              "      <td>0.0</td>\n",
              "    </tr>\n",
              "    <tr>\n",
              "      <th>4</th>\n",
              "      <td>2020-01-05</td>\n",
              "      <td>0.0</td>\n",
              "      <td>0.0</td>\n",
              "    </tr>\n",
              "    <tr>\n",
              "      <th>...</th>\n",
              "      <td>...</td>\n",
              "      <td>...</td>\n",
              "      <td>...</td>\n",
              "    </tr>\n",
              "    <tr>\n",
              "      <th>1199</th>\n",
              "      <td>2023-04-14</td>\n",
              "      <td>0.0</td>\n",
              "      <td>14892.0</td>\n",
              "    </tr>\n",
              "    <tr>\n",
              "      <th>1200</th>\n",
              "      <td>2023-04-15</td>\n",
              "      <td>0.0</td>\n",
              "      <td>14228.0</td>\n",
              "    </tr>\n",
              "    <tr>\n",
              "      <th>1201</th>\n",
              "      <td>2023-04-16</td>\n",
              "      <td>0.0</td>\n",
              "      <td>13837.0</td>\n",
              "    </tr>\n",
              "    <tr>\n",
              "      <th>1202</th>\n",
              "      <td>2023-04-17</td>\n",
              "      <td>0.0</td>\n",
              "      <td>2821.0</td>\n",
              "    </tr>\n",
              "    <tr>\n",
              "      <th>1203</th>\n",
              "      <td>2023-04-18</td>\n",
              "      <td>0.0</td>\n",
              "      <td>1825.0</td>\n",
              "    </tr>\n",
              "  </tbody>\n",
              "</table>\n",
              "<p>1204 rows × 3 columns</p>\n",
              "</div>"
            ],
            "text/plain": [
              "           date  new_deaths  hosp_patients\n",
              "0    2020-01-01         0.0            0.0\n",
              "1    2020-01-02         0.0            0.0\n",
              "2    2020-01-03         0.0            0.0\n",
              "3    2020-01-04         0.0            0.0\n",
              "4    2020-01-05         0.0            0.0\n",
              "...         ...         ...            ...\n",
              "1199 2023-04-14         0.0        14892.0\n",
              "1200 2023-04-15         0.0        14228.0\n",
              "1201 2023-04-16         0.0        13837.0\n",
              "1202 2023-04-17         0.0         2821.0\n",
              "1203 2023-04-18         0.0         1825.0\n",
              "\n",
              "[1204 rows x 3 columns]"
            ]
          },
          "execution_count": 68,
          "metadata": {},
          "output_type": "execute_result"
        }
      ],
      "source": [
        "# Gráfico mostrando a curva ao longo do tempo de hopitalizados (hosp_patients) e de mortes (new_deaths) por dia.\n",
        "df_7['date'] = pd.to_datetime(df_7['date'])\n",
        "df_7_graph = df_7.groupby('date').agg({'new_deaths': 'sum', 'hosp_patients': 'sum' }).reset_index()\n",
        "df_7_graph"
      ]
    },
    {
      "cell_type": "code",
      "execution_count": 69,
      "metadata": {
        "colab": {
          "base_uri": "https://localhost:8080/",
          "height": 607
        },
        "id": "zgSUzsTCKgpn",
        "outputId": "acd8829b-ff29-4358-9a1c-0c925f9b542b"
      },
      "outputs": [
        {
          "data": {
            "image/png": "[encoded data removed]",
            "text/plain": [
              "<Figure size 1000x600 with 1 Axes>"
            ]
          },
          "metadata": {},
          "output_type": "display_data"
        }
      ],
      "source": [
        "plt.figure(figsize=(10, 6))\n",
        "plt.plot(df_7_graph['date'], df_7_graph['new_deaths'], label='Deaths')\n",
        "plt.plot(df_7_graph['date'], df_7_graph['hosp_patients'], label='Hospital Patients')\n",
        "plt.title('Deaths and Hospital Patients per Day')\n",
        "plt.xlabel('Date')\n",
        "plt.legend()\n",
        "plt.xticks(rotation=45)\n",
        "plt.tight_layout()\n",
        "plt.show()"
      ]
    },
    {
      "cell_type": "markdown",
      "metadata": {
        "id": "i8siwmFG8YAz"
      },
      "source": [
        "### Conclusão\n",
        "\n",
        "Fazendo uma análise global, existe uma relação que 4.61% das pessoas que foram hospitalizadas acabam morrendo, dessa forma podemos concluir que o tratamento hospitalar é eficaz."
      ]
    },
    {
      "cell_type": "markdown",
      "metadata": {
        "id": "2JpgqldeCTzT"
      },
      "source": [
        "## 08 - Países com maior índice de rigidez nas medidas restritivas tendem a ter uma taxa de vacinação mais alta?\n",
        "\n",
        "**Justificativa:** Países que adotaram medidas restritivas mais rigorosas podem ter demonstrado maior comprometimento em lidar com a crise, o que pode ter acarretado em um maior nível de confiança da população e influenciado positivamente no % de vacinação."
      ]
    },
    {
      "cell_type": "code",
      "execution_count": 70,
      "metadata": {
        "colab": {
          "base_uri": "https://localhost:8080/",
          "height": 238
        },
        "id": "UVQn9IGlPKuv",
        "outputId": "f80bebcc-e65f-4214-9916-88b7cf10253a"
      },
      "outputs": [
        {
          "data": {
            "text/html": [
              "<div>\n",
              "<style scoped>\n",
              "    .dataframe tbody tr th:only-of-type {\n",
              "        vertical-align: middle;\n",
              "    }\n",
              "\n",
              "    .dataframe tbody tr th {\n",
              "        vertical-align: top;\n",
              "    }\n",
              "\n",
              "    .dataframe thead th {\n",
              "        text-align: right;\n",
              "    }\n",
              "</style>\n",
              "<table border=\"1\" class=\"dataframe\">\n",
              "  <thead>\n",
              "    <tr style=\"text-align: right;\">\n",
              "      <th></th>\n",
              "      <th>stringency_index</th>\n",
              "      <th>total_vaccinations</th>\n",
              "    </tr>\n",
              "    <tr>\n",
              "      <th>location</th>\n",
              "      <th></th>\n",
              "      <th></th>\n",
              "    </tr>\n",
              "  </thead>\n",
              "  <tbody>\n",
              "    <tr>\n",
              "      <th>Afghanistan</th>\n",
              "      <td>19.44</td>\n",
              "      <td>16693053.0</td>\n",
              "    </tr>\n",
              "    <tr>\n",
              "      <th>Albania</th>\n",
              "      <td>46.30</td>\n",
              "      <td>3070468.0</td>\n",
              "    </tr>\n",
              "    <tr>\n",
              "      <th>Algeria</th>\n",
              "      <td>50.00</td>\n",
              "      <td>15267442.0</td>\n",
              "    </tr>\n",
              "    <tr>\n",
              "      <th>American Samoa</th>\n",
              "      <td>NaN</td>\n",
              "      <td>NaN</td>\n",
              "    </tr>\n",
              "    <tr>\n",
              "      <th>Andorra</th>\n",
              "      <td>41.67</td>\n",
              "      <td>156957.0</td>\n",
              "    </tr>\n",
              "  </tbody>\n",
              "</table>\n",
              "</div>"
            ],
            "text/plain": [
              "                stringency_index  total_vaccinations\n",
              "location                                            \n",
              "Afghanistan                19.44          16693053.0\n",
              "Albania                    46.30           3070468.0\n",
              "Algeria                    50.00          15267442.0\n",
              "American Samoa               NaN                 NaN\n",
              "Andorra                    41.67            156957.0"
            ]
          },
          "execution_count": 70,
          "metadata": {},
          "output_type": "execute_result"
        }
      ],
      "source": [
        "split_8 = ['continent', 'location', 'total_vaccinations', 'stringency_index']\n",
        "df_8 = vaccinations_df[split_8]\n",
        "df_8 = df_8[df_8['continent'].notna()]\n",
        "df_8_group = df_8.groupby('location').agg({'stringency_index': 'median', 'total_vaccinations': 'last'})\n",
        "df_8_group.head(5)"
      ]
    },
    {
      "cell_type": "code",
      "execution_count": 71,
      "metadata": {
        "colab": {
          "base_uri": "https://localhost:8080/"
        },
        "id": "dM99koIcSMKU",
        "outputId": "d0687cc9-5577-48aa-ddc3-ee5454458c79"
      },
      "outputs": [
        {
          "data": {
            "text/plain": [
              "location\n",
              "Afghanistan       41128772\n",
              "Albania            2842318\n",
              "Algeria           44903228\n",
              "American Samoa       44295\n",
              "Andorra              79843\n",
              "Name: population, dtype: int64"
            ]
          },
          "execution_count": 71,
          "metadata": {},
          "output_type": "execute_result"
        }
      ],
      "source": [
        "split_8_death = ['continent', 'location', 'population']\n",
        "df_8_death = death_df[split_8_death]\n",
        "df_8_death = df_8_death[df_8_death['continent'].notna()]\n",
        "df_8_death_group = df_8_death.groupby('location')['population'].first()\n",
        "df_8_death_group.head(5)"
      ]
    },
    {
      "cell_type": "code",
      "execution_count": 72,
      "metadata": {
        "colab": {
          "base_uri": "https://localhost:8080/",
          "height": 238
        },
        "id": "pXhjVVMBTQlF",
        "outputId": "27210554-6389-475d-c124-f2c3f97d741a"
      },
      "outputs": [
        {
          "data": {
            "text/html": [
              "<div>\n",
              "<style scoped>\n",
              "    .dataframe tbody tr th:only-of-type {\n",
              "        vertical-align: middle;\n",
              "    }\n",
              "\n",
              "    .dataframe tbody tr th {\n",
              "        vertical-align: top;\n",
              "    }\n",
              "\n",
              "    .dataframe thead th {\n",
              "        text-align: right;\n",
              "    }\n",
              "</style>\n",
              "<table border=\"1\" class=\"dataframe\">\n",
              "  <thead>\n",
              "    <tr style=\"text-align: right;\">\n",
              "      <th></th>\n",
              "      <th>stringency_index</th>\n",
              "      <th>total_vaccinations</th>\n",
              "      <th>population</th>\n",
              "      <th>percent</th>\n",
              "    </tr>\n",
              "    <tr>\n",
              "      <th>location</th>\n",
              "      <th></th>\n",
              "      <th></th>\n",
              "      <th></th>\n",
              "      <th></th>\n",
              "    </tr>\n",
              "  </thead>\n",
              "  <tbody>\n",
              "    <tr>\n",
              "      <th>Afghanistan</th>\n",
              "      <td>19.44</td>\n",
              "      <td>16693053.0</td>\n",
              "      <td>41128772</td>\n",
              "      <td>40.59</td>\n",
              "    </tr>\n",
              "    <tr>\n",
              "      <th>Albania</th>\n",
              "      <td>46.30</td>\n",
              "      <td>3070468.0</td>\n",
              "      <td>2842318</td>\n",
              "      <td>108.03</td>\n",
              "    </tr>\n",
              "    <tr>\n",
              "      <th>Algeria</th>\n",
              "      <td>50.00</td>\n",
              "      <td>15267442.0</td>\n",
              "      <td>44903228</td>\n",
              "      <td>34.00</td>\n",
              "    </tr>\n",
              "    <tr>\n",
              "      <th>American Samoa</th>\n",
              "      <td>NaN</td>\n",
              "      <td>NaN</td>\n",
              "      <td>44295</td>\n",
              "      <td>NaN</td>\n",
              "    </tr>\n",
              "    <tr>\n",
              "      <th>Andorra</th>\n",
              "      <td>41.67</td>\n",
              "      <td>156957.0</td>\n",
              "      <td>79843</td>\n",
              "      <td>196.58</td>\n",
              "    </tr>\n",
              "  </tbody>\n",
              "</table>\n",
              "</div>"
            ],
            "text/plain": [
              "                stringency_index  total_vaccinations  population  percent\n",
              "location                                                                 \n",
              "Afghanistan                19.44          16693053.0    41128772    40.59\n",
              "Albania                    46.30           3070468.0     2842318   108.03\n",
              "Algeria                    50.00          15267442.0    44903228    34.00\n",
              "American Samoa               NaN                 NaN       44295      NaN\n",
              "Andorra                    41.67            156957.0       79843   196.58"
            ]
          },
          "execution_count": 72,
          "metadata": {},
          "output_type": "execute_result"
        }
      ],
      "source": [
        "merged_df_8 = pd.merge(df_8_group, df_8_death_group, on='location')\n",
        "merged_df_8['percent'] = round(((merged_df_8['total_vaccinations'] / merged_df_8['population']) * 100), 2)\n",
        "merged_df_8.head(5)"
      ]
    },
    {
      "cell_type": "code",
      "execution_count": 73,
      "metadata": {
        "colab": {
          "base_uri": "https://localhost:8080/"
        },
        "id": "j2Msy3JiUBB3",
        "outputId": "b5042ab5-b0f9-43d4-823a-b57c792ff7e5"
      },
      "outputs": [
        {
          "name": "stdout",
          "output_type": "stream",
          "text": [
            "             stringency_index  total_vaccinations  population  percent\n",
            "location                                                              \n",
            "Venezuela               80.56        3.786099e+07    28301700   133.78\n",
            "Honduras                76.94        1.726892e+07    10432858   165.52\n",
            "China                   73.61        3.491077e+09  1425887360   244.84\n",
            "Argentina               71.76        1.153423e+08    45510324   253.44\n",
            "Jamaica                 71.30        1.522173e+06     2827382    53.84\n",
            "Myanmar                 70.37        6.454999e+07    54179312   119.14\n",
            "Philippines             67.13        1.706902e+08   115559008   147.71\n",
            "Palestine               66.20        3.748571e+06     5250076    71.40\n",
            "Kazakhstan              65.74        2.091868e+07    19397998   107.84\n",
            "Canada                  65.08        9.695650e+07    38454328   252.13\n",
            "           stringency_index  total_vaccinations  population  percent\n",
            "location                                                            \n",
            "Gibraltar               NaN            132810.0       32677   406.43\n",
            "Cuba                  62.04          43954754.0    11212198   392.03\n",
            "Chile                 58.17          62688847.0    19603736   319.78\n",
            "Japan                 43.08         383512268.0   123951696   309.40\n",
            "Brunei                40.74           1291223.0      449002   287.58\n",
            "Tokelau                 NaN              5374.0        1893   283.89\n",
            "Taiwan                25.01          67829706.0    23893396   283.88\n",
            "Qatar                 52.46           7608683.0     2695131   282.31\n",
            "Guernsey                NaN            178525.0       63329   281.90\n",
            "Cambodia              47.22          46808756.0    16767851   279.16\n"
          ]
        }
      ],
      "source": [
        "print(merged_df_8.sort_values(by='stringency_index', ascending=False).head(10))\n",
        "print(merged_df_8.sort_values(by='percent', ascending=False).head(10))"
      ]
    },
    {
      "cell_type": "markdown",
      "metadata": {
        "id": "geutQKgsCTzU"
      },
      "source": [
        "### Conclusão\n",
        "É difícil afirmar que há uma relação entre os países que adotaram medidas restritivas mais rigorosas (média) e o percentual de vacinados. Os países que mais vacinaram não são os países mais rigorosos em medidas restritivas.\n",
        "\n",
        "Obs.: Importante observar que pode haver algum problema com o dado de percentual, uma vez que vários países está com percentual de vacinados muito superior a população.\n"
      ]
    },
    {
      "cell_type": "markdown",
      "metadata": {
        "id": "M6MX7DJTCUF0"
      },
      "source": [
        "## 09 - Qual é a proporção de pessoas vacinadas que foram hospitalizadas devido à COVID-19 em comparação com pessoas não vacinadas?\n",
        "\n",
        "**Justificativa:** Verificar a eficácia da vacina."
      ]
    },
    {
      "cell_type": "code",
      "execution_count": 74,
      "metadata": {
        "colab": {
          "base_uri": "https://localhost:8080/",
          "height": 238
        },
        "id": "hUPYE2msCUF1",
        "outputId": "ff9d38ac-3dd8-4daf-9223-a1cf1e2657d5"
      },
      "outputs": [
        {
          "data": {
            "text/html": [
              "<div>\n",
              "<style scoped>\n",
              "    .dataframe tbody tr th:only-of-type {\n",
              "        vertical-align: middle;\n",
              "    }\n",
              "\n",
              "    .dataframe tbody tr th {\n",
              "        vertical-align: top;\n",
              "    }\n",
              "\n",
              "    .dataframe thead th {\n",
              "        text-align: right;\n",
              "    }\n",
              "</style>\n",
              "<table border=\"1\" class=\"dataframe\">\n",
              "  <thead>\n",
              "    <tr style=\"text-align: right;\">\n",
              "      <th></th>\n",
              "      <th>population</th>\n",
              "      <th>hosp_patients</th>\n",
              "    </tr>\n",
              "    <tr>\n",
              "      <th>location</th>\n",
              "      <th></th>\n",
              "      <th></th>\n",
              "    </tr>\n",
              "  </thead>\n",
              "  <tbody>\n",
              "    <tr>\n",
              "      <th>Afghanistan</th>\n",
              "      <td>41128772</td>\n",
              "      <td>0.0</td>\n",
              "    </tr>\n",
              "    <tr>\n",
              "      <th>Albania</th>\n",
              "      <td>2842318</td>\n",
              "      <td>0.0</td>\n",
              "    </tr>\n",
              "    <tr>\n",
              "      <th>Algeria</th>\n",
              "      <td>44903228</td>\n",
              "      <td>0.0</td>\n",
              "    </tr>\n",
              "    <tr>\n",
              "      <th>American Samoa</th>\n",
              "      <td>44295</td>\n",
              "      <td>0.0</td>\n",
              "    </tr>\n",
              "    <tr>\n",
              "      <th>Andorra</th>\n",
              "      <td>79843</td>\n",
              "      <td>0.0</td>\n",
              "    </tr>\n",
              "  </tbody>\n",
              "</table>\n",
              "</div>"
            ],
            "text/plain": [
              "                population  hosp_patients\n",
              "location                                 \n",
              "Afghanistan       41128772            0.0\n",
              "Albania            2842318            0.0\n",
              "Algeria           44903228            0.0\n",
              "American Samoa       44295            0.0\n",
              "Andorra              79843            0.0"
            ]
          },
          "execution_count": 74,
          "metadata": {},
          "output_type": "execute_result"
        }
      ],
      "source": [
        "split_9_d = ['continent', 'location', 'population', 'hosp_patients']\n",
        "df_9_d = death_df[split_9_d]\n",
        "df_9_d = df_9_d[df_9_d['continent'].notna()]\n",
        "df_9_d_group = df_9_d.groupby('location').agg({'population': 'first', 'hosp_patients': 'sum'})\n",
        "df_9_d_group.head(5)"
      ]
    },
    {
      "cell_type": "code",
      "execution_count": 75,
      "metadata": {
        "colab": {
          "base_uri": "https://localhost:8080/"
        },
        "id": "0gQISIcQXHWe",
        "outputId": "9513a65e-28b2-4b6e-8531-6c5cdacc6dd6"
      },
      "outputs": [
        {
          "data": {
            "text/plain": [
              "location\n",
              "Afghanistan       14613185.0\n",
              "Albania            1347054.0\n",
              "Algeria            7840131.0\n",
              "American Samoa           NaN\n",
              "Andorra              57904.0\n",
              "Name: people_vaccinated, dtype: float64"
            ]
          },
          "execution_count": 75,
          "metadata": {},
          "output_type": "execute_result"
        }
      ],
      "source": [
        "split_9_v = ['continent', 'location', 'people_vaccinated']\n",
        "df_9_v = vaccinations_df[split_9_v]\n",
        "df_9_v = df_9_v[df_9_v['continent'].notna()]\n",
        "df_9_v_group = df_9_v.groupby('location')['people_vaccinated'].max()\n",
        "df_9_v_group.head(5)"
      ]
    },
    {
      "cell_type": "code",
      "execution_count": 76,
      "metadata": {
        "colab": {
          "base_uri": "https://localhost:8080/",
          "height": 238
        },
        "id": "9t8pHX4EZbLf",
        "outputId": "7844c136-b494-4b97-be2b-fa5e42f7e241"
      },
      "outputs": [
        {
          "data": {
            "text/html": [
              "<div>\n",
              "<style scoped>\n",
              "    .dataframe tbody tr th:only-of-type {\n",
              "        vertical-align: middle;\n",
              "    }\n",
              "\n",
              "    .dataframe tbody tr th {\n",
              "        vertical-align: top;\n",
              "    }\n",
              "\n",
              "    .dataframe thead th {\n",
              "        text-align: right;\n",
              "    }\n",
              "</style>\n",
              "<table border=\"1\" class=\"dataframe\">\n",
              "  <thead>\n",
              "    <tr style=\"text-align: right;\">\n",
              "      <th></th>\n",
              "      <th>population</th>\n",
              "      <th>hosp_patients</th>\n",
              "      <th>people_vaccinated</th>\n",
              "      <th>ñ_vaccinated</th>\n",
              "    </tr>\n",
              "    <tr>\n",
              "      <th>location</th>\n",
              "      <th></th>\n",
              "      <th></th>\n",
              "      <th></th>\n",
              "      <th></th>\n",
              "    </tr>\n",
              "  </thead>\n",
              "  <tbody>\n",
              "    <tr>\n",
              "      <th>Australia</th>\n",
              "      <td>26177410</td>\n",
              "      <td>1466044.0</td>\n",
              "      <td>22236698.0</td>\n",
              "      <td>3940712.0</td>\n",
              "    </tr>\n",
              "    <tr>\n",
              "      <th>Austria</th>\n",
              "      <td>8939617</td>\n",
              "      <td>1407011.0</td>\n",
              "      <td>6899073.0</td>\n",
              "      <td>2040544.0</td>\n",
              "    </tr>\n",
              "    <tr>\n",
              "      <th>Belgium</th>\n",
              "      <td>11655923</td>\n",
              "      <td>2022577.0</td>\n",
              "      <td>9266250.0</td>\n",
              "      <td>2389673.0</td>\n",
              "    </tr>\n",
              "    <tr>\n",
              "      <th>Bolivia</th>\n",
              "      <td>12224114</td>\n",
              "      <td>368769.0</td>\n",
              "      <td>7361008.0</td>\n",
              "      <td>4863106.0</td>\n",
              "    </tr>\n",
              "    <tr>\n",
              "      <th>Bulgaria</th>\n",
              "      <td>6781955</td>\n",
              "      <td>400506.0</td>\n",
              "      <td>2107140.0</td>\n",
              "      <td>4674815.0</td>\n",
              "    </tr>\n",
              "  </tbody>\n",
              "</table>\n",
              "</div>"
            ],
            "text/plain": [
              "           population  hosp_patients  people_vaccinated  ñ_vaccinated\n",
              "location                                                             \n",
              "Australia    26177410      1466044.0         22236698.0     3940712.0\n",
              "Austria       8939617      1407011.0          6899073.0     2040544.0\n",
              "Belgium      11655923      2022577.0          9266250.0     2389673.0\n",
              "Bolivia      12224114       368769.0          7361008.0     4863106.0\n",
              "Bulgaria      6781955       400506.0          2107140.0     4674815.0"
            ]
          },
          "execution_count": 76,
          "metadata": {},
          "output_type": "execute_result"
        }
      ],
      "source": [
        "merged_df_9 = pd.merge(df_9_d_group, df_9_v_group, on='location')\n",
        "merged_df_9['ñ_vaccinated'] = (merged_df_9['population'] - merged_df_9['people_vaccinated'])\n",
        "merged_df_9 = merged_df_9[merged_df_9['hosp_patients'] != 0]\n",
        "merged_df_9.head(5)"
      ]
    },
    {
      "cell_type": "code",
      "execution_count": 77,
      "metadata": {
        "colab": {
          "base_uri": "https://localhost:8080/"
        },
        "id": "4NhwaOg2bvd7",
        "outputId": "eeb45215-2dce-44f9-b6fb-806cd8bfd532"
      },
      "outputs": [
        {
          "data": {
            "text/plain": [
              "population           1.193872e+09\n",
              "hosp_patients        1.496503e+08\n",
              "people_vaccinated    9.217641e+08\n",
              "ñ_vaccinated         2.721082e+08\n",
              "dtype: float64"
            ]
          },
          "execution_count": 77,
          "metadata": {},
          "output_type": "execute_result"
        }
      ],
      "source": [
        "merged_df_9 = merged_df_9.agg({'population': 'sum', 'hosp_patients': 'sum', 'people_vaccinated': 'sum', 'ñ_vaccinated': 'sum'})\n",
        "merged_df_9"
      ]
    },
    {
      "cell_type": "code",
      "execution_count": 78,
      "metadata": {
        "id": "yr6Vah34ahNy"
      },
      "outputs": [],
      "source": [
        "merged_df_9['%_v'] = merged_df_9['people_vaccinated'] / merged_df_9['population'] * 100\n",
        "merged_df_9['%_ñ_v'] = merged_df_9['ñ_vaccinated'] / merged_df_9['population'] * 100"
      ]
    },
    {
      "cell_type": "code",
      "execution_count": 79,
      "metadata": {
        "colab": {
          "base_uri": "https://localhost:8080/"
        },
        "id": "d28FylATdE0V",
        "outputId": "4ae7a19d-1df1-4a19-c2e8-c9d58b1bc36c"
      },
      "outputs": [
        {
          "name": "stdout",
          "output_type": "stream",
          "text": [
            "Percentual de pessoas não vacinadas no hospital: 77.21%\n",
            "Percentual de pessoas vacinadas no hospital: 22.79%\n"
          ]
        }
      ],
      "source": [
        "print(f\"Percentual de pessoas não vacinadas no hospital: {round((merged_df_9['%_v']), 2)}%\")\n",
        "print(f\"Percentual de pessoas vacinadas no hospital: {round((merged_df_9['%_ñ_v']), 2)}%\")"
      ]
    },
    {
      "cell_type": "markdown",
      "metadata": {
        "id": "pjdleUyMCUF1"
      },
      "source": [
        "### Conclusão\n",
        "\n",
        "As informações do dataset não são suficientes para responder a pergunta. Tentando chegar em um número a partir do percentual de pessoas vacinadas e não vacinadas podemos inferir que essa proporção se mantem para as pessoas que foram para o hospital.\n",
        "\n",
        "Obs.: Vários países não possuiam a informação de hosp_patients, e esses foram retirados da análise."
      ]
    },
    {
      "cell_type": "markdown",
      "metadata": {
        "id": "hfc7OWuRN4Oh"
      },
      "source": [
        "## 11 - Qual a relação entre a quantidade de pacientes hospitalizados e quantos desses foram para a UTI?\n",
        "\n",
        "**Justificativa:** Para ter uma análise quantitativa dos pacientes que evoluíram para um estado mais grave"
      ]
    },
    {
      "cell_type": "code",
      "execution_count": 80,
      "metadata": {
        "colab": {
          "base_uri": "https://localhost:8080/"
        },
        "id": "uf5G40WRN4Oh",
        "outputId": "69ea782a-854e-4e89-b6cb-f58b1d388a80"
      },
      "outputs": [
        {
          "name": "stdout",
          "output_type": "stream",
          "text": [
            "O percental de pessoas hospitalizadas que foram para UTI é de: 16.79%\n"
          ]
        }
      ],
      "source": [
        "split_11_d = ['continent', 'location', 'hosp_patients', 'icu_patients']\n",
        "df_11_d = death_df[split_11_d]\n",
        "df_11_d = df_11_d[df_11_d['continent'].notna()]\n",
        "df_11_d = df_11_d.agg({'hosp_patients': 'sum', 'icu_patients': 'sum'})\n",
        "df_11_d['%'] =(df_11_d['icu_patients'] / df_11_d['hosp_patients'] * 100)\n",
        "print(f\"O percental de pessoas hospitalizadas que foram para UTI é de: {round(df_11_d['%'], 2)}%\")"
      ]
    },
    {
      "cell_type": "markdown",
      "metadata": {
        "id": "44fnJzzFN4Oi"
      },
      "source": [
        "### Conclusão\n",
        "\n",
        "16.79% das pessoas que são hospitalizadas acabam indo para a TI."
      ]
    },
    {
      "cell_type": "markdown",
      "metadata": {
        "id": "YtK-Xqv-N4dJ"
      },
      "source": [
        "## 12 - Como as taxas de vacinação e mortalidade variam entre os diferentes continentes?\n",
        "\n",
        "**Justificativa:** Relacionar o número de mortos com o número de vacinados e gerar insights sobre a eficácia das campanhas de vacinação e seu impacto na redução de óbitos."
      ]
    },
    {
      "cell_type": "code",
      "execution_count": 81,
      "metadata": {
        "colab": {
          "base_uri": "https://localhost:8080/",
          "height": 373
        },
        "id": "zmQAQmfSN4dK",
        "outputId": "b29cabdb-af5a-4282-f498-80f1327372d8"
      },
      "outputs": [
        {
          "name": "stderr",
          "output_type": "stream",
          "text": [
            "/tmp/ipykernel_7765/797829831.py:12: SettingWithCopyWarning: \n",
            "A value is trying to be set on a copy of a slice from a DataFrame.\n",
            "Try using .loc[row_indexer,col_indexer] = value instead\n",
            "\n",
            "See the caveats in the documentation: https://pandas.pydata.org/pandas-docs/stable/user_guide/indexing.html#returning-a-view-versus-a-copy\n",
            "  df_12_d['continent'] = df_12_d['location'].map(continents)\n"
          ]
        },
        {
          "data": {
            "text/html": [
              "<div>\n",
              "<style scoped>\n",
              "    .dataframe tbody tr th:only-of-type {\n",
              "        vertical-align: middle;\n",
              "    }\n",
              "\n",
              "    .dataframe tbody tr th {\n",
              "        vertical-align: top;\n",
              "    }\n",
              "\n",
              "    .dataframe thead th {\n",
              "        text-align: right;\n",
              "    }\n",
              "</style>\n",
              "<table border=\"1\" class=\"dataframe\">\n",
              "  <thead>\n",
              "    <tr style=\"text-align: right;\">\n",
              "      <th></th>\n",
              "      <th>population</th>\n",
              "      <th>new_deaths</th>\n",
              "    </tr>\n",
              "    <tr>\n",
              "      <th>continent</th>\n",
              "      <th></th>\n",
              "      <th></th>\n",
              "    </tr>\n",
              "  </thead>\n",
              "  <tbody>\n",
              "    <tr>\n",
              "      <th>Africa</th>\n",
              "      <td>1426736614</td>\n",
              "      <td>258851.0</td>\n",
              "    </tr>\n",
              "    <tr>\n",
              "      <th>Asia</th>\n",
              "      <td>4721383370</td>\n",
              "      <td>1628635.0</td>\n",
              "    </tr>\n",
              "    <tr>\n",
              "      <th>Europe</th>\n",
              "      <td>744807803</td>\n",
              "      <td>2038597.0</td>\n",
              "    </tr>\n",
              "    <tr>\n",
              "      <th>North America</th>\n",
              "      <td>600323657</td>\n",
              "      <td>1594720.0</td>\n",
              "    </tr>\n",
              "    <tr>\n",
              "      <th>Oceania</th>\n",
              "      <td>45038860</td>\n",
              "      <td>25935.0</td>\n",
              "    </tr>\n",
              "    <tr>\n",
              "      <th>South America</th>\n",
              "      <td>436816679</td>\n",
              "      <td>1352944.0</td>\n",
              "    </tr>\n",
              "  </tbody>\n",
              "</table>\n",
              "</div>"
            ],
            "text/plain": [
              "               population  new_deaths\n",
              "continent                            \n",
              "Africa         1426736614    258851.0\n",
              "Asia           4721383370   1628635.0\n",
              "Europe          744807803   2038597.0\n",
              "North America   600323657   1594720.0\n",
              "Oceania          45038860     25935.0\n",
              "South America   436816679   1352944.0"
            ]
          },
          "execution_count": 81,
          "metadata": {},
          "output_type": "execute_result"
        }
      ],
      "source": [
        "split_12_d = ['location', 'population', 'new_deaths']\n",
        "df_12_d = death_df[split_12_d]\n",
        "\n",
        "continents = {\n",
        "    'Africa': 'Africa',\n",
        "    'Asia': 'Asia',\n",
        "    'Europe': 'Europe',\n",
        "    'South America': 'South America',\n",
        "    'North America': 'North America',\n",
        "    'Oceania': 'Oceania'\n",
        "}\n",
        "df_12_d['continent'] = df_12_d['location'].map(continents)\n",
        "\n",
        "df_12_d_continent = df_12_d.groupby('continent').agg({'population': 'first', 'new_deaths': 'sum'})\n",
        "df_12_d_continent"
      ]
    },
    {
      "cell_type": "code",
      "execution_count": 82,
      "metadata": {
        "colab": {
          "base_uri": "https://localhost:8080/",
          "height": 373
        },
        "id": "YQwKx9JZa82g",
        "outputId": "209d439d-9d68-4d62-8325-58ac19fd311a"
      },
      "outputs": [
        {
          "name": "stderr",
          "output_type": "stream",
          "text": [
            "/tmp/ipykernel_7765/2027879716.py:3: SettingWithCopyWarning: \n",
            "A value is trying to be set on a copy of a slice from a DataFrame.\n",
            "Try using .loc[row_indexer,col_indexer] = value instead\n",
            "\n",
            "See the caveats in the documentation: https://pandas.pydata.org/pandas-docs/stable/user_guide/indexing.html#returning-a-view-versus-a-copy\n",
            "  df_12_v['continent'] = df_12_v['location'].map(continents)\n"
          ]
        },
        {
          "data": {
            "text/html": [
              "<div>\n",
              "<style scoped>\n",
              "    .dataframe tbody tr th:only-of-type {\n",
              "        vertical-align: middle;\n",
              "    }\n",
              "\n",
              "    .dataframe tbody tr th {\n",
              "        vertical-align: top;\n",
              "    }\n",
              "\n",
              "    .dataframe thead th {\n",
              "        text-align: right;\n",
              "    }\n",
              "</style>\n",
              "<table border=\"1\" class=\"dataframe\">\n",
              "  <thead>\n",
              "    <tr style=\"text-align: right;\">\n",
              "      <th></th>\n",
              "      <th>people_vaccinated</th>\n",
              "    </tr>\n",
              "    <tr>\n",
              "      <th>continent</th>\n",
              "      <th></th>\n",
              "    </tr>\n",
              "  </thead>\n",
              "  <tbody>\n",
              "    <tr>\n",
              "      <th>Africa</th>\n",
              "      <td>5.207190e+08</td>\n",
              "    </tr>\n",
              "    <tr>\n",
              "      <th>Asia</th>\n",
              "      <td>3.667528e+09</td>\n",
              "    </tr>\n",
              "    <tr>\n",
              "      <th>Europe</th>\n",
              "      <td>5.230952e+08</td>\n",
              "    </tr>\n",
              "    <tr>\n",
              "      <th>North America</th>\n",
              "      <td>4.580809e+08</td>\n",
              "    </tr>\n",
              "    <tr>\n",
              "      <th>Oceania</th>\n",
              "      <td>2.896257e+07</td>\n",
              "    </tr>\n",
              "    <tr>\n",
              "      <th>South America</th>\n",
              "      <td>3.752737e+08</td>\n",
              "    </tr>\n",
              "  </tbody>\n",
              "</table>\n",
              "</div>"
            ],
            "text/plain": [
              "               people_vaccinated\n",
              "continent                       \n",
              "Africa              5.207190e+08\n",
              "Asia                3.667528e+09\n",
              "Europe              5.230952e+08\n",
              "North America       4.580809e+08\n",
              "Oceania             2.896257e+07\n",
              "South America       3.752737e+08"
            ]
          },
          "execution_count": 82,
          "metadata": {},
          "output_type": "execute_result"
        }
      ],
      "source": [
        "split_12_v = ['location', 'people_vaccinated']\n",
        "df_12_v = vaccinations_df[split_12_v]\n",
        "df_12_v['continent'] = df_12_v['location'].map(continents)\n",
        "\n",
        "df_12_v_continent = df_12_v.groupby('continent').agg({'people_vaccinated': 'last'})\n",
        "df_12_v_continent"
      ]
    },
    {
      "cell_type": "code",
      "execution_count": 83,
      "metadata": {
        "colab": {
          "base_uri": "https://localhost:8080/",
          "height": 269
        },
        "id": "rrS-Oo5nbpot",
        "outputId": "fd9059da-e5cf-4186-d62d-1570d0559536"
      },
      "outputs": [
        {
          "data": {
            "text/html": [
              "<div>\n",
              "<style scoped>\n",
              "    .dataframe tbody tr th:only-of-type {\n",
              "        vertical-align: middle;\n",
              "    }\n",
              "\n",
              "    .dataframe tbody tr th {\n",
              "        vertical-align: top;\n",
              "    }\n",
              "\n",
              "    .dataframe thead th {\n",
              "        text-align: right;\n",
              "    }\n",
              "</style>\n",
              "<table border=\"1\" class=\"dataframe\">\n",
              "  <thead>\n",
              "    <tr style=\"text-align: right;\">\n",
              "      <th></th>\n",
              "      <th>population</th>\n",
              "      <th>new_deaths</th>\n",
              "      <th>people_vaccinated</th>\n",
              "      <th>d_percent</th>\n",
              "      <th>v_percent</th>\n",
              "    </tr>\n",
              "    <tr>\n",
              "      <th>continent</th>\n",
              "      <th></th>\n",
              "      <th></th>\n",
              "      <th></th>\n",
              "      <th></th>\n",
              "      <th></th>\n",
              "    </tr>\n",
              "  </thead>\n",
              "  <tbody>\n",
              "    <tr>\n",
              "      <th>South America</th>\n",
              "      <td>436816679</td>\n",
              "      <td>1352944.0</td>\n",
              "      <td>3.752737e+08</td>\n",
              "      <td>0.31</td>\n",
              "      <td>85.91</td>\n",
              "    </tr>\n",
              "    <tr>\n",
              "      <th>Asia</th>\n",
              "      <td>4721383370</td>\n",
              "      <td>1628635.0</td>\n",
              "      <td>3.667528e+09</td>\n",
              "      <td>0.03</td>\n",
              "      <td>77.68</td>\n",
              "    </tr>\n",
              "    <tr>\n",
              "      <th>North America</th>\n",
              "      <td>600323657</td>\n",
              "      <td>1594720.0</td>\n",
              "      <td>4.580809e+08</td>\n",
              "      <td>0.27</td>\n",
              "      <td>76.31</td>\n",
              "    </tr>\n",
              "    <tr>\n",
              "      <th>Europe</th>\n",
              "      <td>744807803</td>\n",
              "      <td>2038597.0</td>\n",
              "      <td>5.230952e+08</td>\n",
              "      <td>0.27</td>\n",
              "      <td>70.23</td>\n",
              "    </tr>\n",
              "    <tr>\n",
              "      <th>Oceania</th>\n",
              "      <td>45038860</td>\n",
              "      <td>25935.0</td>\n",
              "      <td>2.896257e+07</td>\n",
              "      <td>0.06</td>\n",
              "      <td>64.31</td>\n",
              "    </tr>\n",
              "    <tr>\n",
              "      <th>Africa</th>\n",
              "      <td>1426736614</td>\n",
              "      <td>258851.0</td>\n",
              "      <td>5.207190e+08</td>\n",
              "      <td>0.02</td>\n",
              "      <td>36.50</td>\n",
              "    </tr>\n",
              "  </tbody>\n",
              "</table>\n",
              "</div>"
            ],
            "text/plain": [
              "               population  new_deaths  people_vaccinated  d_percent  v_percent\n",
              "continent                                                                     \n",
              "South America   436816679   1352944.0       3.752737e+08       0.31      85.91\n",
              "Asia           4721383370   1628635.0       3.667528e+09       0.03      77.68\n",
              "North America   600323657   1594720.0       4.580809e+08       0.27      76.31\n",
              "Europe          744807803   2038597.0       5.230952e+08       0.27      70.23\n",
              "Oceania          45038860     25935.0       2.896257e+07       0.06      64.31\n",
              "Africa         1426736614    258851.0       5.207190e+08       0.02      36.50"
            ]
          },
          "execution_count": 83,
          "metadata": {},
          "output_type": "execute_result"
        }
      ],
      "source": [
        "merged_df_12 = pd.merge(df_12_d_continent, df_12_v_continent, on='continent')\n",
        "merged_df_12['d_percent'] = round(((merged_df_12['new_deaths'] / merged_df_12['population']) * 100), 2)\n",
        "merged_df_12['v_percent'] = round(((merged_df_12['people_vaccinated'] / merged_df_12['population']) * 100), 2)\n",
        "\n",
        "result = merged_df_12.sort_values(by='v_percent', ascending=False)\n",
        "result"
      ]
    },
    {
      "cell_type": "markdown",
      "metadata": {
        "id": "MtdFpVIeN4dK"
      },
      "source": [
        "### Conclusão\n",
        "\n",
        "A relação entre números de mortos com o número de vacinados não gera nenhuma conclusão no sentido de quanto mais vacinar menor será o número de mortos, uma vez que na South America foi o maior percentual da população vacinada porem também foi o maior percentual de mortes entre os continentes."
      ]
    },
    {
      "cell_type": "markdown",
      "metadata": {
        "id": "8yQsrE-HH3Rc"
      },
      "source": [
        "## 13 - Os países com as maiores porcentagens de idosos tiveram as maiores taxas de mortalidade por COVID-19?\n",
        "\n",
        "**Justificativa:** Por os idosos fazerem parte da população de risco, pressupõe-se que os países com as maiores porcentagens desse público, tiveram, consequentemente, as maiores taxas de mortalidade."
      ]
    },
    {
      "cell_type": "code",
      "execution_count": 84,
      "metadata": {
        "colab": {
          "base_uri": "https://localhost:8080/",
          "height": 238
        },
        "id": "dWvU9vZsH3Rl",
        "outputId": "79720c8e-3c01-4f8c-babd-573504135e40"
      },
      "outputs": [
        {
          "data": {
            "text/html": [
              "<div>\n",
              "<style scoped>\n",
              "    .dataframe tbody tr th:only-of-type {\n",
              "        vertical-align: middle;\n",
              "    }\n",
              "\n",
              "    .dataframe tbody tr th {\n",
              "        vertical-align: top;\n",
              "    }\n",
              "\n",
              "    .dataframe thead th {\n",
              "        text-align: right;\n",
              "    }\n",
              "</style>\n",
              "<table border=\"1\" class=\"dataframe\">\n",
              "  <thead>\n",
              "    <tr style=\"text-align: right;\">\n",
              "      <th></th>\n",
              "      <th>population</th>\n",
              "      <th>total_deaths</th>\n",
              "      <th>d_percent</th>\n",
              "    </tr>\n",
              "    <tr>\n",
              "      <th>location</th>\n",
              "      <th></th>\n",
              "      <th></th>\n",
              "      <th></th>\n",
              "    </tr>\n",
              "  </thead>\n",
              "  <tbody>\n",
              "    <tr>\n",
              "      <th>Afghanistan</th>\n",
              "      <td>41128772</td>\n",
              "      <td>7884.0</td>\n",
              "      <td>0.02</td>\n",
              "    </tr>\n",
              "    <tr>\n",
              "      <th>Albania</th>\n",
              "      <td>2842318</td>\n",
              "      <td>3604.0</td>\n",
              "      <td>0.13</td>\n",
              "    </tr>\n",
              "    <tr>\n",
              "      <th>Algeria</th>\n",
              "      <td>44903228</td>\n",
              "      <td>6881.0</td>\n",
              "      <td>0.02</td>\n",
              "    </tr>\n",
              "    <tr>\n",
              "      <th>American Samoa</th>\n",
              "      <td>44295</td>\n",
              "      <td>34.0</td>\n",
              "      <td>0.08</td>\n",
              "    </tr>\n",
              "    <tr>\n",
              "      <th>Andorra</th>\n",
              "      <td>79843</td>\n",
              "      <td>159.0</td>\n",
              "      <td>0.20</td>\n",
              "    </tr>\n",
              "  </tbody>\n",
              "</table>\n",
              "</div>"
            ],
            "text/plain": [
              "                population  total_deaths  d_percent\n",
              "location                                           \n",
              "Afghanistan       41128772        7884.0       0.02\n",
              "Albania            2842318        3604.0       0.13\n",
              "Algeria           44903228        6881.0       0.02\n",
              "American Samoa       44295          34.0       0.08\n",
              "Andorra              79843         159.0       0.20"
            ]
          },
          "execution_count": 84,
          "metadata": {},
          "output_type": "execute_result"
        }
      ],
      "source": [
        "split_13_d = ['continent', 'location', 'population', 'total_deaths']\n",
        "df_13_d = death_df[split_13_d]\n",
        "df_13_d = df_13_d[df_13_d['continent'].notna()]\n",
        "df_13_d_group = df_13_d.groupby('location').agg({'population': 'max', 'total_deaths': 'max'})\n",
        "df_13_d_group['d_percent'] = round(((df_13_d_group['total_deaths'] / df_13_d_group['population']) * 100), 2)\n",
        "df_13_d_group.head(5)"
      ]
    },
    {
      "cell_type": "code",
      "execution_count": 85,
      "metadata": {
        "colab": {
          "base_uri": "https://localhost:8080/",
          "height": 238
        },
        "id": "LYslitcde7j1",
        "outputId": "1521c877-9bbb-4eb7-f314-d56501fe8514"
      },
      "outputs": [
        {
          "data": {
            "text/html": [
              "<div>\n",
              "<style scoped>\n",
              "    .dataframe tbody tr th:only-of-type {\n",
              "        vertical-align: middle;\n",
              "    }\n",
              "\n",
              "    .dataframe tbody tr th {\n",
              "        vertical-align: top;\n",
              "    }\n",
              "\n",
              "    .dataframe thead th {\n",
              "        text-align: right;\n",
              "    }\n",
              "</style>\n",
              "<table border=\"1\" class=\"dataframe\">\n",
              "  <thead>\n",
              "    <tr style=\"text-align: right;\">\n",
              "      <th></th>\n",
              "      <th>aged_65_older</th>\n",
              "    </tr>\n",
              "    <tr>\n",
              "      <th>location</th>\n",
              "      <th></th>\n",
              "    </tr>\n",
              "  </thead>\n",
              "  <tbody>\n",
              "    <tr>\n",
              "      <th>Afghanistan</th>\n",
              "      <td>2.58</td>\n",
              "    </tr>\n",
              "    <tr>\n",
              "      <th>Albania</th>\n",
              "      <td>13.19</td>\n",
              "    </tr>\n",
              "    <tr>\n",
              "      <th>Algeria</th>\n",
              "      <td>6.21</td>\n",
              "    </tr>\n",
              "    <tr>\n",
              "      <th>American Samoa</th>\n",
              "      <td>NaN</td>\n",
              "    </tr>\n",
              "    <tr>\n",
              "      <th>Andorra</th>\n",
              "      <td>NaN</td>\n",
              "    </tr>\n",
              "  </tbody>\n",
              "</table>\n",
              "</div>"
            ],
            "text/plain": [
              "                aged_65_older\n",
              "location                     \n",
              "Afghanistan              2.58\n",
              "Albania                 13.19\n",
              "Algeria                  6.21\n",
              "American Samoa            NaN\n",
              "Andorra                   NaN"
            ]
          },
          "execution_count": 85,
          "metadata": {},
          "output_type": "execute_result"
        }
      ],
      "source": [
        "# Considerando que idoso é > 65\n",
        "split_13_v = ['continent', 'location', 'aged_65_older']\n",
        "df_13_v = vaccinations_df[split_13_v]\n",
        "df_13_v = df_13_v[df_13_v['continent'].notna()]\n",
        "df_13_v_group = df_13_v.groupby('location').agg({'aged_65_older': 'max'})\n",
        "df_13_v_group.head(5)"
      ]
    },
    {
      "cell_type": "code",
      "execution_count": 86,
      "metadata": {
        "colab": {
          "base_uri": "https://localhost:8080/",
          "height": 238
        },
        "id": "-C3FjCBjg4Rp",
        "outputId": "a5a05b3f-5139-4ed0-a703-7664d95a3c99"
      },
      "outputs": [
        {
          "data": {
            "text/html": [
              "<div>\n",
              "<style scoped>\n",
              "    .dataframe tbody tr th:only-of-type {\n",
              "        vertical-align: middle;\n",
              "    }\n",
              "\n",
              "    .dataframe tbody tr th {\n",
              "        vertical-align: top;\n",
              "    }\n",
              "\n",
              "    .dataframe thead th {\n",
              "        text-align: right;\n",
              "    }\n",
              "</style>\n",
              "<table border=\"1\" class=\"dataframe\">\n",
              "  <thead>\n",
              "    <tr style=\"text-align: right;\">\n",
              "      <th></th>\n",
              "      <th>population</th>\n",
              "      <th>total_deaths</th>\n",
              "      <th>d_percent</th>\n",
              "      <th>aged_65_older</th>\n",
              "    </tr>\n",
              "    <tr>\n",
              "      <th>location</th>\n",
              "      <th></th>\n",
              "      <th></th>\n",
              "      <th></th>\n",
              "      <th></th>\n",
              "    </tr>\n",
              "  </thead>\n",
              "  <tbody>\n",
              "    <tr>\n",
              "      <th>Japan</th>\n",
              "      <td>123951696</td>\n",
              "      <td>74096.0</td>\n",
              "      <td>0.06</td>\n",
              "      <td>27.05</td>\n",
              "    </tr>\n",
              "    <tr>\n",
              "      <th>Italy</th>\n",
              "      <td>59037472</td>\n",
              "      <td>189262.0</td>\n",
              "      <td>0.32</td>\n",
              "      <td>23.02</td>\n",
              "    </tr>\n",
              "    <tr>\n",
              "      <th>Portugal</th>\n",
              "      <td>10270857</td>\n",
              "      <td>26480.0</td>\n",
              "      <td>0.26</td>\n",
              "      <td>21.50</td>\n",
              "    </tr>\n",
              "    <tr>\n",
              "      <th>Germany</th>\n",
              "      <td>83369840</td>\n",
              "      <td>171411.0</td>\n",
              "      <td>0.21</td>\n",
              "      <td>21.45</td>\n",
              "    </tr>\n",
              "    <tr>\n",
              "      <th>Finland</th>\n",
              "      <td>5540745</td>\n",
              "      <td>9097.0</td>\n",
              "      <td>0.16</td>\n",
              "      <td>21.23</td>\n",
              "    </tr>\n",
              "  </tbody>\n",
              "</table>\n",
              "</div>"
            ],
            "text/plain": [
              "          population  total_deaths  d_percent  aged_65_older\n",
              "location                                                    \n",
              "Japan      123951696       74096.0       0.06          27.05\n",
              "Italy       59037472      189262.0       0.32          23.02\n",
              "Portugal    10270857       26480.0       0.26          21.50\n",
              "Germany     83369840      171411.0       0.21          21.45\n",
              "Finland      5540745        9097.0       0.16          21.23"
            ]
          },
          "execution_count": 86,
          "metadata": {},
          "output_type": "execute_result"
        }
      ],
      "source": [
        "merged_df_13 = pd.merge(df_13_d_group, df_13_v_group, on='location')\n",
        "result = merged_df_13.sort_values(by='aged_65_older', ascending=False)\n",
        "result.head(5)"
      ]
    },
    {
      "cell_type": "code",
      "execution_count": 87,
      "metadata": {
        "colab": {
          "base_uri": "https://localhost:8080/",
          "height": 238
        },
        "id": "iX0u9WDohoCe",
        "outputId": "cb001419-1be6-4d81-ee86-740374353857"
      },
      "outputs": [
        {
          "data": {
            "text/html": [
              "<div>\n",
              "<style scoped>\n",
              "    .dataframe tbody tr th:only-of-type {\n",
              "        vertical-align: middle;\n",
              "    }\n",
              "\n",
              "    .dataframe tbody tr th {\n",
              "        vertical-align: top;\n",
              "    }\n",
              "\n",
              "    .dataframe thead th {\n",
              "        text-align: right;\n",
              "    }\n",
              "</style>\n",
              "<table border=\"1\" class=\"dataframe\">\n",
              "  <thead>\n",
              "    <tr style=\"text-align: right;\">\n",
              "      <th></th>\n",
              "      <th>population</th>\n",
              "      <th>total_deaths</th>\n",
              "      <th>d_percent</th>\n",
              "      <th>aged_65_older</th>\n",
              "    </tr>\n",
              "    <tr>\n",
              "      <th>location</th>\n",
              "      <th></th>\n",
              "      <th></th>\n",
              "      <th></th>\n",
              "      <th></th>\n",
              "    </tr>\n",
              "  </thead>\n",
              "  <tbody>\n",
              "    <tr>\n",
              "      <th>Peru</th>\n",
              "      <td>34049588</td>\n",
              "      <td>219866.0</td>\n",
              "      <td>0.65</td>\n",
              "      <td>7.15</td>\n",
              "    </tr>\n",
              "    <tr>\n",
              "      <th>Bulgaria</th>\n",
              "      <td>6781955</td>\n",
              "      <td>38282.0</td>\n",
              "      <td>0.56</td>\n",
              "      <td>20.80</td>\n",
              "    </tr>\n",
              "    <tr>\n",
              "      <th>Bosnia and Herzegovina</th>\n",
              "      <td>3233530</td>\n",
              "      <td>16328.0</td>\n",
              "      <td>0.50</td>\n",
              "      <td>16.57</td>\n",
              "    </tr>\n",
              "    <tr>\n",
              "      <th>Hungary</th>\n",
              "      <td>9967304</td>\n",
              "      <td>48719.0</td>\n",
              "      <td>0.49</td>\n",
              "      <td>18.58</td>\n",
              "    </tr>\n",
              "    <tr>\n",
              "      <th>North Macedonia</th>\n",
              "      <td>2093606</td>\n",
              "      <td>9667.0</td>\n",
              "      <td>0.46</td>\n",
              "      <td>13.26</td>\n",
              "    </tr>\n",
              "  </tbody>\n",
              "</table>\n",
              "</div>"
            ],
            "text/plain": [
              "                        population  total_deaths  d_percent  aged_65_older\n",
              "location                                                                  \n",
              "Peru                      34049588      219866.0       0.65           7.15\n",
              "Bulgaria                   6781955       38282.0       0.56          20.80\n",
              "Bosnia and Herzegovina     3233530       16328.0       0.50          16.57\n",
              "Hungary                    9967304       48719.0       0.49          18.58\n",
              "North Macedonia            2093606        9667.0       0.46          13.26"
            ]
          },
          "execution_count": 87,
          "metadata": {},
          "output_type": "execute_result"
        }
      ],
      "source": [
        "result_d = merged_df_13.sort_values(by='d_percent', ascending=False)\n",
        "result_d.head(5)"
      ]
    },
    {
      "cell_type": "markdown",
      "metadata": {
        "id": "yBFxswkIH3Rl"
      },
      "source": [
        "### Conclusão\n",
        "\n",
        "Considerando o TOP-5 não conseguimos afirmar que os países que tem maior percentual de idosos tiveram mais mortes, o que se apresentou na verdade foi que esses países apresentaram baixas taxas de mortes de maneira geral."
      ]
    },
    {
      "cell_type": "markdown",
      "metadata": {
        "id": "8j5G-3vfIeMy"
      },
      "source": [
        "## 14 - Os paises com maior populacao por area quadrada tiveram maior numero de incidencias, internações  ou mortes?\n",
        "\n",
        "**Justificativa:** Paises com maior populacao por area quadrada tiveram um maior numero de incidencias, internações (geral e UTI) ou mortes."
      ]
    },
    {
      "cell_type": "code",
      "execution_count": 88,
      "metadata": {
        "colab": {
          "base_uri": "https://localhost:8080/",
          "height": 238
        },
        "id": "ptt6HVMYIeNH",
        "outputId": "ea7548b7-f50b-4658-b225-69199251f7af"
      },
      "outputs": [
        {
          "data": {
            "text/html": [
              "<div>\n",
              "<style scoped>\n",
              "    .dataframe tbody tr th:only-of-type {\n",
              "        vertical-align: middle;\n",
              "    }\n",
              "\n",
              "    .dataframe tbody tr th {\n",
              "        vertical-align: top;\n",
              "    }\n",
              "\n",
              "    .dataframe thead th {\n",
              "        text-align: right;\n",
              "    }\n",
              "</style>\n",
              "<table border=\"1\" class=\"dataframe\">\n",
              "  <thead>\n",
              "    <tr style=\"text-align: right;\">\n",
              "      <th></th>\n",
              "      <th>population</th>\n",
              "      <th>total_cases</th>\n",
              "      <th>hosp_patients</th>\n",
              "      <th>total_deaths</th>\n",
              "      <th>tc_percent</th>\n",
              "      <th>hp_percent</th>\n",
              "      <th>td_percent</th>\n",
              "    </tr>\n",
              "    <tr>\n",
              "      <th>location</th>\n",
              "      <th></th>\n",
              "      <th></th>\n",
              "      <th></th>\n",
              "      <th></th>\n",
              "      <th></th>\n",
              "      <th></th>\n",
              "      <th></th>\n",
              "    </tr>\n",
              "  </thead>\n",
              "  <tbody>\n",
              "    <tr>\n",
              "      <th>Afghanistan</th>\n",
              "      <td>41128772</td>\n",
              "      <td>211630.0</td>\n",
              "      <td>0.0</td>\n",
              "      <td>7884.0</td>\n",
              "      <td>0.51</td>\n",
              "      <td>0.0</td>\n",
              "      <td>0.02</td>\n",
              "    </tr>\n",
              "    <tr>\n",
              "      <th>Albania</th>\n",
              "      <td>2842318</td>\n",
              "      <td>333897.0</td>\n",
              "      <td>0.0</td>\n",
              "      <td>3604.0</td>\n",
              "      <td>11.75</td>\n",
              "      <td>0.0</td>\n",
              "      <td>0.13</td>\n",
              "    </tr>\n",
              "    <tr>\n",
              "      <th>Algeria</th>\n",
              "      <td>44903228</td>\n",
              "      <td>271613.0</td>\n",
              "      <td>0.0</td>\n",
              "      <td>6881.0</td>\n",
              "      <td>0.60</td>\n",
              "      <td>0.0</td>\n",
              "      <td>0.02</td>\n",
              "    </tr>\n",
              "    <tr>\n",
              "      <th>American Samoa</th>\n",
              "      <td>44295</td>\n",
              "      <td>8326.0</td>\n",
              "      <td>0.0</td>\n",
              "      <td>34.0</td>\n",
              "      <td>18.80</td>\n",
              "      <td>0.0</td>\n",
              "      <td>0.08</td>\n",
              "    </tr>\n",
              "    <tr>\n",
              "      <th>Andorra</th>\n",
              "      <td>79843</td>\n",
              "      <td>47939.0</td>\n",
              "      <td>0.0</td>\n",
              "      <td>159.0</td>\n",
              "      <td>60.04</td>\n",
              "      <td>0.0</td>\n",
              "      <td>0.20</td>\n",
              "    </tr>\n",
              "  </tbody>\n",
              "</table>\n",
              "</div>"
            ],
            "text/plain": [
              "                population  total_cases  hosp_patients  total_deaths  \\\n",
              "location                                                               \n",
              "Afghanistan       41128772     211630.0            0.0        7884.0   \n",
              "Albania            2842318     333897.0            0.0        3604.0   \n",
              "Algeria           44903228     271613.0            0.0        6881.0   \n",
              "American Samoa       44295       8326.0            0.0          34.0   \n",
              "Andorra              79843      47939.0            0.0         159.0   \n",
              "\n",
              "                tc_percent  hp_percent  td_percent  \n",
              "location                                            \n",
              "Afghanistan           0.51         0.0        0.02  \n",
              "Albania              11.75         0.0        0.13  \n",
              "Algeria               0.60         0.0        0.02  \n",
              "American Samoa       18.80         0.0        0.08  \n",
              "Andorra              60.04         0.0        0.20  "
            ]
          },
          "execution_count": 88,
          "metadata": {},
          "output_type": "execute_result"
        }
      ],
      "source": [
        "split_14_d = ['continent', 'location', 'population', 'total_cases', 'total_deaths', 'hosp_patients']\n",
        "df_14_d = death_df[split_14_d]\n",
        "df_14_d = df_14_d[df_14_d['continent'].notna()]\n",
        "df_14_d_group = df_14_d.groupby('location').agg({'population': 'max','total_cases': 'max', 'hosp_patients': 'sum', 'total_deaths': 'max'})\n",
        "\n",
        "df_14_d_group['tc_percent'] = round(((df_14_d_group['total_cases'] / df_14_d_group['population']) * 100), 2)\n",
        "df_14_d_group['hp_percent'] = round(((df_14_d_group['hosp_patients'] / df_14_d_group['population']) * 100), 2)\n",
        "df_14_d_group['td_percent'] = round(((df_14_d_group['total_deaths'] / df_14_d_group['population']) * 100), 2)\n",
        "\n",
        "df_14_d_group.head(5)"
      ]
    },
    {
      "cell_type": "code",
      "execution_count": 89,
      "metadata": {
        "colab": {
          "base_uri": "https://localhost:8080/",
          "height": 238
        },
        "id": "xA9nzaiok6EJ",
        "outputId": "75c5ae6c-6f65-43ce-e691-435ef6bae861"
      },
      "outputs": [
        {
          "data": {
            "text/html": [
              "<div>\n",
              "<style scoped>\n",
              "    .dataframe tbody tr th:only-of-type {\n",
              "        vertical-align: middle;\n",
              "    }\n",
              "\n",
              "    .dataframe tbody tr th {\n",
              "        vertical-align: top;\n",
              "    }\n",
              "\n",
              "    .dataframe thead th {\n",
              "        text-align: right;\n",
              "    }\n",
              "</style>\n",
              "<table border=\"1\" class=\"dataframe\">\n",
              "  <thead>\n",
              "    <tr style=\"text-align: right;\">\n",
              "      <th></th>\n",
              "      <th>population_density</th>\n",
              "    </tr>\n",
              "    <tr>\n",
              "      <th>location</th>\n",
              "      <th></th>\n",
              "    </tr>\n",
              "  </thead>\n",
              "  <tbody>\n",
              "    <tr>\n",
              "      <th>Afghanistan</th>\n",
              "      <td>54.42</td>\n",
              "    </tr>\n",
              "    <tr>\n",
              "      <th>Albania</th>\n",
              "      <td>104.87</td>\n",
              "    </tr>\n",
              "    <tr>\n",
              "      <th>Algeria</th>\n",
              "      <td>17.35</td>\n",
              "    </tr>\n",
              "    <tr>\n",
              "      <th>American Samoa</th>\n",
              "      <td>278.21</td>\n",
              "    </tr>\n",
              "    <tr>\n",
              "      <th>Andorra</th>\n",
              "      <td>163.76</td>\n",
              "    </tr>\n",
              "  </tbody>\n",
              "</table>\n",
              "</div>"
            ],
            "text/plain": [
              "                population_density\n",
              "location                          \n",
              "Afghanistan                  54.42\n",
              "Albania                     104.87\n",
              "Algeria                      17.35\n",
              "American Samoa              278.21\n",
              "Andorra                     163.76"
            ]
          },
          "execution_count": 89,
          "metadata": {},
          "output_type": "execute_result"
        }
      ],
      "source": [
        "split_14_v = ['continent', 'location', 'population_density']\n",
        "df_14_v = vaccinations_df[split_14_v]\n",
        "df_14_v = df_14_v[df_14_v['continent'].notna()]\n",
        "df_14_v_group = df_14_v.groupby('location').agg({'population_density': 'max'})\n",
        "df_14_v_group.head(5)"
      ]
    },
    {
      "cell_type": "code",
      "execution_count": 90,
      "metadata": {
        "colab": {
          "base_uri": "https://localhost:8080/",
          "height": 238
        },
        "id": "I7IwQkWKlePB",
        "outputId": "110d2d78-e15c-4da7-8400-bce46adf4b62"
      },
      "outputs": [
        {
          "data": {
            "text/html": [
              "<div>\n",
              "<style scoped>\n",
              "    .dataframe tbody tr th:only-of-type {\n",
              "        vertical-align: middle;\n",
              "    }\n",
              "\n",
              "    .dataframe tbody tr th {\n",
              "        vertical-align: top;\n",
              "    }\n",
              "\n",
              "    .dataframe thead th {\n",
              "        text-align: right;\n",
              "    }\n",
              "</style>\n",
              "<table border=\"1\" class=\"dataframe\">\n",
              "  <thead>\n",
              "    <tr style=\"text-align: right;\">\n",
              "      <th></th>\n",
              "      <th>population</th>\n",
              "      <th>total_cases</th>\n",
              "      <th>hosp_patients</th>\n",
              "      <th>total_deaths</th>\n",
              "      <th>tc_percent</th>\n",
              "      <th>hp_percent</th>\n",
              "      <th>td_percent</th>\n",
              "      <th>population_density</th>\n",
              "    </tr>\n",
              "    <tr>\n",
              "      <th>location</th>\n",
              "      <th></th>\n",
              "      <th></th>\n",
              "      <th></th>\n",
              "      <th></th>\n",
              "      <th></th>\n",
              "      <th></th>\n",
              "      <th></th>\n",
              "      <th></th>\n",
              "    </tr>\n",
              "  </thead>\n",
              "  <tbody>\n",
              "    <tr>\n",
              "      <th>South Korea</th>\n",
              "      <td>51815808</td>\n",
              "      <td>30918060.0</td>\n",
              "      <td>470347.0</td>\n",
              "      <td>34332.0</td>\n",
              "      <td>59.67</td>\n",
              "      <td>0.91</td>\n",
              "      <td>0.07</td>\n",
              "      <td>527.97</td>\n",
              "    </tr>\n",
              "    <tr>\n",
              "      <th>Netherlands</th>\n",
              "      <td>17564020</td>\n",
              "      <td>8610372.0</td>\n",
              "      <td>551206.0</td>\n",
              "      <td>22992.0</td>\n",
              "      <td>49.02</td>\n",
              "      <td>3.14</td>\n",
              "      <td>0.13</td>\n",
              "      <td>508.54</td>\n",
              "    </tr>\n",
              "    <tr>\n",
              "      <th>Israel</th>\n",
              "      <td>9449000</td>\n",
              "      <td>4817255.0</td>\n",
              "      <td>958583.0</td>\n",
              "      <td>12416.0</td>\n",
              "      <td>50.98</td>\n",
              "      <td>10.14</td>\n",
              "      <td>0.13</td>\n",
              "      <td>402.61</td>\n",
              "    </tr>\n",
              "    <tr>\n",
              "      <th>Belgium</th>\n",
              "      <td>11655923</td>\n",
              "      <td>4782863.0</td>\n",
              "      <td>2022577.0</td>\n",
              "      <td>34115.0</td>\n",
              "      <td>41.03</td>\n",
              "      <td>17.35</td>\n",
              "      <td>0.29</td>\n",
              "      <td>375.56</td>\n",
              "    </tr>\n",
              "    <tr>\n",
              "      <th>Japan</th>\n",
              "      <td>123951696</td>\n",
              "      <td>33523927.0</td>\n",
              "      <td>1865274.0</td>\n",
              "      <td>74096.0</td>\n",
              "      <td>27.05</td>\n",
              "      <td>1.50</td>\n",
              "      <td>0.06</td>\n",
              "      <td>347.78</td>\n",
              "    </tr>\n",
              "  </tbody>\n",
              "</table>\n",
              "</div>"
            ],
            "text/plain": [
              "             population  total_cases  hosp_patients  total_deaths  tc_percent  \\\n",
              "location                                                                        \n",
              "South Korea    51815808   30918060.0       470347.0       34332.0       59.67   \n",
              "Netherlands    17564020    8610372.0       551206.0       22992.0       49.02   \n",
              "Israel          9449000    4817255.0       958583.0       12416.0       50.98   \n",
              "Belgium        11655923    4782863.0      2022577.0       34115.0       41.03   \n",
              "Japan         123951696   33523927.0      1865274.0       74096.0       27.05   \n",
              "\n",
              "             hp_percent  td_percent  population_density  \n",
              "location                                                 \n",
              "South Korea        0.91        0.07              527.97  \n",
              "Netherlands        3.14        0.13              508.54  \n",
              "Israel            10.14        0.13              402.61  \n",
              "Belgium           17.35        0.29              375.56  \n",
              "Japan              1.50        0.06              347.78  "
            ]
          },
          "execution_count": 90,
          "metadata": {},
          "output_type": "execute_result"
        }
      ],
      "source": [
        "merged_df_14 = pd.merge(df_14_d_group, df_14_v_group, on='location')\n",
        "merged_df_14 = merged_df_14[merged_df_14['hosp_patients'] != 0]\n",
        "result = merged_df_14.sort_values(by='population_density', ascending=False)\n",
        "result.head(5)"
      ]
    },
    {
      "cell_type": "code",
      "execution_count": 91,
      "metadata": {
        "colab": {
          "base_uri": "https://localhost:8080/"
        },
        "id": "va5LsLRjmuTf",
        "outputId": "fb58ecbb-a4f2-43e2-8779-34abe4ac0414"
      },
      "outputs": [
        {
          "name": "stdout",
          "output_type": "stream",
          "text": [
            "total_cases:\n",
            " -> Máximo: 73.18%\n",
            " -> Média: 36.74%\n",
            "\n",
            "hosp_patients:\n",
            " -> Máximo: 35.84%\n",
            " -> Média: 13.32%\n",
            "\n",
            "total_deaths:\n",
            " -> Máximo: 0.56%\n",
            " -> Média: 0.23%\n",
            "\n"
          ]
        }
      ],
      "source": [
        "print(f\"total_cases:\\n -> Máximo: {result['tc_percent'].max()}%\\n -> Média: {result['tc_percent'].median()}%\\n\")\n",
        "print(f\"hosp_patients:\\n -> Máximo: {result['hp_percent'].max()}%\\n -> Média: {result['hp_percent'].median()}%\\n\")\n",
        "print(f\"total_deaths:\\n -> Máximo: {result['td_percent'].max()}%\\n -> Média: {result['td_percent'].median()}%\\n\")"
      ]
    },
    {
      "cell_type": "markdown",
      "metadata": {
        "id": "PaoXvLTDIeNH"
      },
      "source": [
        "### Conclusão\n",
        "\n",
        "De maneira geral, analisando os TOP-5 em termos de densidade populacional temos que o total de mortes e de pacientes hospitalizados estão inferiores a média dos valores registrados. Já analisando os números de total de casos de Covid esses valores estão acima da média, podendo ter sim uma relação entre maior contaminação em locais com maior densidade populacional."
      ]
    },
    {
      "cell_type": "markdown",
      "metadata": {
        "id": "lTHt66RvIeaA"
      },
      "source": [
        "## 15 - A quantidade de pessoas hospitalizadas diminuiu quando o total de vacinação aumentou?\n",
        "\n",
        "**Justificativa:** Como o covid foi responsável por lotar os hospitais pelo mundo todo, espera-se que conforme a vacinação progrediu, o número de pessoas hospilatizados tenha diminuido."
      ]
    },
    {
      "cell_type": "code",
      "execution_count": 92,
      "metadata": {
        "id": "Btrc9y51IeaB"
      },
      "outputs": [
        {
          "data": {
            "text/html": [
              "<div>\n",
              "<style scoped>\n",
              "    .dataframe tbody tr th:only-of-type {\n",
              "        vertical-align: middle;\n",
              "    }\n",
              "\n",
              "    .dataframe tbody tr th {\n",
              "        vertical-align: top;\n",
              "    }\n",
              "\n",
              "    .dataframe thead th {\n",
              "        text-align: right;\n",
              "    }\n",
              "</style>\n",
              "<table border=\"1\" class=\"dataframe\">\n",
              "  <thead>\n",
              "    <tr style=\"text-align: right;\">\n",
              "      <th></th>\n",
              "      <th>hosp_patients</th>\n",
              "    </tr>\n",
              "    <tr>\n",
              "      <th>date</th>\n",
              "      <th></th>\n",
              "    </tr>\n",
              "  </thead>\n",
              "  <tbody>\n",
              "    <tr>\n",
              "      <th>2020-01-01</th>\n",
              "      <td>0.0</td>\n",
              "    </tr>\n",
              "    <tr>\n",
              "      <th>2020-01-02</th>\n",
              "      <td>0.0</td>\n",
              "    </tr>\n",
              "    <tr>\n",
              "      <th>2020-01-03</th>\n",
              "      <td>0.0</td>\n",
              "    </tr>\n",
              "    <tr>\n",
              "      <th>2020-01-04</th>\n",
              "      <td>0.0</td>\n",
              "    </tr>\n",
              "    <tr>\n",
              "      <th>2020-01-05</th>\n",
              "      <td>0.0</td>\n",
              "    </tr>\n",
              "  </tbody>\n",
              "</table>\n",
              "</div>"
            ],
            "text/plain": [
              "            hosp_patients\n",
              "date                     \n",
              "2020-01-01            0.0\n",
              "2020-01-02            0.0\n",
              "2020-01-03            0.0\n",
              "2020-01-04            0.0\n",
              "2020-01-05            0.0"
            ]
          },
          "execution_count": 92,
          "metadata": {},
          "output_type": "execute_result"
        }
      ],
      "source": [
        "split_15_d = ['continent', 'location', 'date', 'hosp_patients']\n",
        "df_15_d = death_df[split_15_d]\n",
        "df_15_d = df_15_d[df_15_d['continent'].notna()]\n",
        "df_15_d['date'] = pd.to_datetime(df_15_d['date'])\n",
        "df_15_d_group = df_15_d.groupby('date').agg({'hosp_patients': 'sum'})\n",
        "\n",
        "df_15_d_group.head(5)"
      ]
    },
    {
      "cell_type": "code",
      "execution_count": 93,
      "metadata": {
        "id": "kULxWiTHHxue"
      },
      "outputs": [
        {
          "data": {
            "text/html": [
              "<div>\n",
              "<style scoped>\n",
              "    .dataframe tbody tr th:only-of-type {\n",
              "        vertical-align: middle;\n",
              "    }\n",
              "\n",
              "    .dataframe tbody tr th {\n",
              "        vertical-align: top;\n",
              "    }\n",
              "\n",
              "    .dataframe thead th {\n",
              "        text-align: right;\n",
              "    }\n",
              "</style>\n",
              "<table border=\"1\" class=\"dataframe\">\n",
              "  <thead>\n",
              "    <tr style=\"text-align: right;\">\n",
              "      <th></th>\n",
              "      <th>total_vaccinations</th>\n",
              "    </tr>\n",
              "    <tr>\n",
              "      <th>date</th>\n",
              "      <th></th>\n",
              "    </tr>\n",
              "  </thead>\n",
              "  <tbody>\n",
              "    <tr>\n",
              "      <th>2020-01-01</th>\n",
              "      <td>0.0</td>\n",
              "    </tr>\n",
              "    <tr>\n",
              "      <th>2020-01-02</th>\n",
              "      <td>0.0</td>\n",
              "    </tr>\n",
              "    <tr>\n",
              "      <th>2020-01-03</th>\n",
              "      <td>0.0</td>\n",
              "    </tr>\n",
              "    <tr>\n",
              "      <th>2020-01-04</th>\n",
              "      <td>0.0</td>\n",
              "    </tr>\n",
              "    <tr>\n",
              "      <th>2020-01-05</th>\n",
              "      <td>0.0</td>\n",
              "    </tr>\n",
              "  </tbody>\n",
              "</table>\n",
              "</div>"
            ],
            "text/plain": [
              "            total_vaccinations\n",
              "date                          \n",
              "2020-01-01                 0.0\n",
              "2020-01-02                 0.0\n",
              "2020-01-03                 0.0\n",
              "2020-01-04                 0.0\n",
              "2020-01-05                 0.0"
            ]
          },
          "execution_count": 93,
          "metadata": {},
          "output_type": "execute_result"
        }
      ],
      "source": [
        "split_15_v = ['continent', 'location', 'date', 'total_vaccinations']\n",
        "df_15_v = vaccinations_df[split_15_v]\n",
        "df_15_v = df_15_v[df_15_v['continent'].notna()]\n",
        "df_15_v['date'] = pd.to_datetime(df_15_v['date'])\n",
        "df_15_v_group = df_15_v.groupby('date').agg({'total_vaccinations': 'sum'})\n",
        "\n",
        "df_15_v_group.head(5)"
      ]
    },
    {
      "cell_type": "code",
      "execution_count": 94,
      "metadata": {
        "id": "RpKAyfusIInt"
      },
      "outputs": [
        {
          "data": {
            "text/html": [
              "<div>\n",
              "<style scoped>\n",
              "    .dataframe tbody tr th:only-of-type {\n",
              "        vertical-align: middle;\n",
              "    }\n",
              "\n",
              "    .dataframe tbody tr th {\n",
              "        vertical-align: top;\n",
              "    }\n",
              "\n",
              "    .dataframe thead th {\n",
              "        text-align: right;\n",
              "    }\n",
              "</style>\n",
              "<table border=\"1\" class=\"dataframe\">\n",
              "  <thead>\n",
              "    <tr style=\"text-align: right;\">\n",
              "      <th></th>\n",
              "      <th>date</th>\n",
              "      <th>hosp_patients</th>\n",
              "      <th>total_vaccinations</th>\n",
              "    </tr>\n",
              "  </thead>\n",
              "  <tbody>\n",
              "    <tr>\n",
              "      <th>0</th>\n",
              "      <td>2020-01-01</td>\n",
              "      <td>0.0</td>\n",
              "      <td>0.000000e+00</td>\n",
              "    </tr>\n",
              "    <tr>\n",
              "      <th>1</th>\n",
              "      <td>2020-01-02</td>\n",
              "      <td>0.0</td>\n",
              "      <td>0.000000e+00</td>\n",
              "    </tr>\n",
              "    <tr>\n",
              "      <th>2</th>\n",
              "      <td>2020-01-03</td>\n",
              "      <td>0.0</td>\n",
              "      <td>0.000000e+00</td>\n",
              "    </tr>\n",
              "    <tr>\n",
              "      <th>3</th>\n",
              "      <td>2020-01-04</td>\n",
              "      <td>0.0</td>\n",
              "      <td>0.000000e+00</td>\n",
              "    </tr>\n",
              "    <tr>\n",
              "      <th>4</th>\n",
              "      <td>2020-01-05</td>\n",
              "      <td>0.0</td>\n",
              "      <td>0.000000e+00</td>\n",
              "    </tr>\n",
              "    <tr>\n",
              "      <th>...</th>\n",
              "      <td>...</td>\n",
              "      <td>...</td>\n",
              "      <td>...</td>\n",
              "    </tr>\n",
              "    <tr>\n",
              "      <th>1199</th>\n",
              "      <td>2023-04-14</td>\n",
              "      <td>14892.0</td>\n",
              "      <td>3.236053e+09</td>\n",
              "    </tr>\n",
              "    <tr>\n",
              "      <th>1200</th>\n",
              "      <td>2023-04-15</td>\n",
              "      <td>14228.0</td>\n",
              "      <td>3.275308e+09</td>\n",
              "    </tr>\n",
              "    <tr>\n",
              "      <th>1201</th>\n",
              "      <td>2023-04-16</td>\n",
              "      <td>13837.0</td>\n",
              "      <td>3.244981e+09</td>\n",
              "    </tr>\n",
              "    <tr>\n",
              "      <th>1202</th>\n",
              "      <td>2023-04-17</td>\n",
              "      <td>2821.0</td>\n",
              "      <td>2.932550e+09</td>\n",
              "    </tr>\n",
              "    <tr>\n",
              "      <th>1203</th>\n",
              "      <td>2023-04-18</td>\n",
              "      <td>1825.0</td>\n",
              "      <td>0.000000e+00</td>\n",
              "    </tr>\n",
              "  </tbody>\n",
              "</table>\n",
              "<p>1204 rows × 3 columns</p>\n",
              "</div>"
            ],
            "text/plain": [
              "           date  hosp_patients  total_vaccinations\n",
              "0    2020-01-01            0.0        0.000000e+00\n",
              "1    2020-01-02            0.0        0.000000e+00\n",
              "2    2020-01-03            0.0        0.000000e+00\n",
              "3    2020-01-04            0.0        0.000000e+00\n",
              "4    2020-01-05            0.0        0.000000e+00\n",
              "...         ...            ...                 ...\n",
              "1199 2023-04-14        14892.0        3.236053e+09\n",
              "1200 2023-04-15        14228.0        3.275308e+09\n",
              "1201 2023-04-16        13837.0        3.244981e+09\n",
              "1202 2023-04-17         2821.0        2.932550e+09\n",
              "1203 2023-04-18         1825.0        0.000000e+00\n",
              "\n",
              "[1204 rows x 3 columns]"
            ]
          },
          "execution_count": 94,
          "metadata": {},
          "output_type": "execute_result"
        }
      ],
      "source": [
        "merged_df_15 = pd.merge(df_15_d_group, df_15_v_group, on='date').reset_index()\n",
        "merged_df_15"
      ]
    },
    {
      "cell_type": "code",
      "execution_count": 97,
      "metadata": {
        "colab": {
          "base_uri": "https://localhost:8080/",
          "height": 494
        },
        "id": "Q3aR9aJ5J3MU",
        "outputId": "fd2a8463-8121-46b8-88a5-7559f7eeb6b5"
      },
      "outputs": [
        {
          "data": {
            "image/png": "[encoded data removed]",
            "text/plain": [
              "<Figure size 640x480 with 2 Axes>"
            ]
          },
          "metadata": {},
          "output_type": "display_data"
        }
      ],
      "source": [
        "# Plotar gráfico\n",
        "\n",
        "fig, ax1 = plt.subplots()\n",
        "\n",
        "ax1.set_xlabel('date')\n",
        "ax1.set_ylabel('qtdade_hosp_patients', color='tab:red')\n",
        "ax1.plot(merged_df_15['date'], merged_df_15['hosp_patients'], label='Hospital Patients', color='tab:red')\n",
        "ax1.tick_params(axis='y', labelcolor='tab:red')\n",
        "ax1.legend()\n",
        "\n",
        "ax2 = ax1.twinx()\n",
        "\n",
        "ax2.set_ylabel('qtdade_total_vaccinations', color='tab:blue')\n",
        "ax2.plot(merged_df_15['date'], merged_df_15['total_vaccinations'], label='Total Vaccinations', color='tab:blue')\n",
        "ax2.tick_params(axis='y', labelcolor='tab:blue')\n",
        "ax2.legend()\n",
        "\n",
        "fig.tight_layout()\n",
        "\n",
        "plt.title('Hospital Patients and Total Vaccinations per Day')\n",
        "plt.show()"
      ]
    },
    {
      "cell_type": "markdown",
      "metadata": {
        "id": "EJDh-trpIeaB"
      },
      "source": [
        "### Conclusão\n",
        "\n",
        "Analisando o gráfico faz sentido afirmar que a medida que o número de vacinação aumentou o número de hospitalizados reduziu. Há entretanto uma variação no meio do gráfico que pode ser alguma coisa referênte a novas cepas ou ao tempo necessário para a vacina se tornar eficaz."
      ]
    },
    {
      "cell_type": "markdown",
      "metadata": {
        "id": "afuotoYaIehx"
      },
      "source": [
        "## 16 - Países com os maiores PIBs foram os que tiveram as menores taxas de mortalidade?\n",
        "\n",
        "**Justificativa:** Verificar se as medidas necessárias para a proteção da sociedade são necessariamente mais caras ou se medidas mais baratas mas executadas de forma correta são tão efetivas quanto."
      ]
    },
    {
      "cell_type": "code",
      "execution_count": 98,
      "metadata": {
        "id": "f2f2iKX2Iehx"
      },
      "outputs": [
        {
          "data": {
            "text/html": [
              "<div>\n",
              "<style scoped>\n",
              "    .dataframe tbody tr th:only-of-type {\n",
              "        vertical-align: middle;\n",
              "    }\n",
              "\n",
              "    .dataframe tbody tr th {\n",
              "        vertical-align: top;\n",
              "    }\n",
              "\n",
              "    .dataframe thead th {\n",
              "        text-align: right;\n",
              "    }\n",
              "</style>\n",
              "<table border=\"1\" class=\"dataframe\">\n",
              "  <thead>\n",
              "    <tr style=\"text-align: right;\">\n",
              "      <th></th>\n",
              "      <th>population</th>\n",
              "      <th>total_deaths</th>\n",
              "      <th>death_percent</th>\n",
              "    </tr>\n",
              "    <tr>\n",
              "      <th>location</th>\n",
              "      <th></th>\n",
              "      <th></th>\n",
              "      <th></th>\n",
              "    </tr>\n",
              "  </thead>\n",
              "  <tbody>\n",
              "    <tr>\n",
              "      <th>Afghanistan</th>\n",
              "      <td>41128772</td>\n",
              "      <td>7884.0</td>\n",
              "      <td>0.02</td>\n",
              "    </tr>\n",
              "    <tr>\n",
              "      <th>Albania</th>\n",
              "      <td>2842318</td>\n",
              "      <td>3604.0</td>\n",
              "      <td>0.13</td>\n",
              "    </tr>\n",
              "    <tr>\n",
              "      <th>Algeria</th>\n",
              "      <td>44903228</td>\n",
              "      <td>6881.0</td>\n",
              "      <td>0.02</td>\n",
              "    </tr>\n",
              "    <tr>\n",
              "      <th>American Samoa</th>\n",
              "      <td>44295</td>\n",
              "      <td>34.0</td>\n",
              "      <td>0.08</td>\n",
              "    </tr>\n",
              "    <tr>\n",
              "      <th>Andorra</th>\n",
              "      <td>79843</td>\n",
              "      <td>159.0</td>\n",
              "      <td>0.20</td>\n",
              "    </tr>\n",
              "  </tbody>\n",
              "</table>\n",
              "</div>"
            ],
            "text/plain": [
              "                population  total_deaths  death_percent\n",
              "location                                               \n",
              "Afghanistan       41128772        7884.0           0.02\n",
              "Albania            2842318        3604.0           0.13\n",
              "Algeria           44903228        6881.0           0.02\n",
              "American Samoa       44295          34.0           0.08\n",
              "Andorra              79843         159.0           0.20"
            ]
          },
          "execution_count": 98,
          "metadata": {},
          "output_type": "execute_result"
        }
      ],
      "source": [
        "split_16_d = ['continent', 'location', 'population', 'total_deaths']\n",
        "df_16_d = death_df[split_16_d]\n",
        "df_16_d = df_16_d[df_16_d['continent'].notna()]\n",
        "df_16_d_group = df_16_d.groupby('location').agg({'population': 'max', 'total_deaths': 'max'})\n",
        "df_16_d_group['death_percent'] = round(((df_16_d_group['total_deaths'] / df_16_d_group['population']) * 100), 2)\n",
        "df_16_d_group.head(5)"
      ]
    },
    {
      "cell_type": "code",
      "execution_count": 99,
      "metadata": {
        "id": "hxXjHxf4PA5k"
      },
      "outputs": [
        {
          "data": {
            "text/html": [
              "<div>\n",
              "<style scoped>\n",
              "    .dataframe tbody tr th:only-of-type {\n",
              "        vertical-align: middle;\n",
              "    }\n",
              "\n",
              "    .dataframe tbody tr th {\n",
              "        vertical-align: top;\n",
              "    }\n",
              "\n",
              "    .dataframe thead th {\n",
              "        text-align: right;\n",
              "    }\n",
              "</style>\n",
              "<table border=\"1\" class=\"dataframe\">\n",
              "  <thead>\n",
              "    <tr style=\"text-align: right;\">\n",
              "      <th></th>\n",
              "      <th>gdp_per_capita</th>\n",
              "    </tr>\n",
              "    <tr>\n",
              "      <th>location</th>\n",
              "      <th></th>\n",
              "    </tr>\n",
              "  </thead>\n",
              "  <tbody>\n",
              "    <tr>\n",
              "      <th>Afghanistan</th>\n",
              "      <td>1803.99</td>\n",
              "    </tr>\n",
              "    <tr>\n",
              "      <th>Albania</th>\n",
              "      <td>11803.43</td>\n",
              "    </tr>\n",
              "    <tr>\n",
              "      <th>Algeria</th>\n",
              "      <td>13913.84</td>\n",
              "    </tr>\n",
              "    <tr>\n",
              "      <th>American Samoa</th>\n",
              "      <td>NaN</td>\n",
              "    </tr>\n",
              "    <tr>\n",
              "      <th>Andorra</th>\n",
              "      <td>NaN</td>\n",
              "    </tr>\n",
              "  </tbody>\n",
              "</table>\n",
              "</div>"
            ],
            "text/plain": [
              "                gdp_per_capita\n",
              "location                      \n",
              "Afghanistan            1803.99\n",
              "Albania               11803.43\n",
              "Algeria               13913.84\n",
              "American Samoa             NaN\n",
              "Andorra                    NaN"
            ]
          },
          "execution_count": 99,
          "metadata": {},
          "output_type": "execute_result"
        }
      ],
      "source": [
        "split_16_v = ['continent', 'location', 'gdp_per_capita']\n",
        "df_16_v = vaccinations_df[split_16_v]\n",
        "df_16_v = df_16_v[df_16_v['continent'].notna()]\n",
        "df_16_v_group = df_16_v.groupby('location').agg({'gdp_per_capita': 'max'})\n",
        "df_16_v_group.head(5)"
      ]
    },
    {
      "cell_type": "code",
      "execution_count": 100,
      "metadata": {
        "id": "2zXgfq96PWE4"
      },
      "outputs": [
        {
          "data": {
            "text/html": [
              "<div>\n",
              "<style scoped>\n",
              "    .dataframe tbody tr th:only-of-type {\n",
              "        vertical-align: middle;\n",
              "    }\n",
              "\n",
              "    .dataframe tbody tr th {\n",
              "        vertical-align: top;\n",
              "    }\n",
              "\n",
              "    .dataframe thead th {\n",
              "        text-align: right;\n",
              "    }\n",
              "</style>\n",
              "<table border=\"1\" class=\"dataframe\">\n",
              "  <thead>\n",
              "    <tr style=\"text-align: right;\">\n",
              "      <th></th>\n",
              "      <th>population</th>\n",
              "      <th>total_deaths</th>\n",
              "      <th>death_percent</th>\n",
              "      <th>gdp_per_capita</th>\n",
              "    </tr>\n",
              "    <tr>\n",
              "      <th>location</th>\n",
              "      <th></th>\n",
              "      <th></th>\n",
              "      <th></th>\n",
              "      <th></th>\n",
              "    </tr>\n",
              "  </thead>\n",
              "  <tbody>\n",
              "    <tr>\n",
              "      <th>Afghanistan</th>\n",
              "      <td>41128772</td>\n",
              "      <td>7884.0</td>\n",
              "      <td>0.02</td>\n",
              "      <td>1803.99</td>\n",
              "    </tr>\n",
              "    <tr>\n",
              "      <th>Albania</th>\n",
              "      <td>2842318</td>\n",
              "      <td>3604.0</td>\n",
              "      <td>0.13</td>\n",
              "      <td>11803.43</td>\n",
              "    </tr>\n",
              "    <tr>\n",
              "      <th>Algeria</th>\n",
              "      <td>44903228</td>\n",
              "      <td>6881.0</td>\n",
              "      <td>0.02</td>\n",
              "      <td>13913.84</td>\n",
              "    </tr>\n",
              "    <tr>\n",
              "      <th>American Samoa</th>\n",
              "      <td>44295</td>\n",
              "      <td>34.0</td>\n",
              "      <td>0.08</td>\n",
              "      <td>NaN</td>\n",
              "    </tr>\n",
              "    <tr>\n",
              "      <th>Andorra</th>\n",
              "      <td>79843</td>\n",
              "      <td>159.0</td>\n",
              "      <td>0.20</td>\n",
              "      <td>NaN</td>\n",
              "    </tr>\n",
              "    <tr>\n",
              "      <th>...</th>\n",
              "      <td>...</td>\n",
              "      <td>...</td>\n",
              "      <td>...</td>\n",
              "      <td>...</td>\n",
              "    </tr>\n",
              "    <tr>\n",
              "      <th>Wallis and Futuna</th>\n",
              "      <td>11596</td>\n",
              "      <td>7.0</td>\n",
              "      <td>0.06</td>\n",
              "      <td>NaN</td>\n",
              "    </tr>\n",
              "    <tr>\n",
              "      <th>Western Sahara</th>\n",
              "      <td>576005</td>\n",
              "      <td>NaN</td>\n",
              "      <td>NaN</td>\n",
              "      <td>NaN</td>\n",
              "    </tr>\n",
              "    <tr>\n",
              "      <th>Yemen</th>\n",
              "      <td>33696612</td>\n",
              "      <td>2159.0</td>\n",
              "      <td>0.01</td>\n",
              "      <td>1479.15</td>\n",
              "    </tr>\n",
              "    <tr>\n",
              "      <th>Zambia</th>\n",
              "      <td>20017670</td>\n",
              "      <td>4057.0</td>\n",
              "      <td>0.02</td>\n",
              "      <td>3689.25</td>\n",
              "    </tr>\n",
              "    <tr>\n",
              "      <th>Zimbabwe</th>\n",
              "      <td>16320539</td>\n",
              "      <td>5684.0</td>\n",
              "      <td>0.03</td>\n",
              "      <td>1899.78</td>\n",
              "    </tr>\n",
              "  </tbody>\n",
              "</table>\n",
              "<p>243 rows × 4 columns</p>\n",
              "</div>"
            ],
            "text/plain": [
              "                   population  total_deaths  death_percent  gdp_per_capita\n",
              "location                                                                  \n",
              "Afghanistan          41128772        7884.0           0.02         1803.99\n",
              "Albania               2842318        3604.0           0.13        11803.43\n",
              "Algeria              44903228        6881.0           0.02        13913.84\n",
              "American Samoa          44295          34.0           0.08             NaN\n",
              "Andorra                 79843         159.0           0.20             NaN\n",
              "...                       ...           ...            ...             ...\n",
              "Wallis and Futuna       11596           7.0           0.06             NaN\n",
              "Western Sahara         576005           NaN            NaN             NaN\n",
              "Yemen                33696612        2159.0           0.01         1479.15\n",
              "Zambia               20017670        4057.0           0.02         3689.25\n",
              "Zimbabwe             16320539        5684.0           0.03         1899.78\n",
              "\n",
              "[243 rows x 4 columns]"
            ]
          },
          "execution_count": 100,
          "metadata": {},
          "output_type": "execute_result"
        }
      ],
      "source": [
        "merged_df_16 = pd.merge(df_16_d_group, df_16_v_group, on='location')\n",
        "merged_df_16"
      ]
    },
    {
      "cell_type": "code",
      "execution_count": 101,
      "metadata": {
        "colab": {
          "base_uri": "https://localhost:8080/",
          "height": 395
        },
        "id": "AHeN1eFoPtxI",
        "outputId": "2e092f63-c800-4fa1-c69f-05b1b2a6b8a1"
      },
      "outputs": [
        {
          "data": {
            "text/html": [
              "<div>\n",
              "<style scoped>\n",
              "    .dataframe tbody tr th:only-of-type {\n",
              "        vertical-align: middle;\n",
              "    }\n",
              "\n",
              "    .dataframe tbody tr th {\n",
              "        vertical-align: top;\n",
              "    }\n",
              "\n",
              "    .dataframe thead th {\n",
              "        text-align: right;\n",
              "    }\n",
              "</style>\n",
              "<table border=\"1\" class=\"dataframe\">\n",
              "  <thead>\n",
              "    <tr style=\"text-align: right;\">\n",
              "      <th></th>\n",
              "      <th>population</th>\n",
              "      <th>total_deaths</th>\n",
              "      <th>death_percent</th>\n",
              "      <th>gdp_per_capita</th>\n",
              "    </tr>\n",
              "    <tr>\n",
              "      <th>location</th>\n",
              "      <th></th>\n",
              "      <th></th>\n",
              "      <th></th>\n",
              "      <th></th>\n",
              "    </tr>\n",
              "  </thead>\n",
              "  <tbody>\n",
              "    <tr>\n",
              "      <th>Qatar</th>\n",
              "      <td>2695131</td>\n",
              "      <td>688.0</td>\n",
              "      <td>0.03</td>\n",
              "      <td>116935.60</td>\n",
              "    </tr>\n",
              "    <tr>\n",
              "      <th>Macao</th>\n",
              "      <td>695180</td>\n",
              "      <td>NaN</td>\n",
              "      <td>NaN</td>\n",
              "      <td>104861.85</td>\n",
              "    </tr>\n",
              "    <tr>\n",
              "      <th>Luxembourg</th>\n",
              "      <td>647601</td>\n",
              "      <td>1232.0</td>\n",
              "      <td>0.19</td>\n",
              "      <td>94277.97</td>\n",
              "    </tr>\n",
              "    <tr>\n",
              "      <th>Singapore</th>\n",
              "      <td>5637022</td>\n",
              "      <td>1722.0</td>\n",
              "      <td>0.03</td>\n",
              "      <td>85535.38</td>\n",
              "    </tr>\n",
              "    <tr>\n",
              "      <th>Brunei</th>\n",
              "      <td>449002</td>\n",
              "      <td>153.0</td>\n",
              "      <td>0.03</td>\n",
              "      <td>71809.25</td>\n",
              "    </tr>\n",
              "    <tr>\n",
              "      <th>Ireland</th>\n",
              "      <td>5023108</td>\n",
              "      <td>8782.0</td>\n",
              "      <td>0.17</td>\n",
              "      <td>67335.29</td>\n",
              "    </tr>\n",
              "    <tr>\n",
              "      <th>United Arab Emirates</th>\n",
              "      <td>9441138</td>\n",
              "      <td>2349.0</td>\n",
              "      <td>0.02</td>\n",
              "      <td>67293.48</td>\n",
              "    </tr>\n",
              "    <tr>\n",
              "      <th>Kuwait</th>\n",
              "      <td>4268886</td>\n",
              "      <td>2570.0</td>\n",
              "      <td>0.06</td>\n",
              "      <td>65530.54</td>\n",
              "    </tr>\n",
              "    <tr>\n",
              "      <th>Norway</th>\n",
              "      <td>5434324</td>\n",
              "      <td>5311.0</td>\n",
              "      <td>0.10</td>\n",
              "      <td>64800.06</td>\n",
              "    </tr>\n",
              "    <tr>\n",
              "      <th>Switzerland</th>\n",
              "      <td>8740471</td>\n",
              "      <td>13981.0</td>\n",
              "      <td>0.16</td>\n",
              "      <td>57410.17</td>\n",
              "    </tr>\n",
              "  </tbody>\n",
              "</table>\n",
              "</div>"
            ],
            "text/plain": [
              "                      population  total_deaths  death_percent  gdp_per_capita\n",
              "location                                                                     \n",
              "Qatar                    2695131         688.0           0.03       116935.60\n",
              "Macao                     695180           NaN            NaN       104861.85\n",
              "Luxembourg                647601        1232.0           0.19        94277.97\n",
              "Singapore                5637022        1722.0           0.03        85535.38\n",
              "Brunei                    449002         153.0           0.03        71809.25\n",
              "Ireland                  5023108        8782.0           0.17        67335.29\n",
              "United Arab Emirates     9441138        2349.0           0.02        67293.48\n",
              "Kuwait                   4268886        2570.0           0.06        65530.54\n",
              "Norway                   5434324        5311.0           0.10        64800.06\n",
              "Switzerland              8740471       13981.0           0.16        57410.17"
            ]
          },
          "execution_count": 101,
          "metadata": {},
          "output_type": "execute_result"
        }
      ],
      "source": [
        "result_16_gdp = merged_df_16.sort_values(by='gdp_per_capita', ascending=False)\n",
        "result_16_gdp.head(10)"
      ]
    },
    {
      "cell_type": "code",
      "execution_count": 102,
      "metadata": {
        "colab": {
          "base_uri": "https://localhost:8080/",
          "height": 395
        },
        "id": "2IYy28LMP7pZ",
        "outputId": "81e795ef-7f33-4c0f-8e63-23311684f2d2"
      },
      "outputs": [
        {
          "data": {
            "text/html": [
              "<div>\n",
              "<style scoped>\n",
              "    .dataframe tbody tr th:only-of-type {\n",
              "        vertical-align: middle;\n",
              "    }\n",
              "\n",
              "    .dataframe tbody tr th {\n",
              "        vertical-align: top;\n",
              "    }\n",
              "\n",
              "    .dataframe thead th {\n",
              "        text-align: right;\n",
              "    }\n",
              "</style>\n",
              "<table border=\"1\" class=\"dataframe\">\n",
              "  <thead>\n",
              "    <tr style=\"text-align: right;\">\n",
              "      <th></th>\n",
              "      <th>population</th>\n",
              "      <th>total_deaths</th>\n",
              "      <th>death_percent</th>\n",
              "      <th>gdp_per_capita</th>\n",
              "    </tr>\n",
              "    <tr>\n",
              "      <th>location</th>\n",
              "      <th></th>\n",
              "      <th></th>\n",
              "      <th></th>\n",
              "      <th></th>\n",
              "    </tr>\n",
              "  </thead>\n",
              "  <tbody>\n",
              "    <tr>\n",
              "      <th>Democratic Republic of Congo</th>\n",
              "      <td>99010216</td>\n",
              "      <td>1464.0</td>\n",
              "      <td>0.0</td>\n",
              "      <td>808.13</td>\n",
              "    </tr>\n",
              "    <tr>\n",
              "      <th>Nigeria</th>\n",
              "      <td>218541216</td>\n",
              "      <td>3155.0</td>\n",
              "      <td>0.0</td>\n",
              "      <td>5338.45</td>\n",
              "    </tr>\n",
              "    <tr>\n",
              "      <th>Niger</th>\n",
              "      <td>26207982</td>\n",
              "      <td>315.0</td>\n",
              "      <td>0.0</td>\n",
              "      <td>926.00</td>\n",
              "    </tr>\n",
              "    <tr>\n",
              "      <th>Nicaragua</th>\n",
              "      <td>6948395</td>\n",
              "      <td>245.0</td>\n",
              "      <td>0.0</td>\n",
              "      <td>5321.44</td>\n",
              "    </tr>\n",
              "    <tr>\n",
              "      <th>Central African Republic</th>\n",
              "      <td>5579148</td>\n",
              "      <td>113.0</td>\n",
              "      <td>0.0</td>\n",
              "      <td>661.24</td>\n",
              "    </tr>\n",
              "    <tr>\n",
              "      <th>Chad</th>\n",
              "      <td>17723312</td>\n",
              "      <td>194.0</td>\n",
              "      <td>0.0</td>\n",
              "      <td>1768.15</td>\n",
              "    </tr>\n",
              "    <tr>\n",
              "      <th>Bhutan</th>\n",
              "      <td>782457</td>\n",
              "      <td>21.0</td>\n",
              "      <td>0.0</td>\n",
              "      <td>8708.60</td>\n",
              "    </tr>\n",
              "    <tr>\n",
              "      <th>Sierra Leone</th>\n",
              "      <td>8605723</td>\n",
              "      <td>126.0</td>\n",
              "      <td>0.0</td>\n",
              "      <td>1390.30</td>\n",
              "    </tr>\n",
              "    <tr>\n",
              "      <th>Benin</th>\n",
              "      <td>13352864</td>\n",
              "      <td>163.0</td>\n",
              "      <td>0.0</td>\n",
              "      <td>2064.24</td>\n",
              "    </tr>\n",
              "    <tr>\n",
              "      <th>Eritrea</th>\n",
              "      <td>3684041</td>\n",
              "      <td>103.0</td>\n",
              "      <td>0.0</td>\n",
              "      <td>1510.46</td>\n",
              "    </tr>\n",
              "  </tbody>\n",
              "</table>\n",
              "</div>"
            ],
            "text/plain": [
              "                              population  total_deaths  death_percent  \\\n",
              "location                                                                \n",
              "Democratic Republic of Congo    99010216        1464.0            0.0   \n",
              "Nigeria                        218541216        3155.0            0.0   \n",
              "Niger                           26207982         315.0            0.0   \n",
              "Nicaragua                        6948395         245.0            0.0   \n",
              "Central African Republic         5579148         113.0            0.0   \n",
              "Chad                            17723312         194.0            0.0   \n",
              "Bhutan                            782457          21.0            0.0   \n",
              "Sierra Leone                     8605723         126.0            0.0   \n",
              "Benin                           13352864         163.0            0.0   \n",
              "Eritrea                          3684041         103.0            0.0   \n",
              "\n",
              "                              gdp_per_capita  \n",
              "location                                      \n",
              "Democratic Republic of Congo          808.13  \n",
              "Nigeria                              5338.45  \n",
              "Niger                                 926.00  \n",
              "Nicaragua                            5321.44  \n",
              "Central African Republic              661.24  \n",
              "Chad                                 1768.15  \n",
              "Bhutan                               8708.60  \n",
              "Sierra Leone                         1390.30  \n",
              "Benin                                2064.24  \n",
              "Eritrea                              1510.46  "
            ]
          },
          "execution_count": 102,
          "metadata": {},
          "output_type": "execute_result"
        }
      ],
      "source": [
        "result_16_d = merged_df_16.sort_values(by='death_percent', ascending=True)\n",
        "result_16_d.head(10)"
      ]
    },
    {
      "cell_type": "markdown",
      "metadata": {
        "id": "nYCrOsRdIehy"
      },
      "source": [
        "### Conclusão\n",
        "\n",
        "A partir desse dataset não é possível afirmar que os países com os maiores PIBs foram os que tiveram menores taxas de mortalidade. Verificando o TOP-10 de cada modalidade nenhum dos países são representados nas duas tabelas."
      ]
    },
    {
      "cell_type": "markdown",
      "metadata": {
        "id": "FxaKxo9YIeor"
      },
      "source": [
        "## 17 - Em qual data ocorreram mais mortes por covid mundialmente?\n",
        "\n",
        "**Justificativa:** Verificar o dia em que aconteceram mais mortes no mundo (soma de mortes por países)."
      ]
    },
    {
      "cell_type": "code",
      "execution_count": 103,
      "metadata": {
        "colab": {
          "base_uri": "https://localhost:8080/",
          "height": 81
        },
        "id": "9JbEpzDNIeor",
        "outputId": "572630ee-f65e-4f10-fd5b-8cf0619b7e9a"
      },
      "outputs": [
        {
          "data": {
            "text/html": [
              "<div>\n",
              "<style scoped>\n",
              "    .dataframe tbody tr th:only-of-type {\n",
              "        vertical-align: middle;\n",
              "    }\n",
              "\n",
              "    .dataframe tbody tr th {\n",
              "        vertical-align: top;\n",
              "    }\n",
              "\n",
              "    .dataframe thead th {\n",
              "        text-align: right;\n",
              "    }\n",
              "</style>\n",
              "<table border=\"1\" class=\"dataframe\">\n",
              "  <thead>\n",
              "    <tr style=\"text-align: right;\">\n",
              "      <th></th>\n",
              "      <th>location</th>\n",
              "      <th>date</th>\n",
              "      <th>new_deaths</th>\n",
              "    </tr>\n",
              "  </thead>\n",
              "  <tbody>\n",
              "    <tr>\n",
              "      <th>298525</th>\n",
              "      <td>World</td>\n",
              "      <td>2021-07-21</td>\n",
              "      <td>20005.0</td>\n",
              "    </tr>\n",
              "  </tbody>\n",
              "</table>\n",
              "</div>"
            ],
            "text/plain": [
              "       location       date  new_deaths\n",
              "298525    World 2021-07-21     20005.0"
            ]
          },
          "execution_count": 103,
          "metadata": {},
          "output_type": "execute_result"
        }
      ],
      "source": [
        "split_17_d = ['location', 'date', 'new_deaths']\n",
        "df_17_d = death_df[split_17_d]\n",
        "df_17_d = df_17_d[df_17_d['location'] == 'World']\n",
        "df_17_d['date'] = pd.to_datetime(df_17_d['date'])\n",
        "\n",
        "max_td = df_17_d['new_deaths'].max()\n",
        "result_17 = df_17_d[df_17_d['new_deaths'] == max_td]\n",
        "result_17"
      ]
    },
    {
      "cell_type": "markdown",
      "metadata": {
        "id": "jDZJjpCGIeos"
      },
      "source": [
        "### Conclusão\n",
        "\n",
        "O dia que ocorreu mais mortes no mundo foi: 21/07/2021 onde resgistrou 20.005 mortes."
      ]
    },
    {
      "cell_type": "markdown",
      "metadata": {
        "id": "wOJR4ZYwIevi"
      },
      "source": [
        "## 18 - Top 10 maiores valores na relação de quantidade de testes realizados e mortes ocorridas por país.\n",
        "\n",
        "**Justificativa:** Comparar a quantidade de mortes com a quantidade de pessoas testadas por milhão de pessoas por país, considerando que uma vez testada a pessoa deveria se isolar, assim diminuir a manifestação da doença e consequentemente a ocorrência de mortes."
      ]
    },
    {
      "cell_type": "code",
      "execution_count": 104,
      "metadata": {
        "id": "IRgXqIVQIevi"
      },
      "outputs": [
        {
          "data": {
            "text/html": [
              "<div>\n",
              "<style scoped>\n",
              "    .dataframe tbody tr th:only-of-type {\n",
              "        vertical-align: middle;\n",
              "    }\n",
              "\n",
              "    .dataframe tbody tr th {\n",
              "        vertical-align: top;\n",
              "    }\n",
              "\n",
              "    .dataframe thead th {\n",
              "        text-align: right;\n",
              "    }\n",
              "</style>\n",
              "<table border=\"1\" class=\"dataframe\">\n",
              "  <thead>\n",
              "    <tr style=\"text-align: right;\">\n",
              "      <th></th>\n",
              "      <th>total_deaths</th>\n",
              "    </tr>\n",
              "    <tr>\n",
              "      <th>location</th>\n",
              "      <th></th>\n",
              "    </tr>\n",
              "  </thead>\n",
              "  <tbody>\n",
              "    <tr>\n",
              "      <th>Afghanistan</th>\n",
              "      <td>7884.0</td>\n",
              "    </tr>\n",
              "    <tr>\n",
              "      <th>Albania</th>\n",
              "      <td>3604.0</td>\n",
              "    </tr>\n",
              "    <tr>\n",
              "      <th>Algeria</th>\n",
              "      <td>6881.0</td>\n",
              "    </tr>\n",
              "    <tr>\n",
              "      <th>American Samoa</th>\n",
              "      <td>34.0</td>\n",
              "    </tr>\n",
              "    <tr>\n",
              "      <th>Andorra</th>\n",
              "      <td>159.0</td>\n",
              "    </tr>\n",
              "  </tbody>\n",
              "</table>\n",
              "</div>"
            ],
            "text/plain": [
              "                total_deaths\n",
              "location                    \n",
              "Afghanistan           7884.0\n",
              "Albania               3604.0\n",
              "Algeria               6881.0\n",
              "American Samoa          34.0\n",
              "Andorra                159.0"
            ]
          },
          "execution_count": 104,
          "metadata": {},
          "output_type": "execute_result"
        }
      ],
      "source": [
        "split_18_d = ['continent', 'location', 'total_deaths']\n",
        "df_18_d = death_df[split_18_d]\n",
        "df_18_d = df_18_d[df_18_d['continent'].notna()]\n",
        "df_18_d_group = df_18_d.groupby('location').agg({'total_deaths': 'max'})\n",
        "df_18_d_group.head(5)"
      ]
    },
    {
      "cell_type": "code",
      "execution_count": 105,
      "metadata": {
        "id": "5zmWOhE6Wyok"
      },
      "outputs": [
        {
          "data": {
            "text/html": [
              "<div>\n",
              "<style scoped>\n",
              "    .dataframe tbody tr th:only-of-type {\n",
              "        vertical-align: middle;\n",
              "    }\n",
              "\n",
              "    .dataframe tbody tr th {\n",
              "        vertical-align: top;\n",
              "    }\n",
              "\n",
              "    .dataframe thead th {\n",
              "        text-align: right;\n",
              "    }\n",
              "</style>\n",
              "<table border=\"1\" class=\"dataframe\">\n",
              "  <thead>\n",
              "    <tr style=\"text-align: right;\">\n",
              "      <th></th>\n",
              "      <th>total_tests_per_thousand</th>\n",
              "    </tr>\n",
              "    <tr>\n",
              "      <th>location</th>\n",
              "      <th></th>\n",
              "    </tr>\n",
              "  </thead>\n",
              "  <tbody>\n",
              "    <tr>\n",
              "      <th>Afghanistan</th>\n",
              "      <td>24.81</td>\n",
              "    </tr>\n",
              "    <tr>\n",
              "      <th>Albania</th>\n",
              "      <td>565.34</td>\n",
              "    </tr>\n",
              "    <tr>\n",
              "      <th>Algeria</th>\n",
              "      <td>5.22</td>\n",
              "    </tr>\n",
              "    <tr>\n",
              "      <th>American Samoa</th>\n",
              "      <td>NaN</td>\n",
              "    </tr>\n",
              "    <tr>\n",
              "      <th>Andorra</th>\n",
              "      <td>3799.72</td>\n",
              "    </tr>\n",
              "  </tbody>\n",
              "</table>\n",
              "</div>"
            ],
            "text/plain": [
              "                total_tests_per_thousand\n",
              "location                                \n",
              "Afghanistan                        24.81\n",
              "Albania                           565.34\n",
              "Algeria                             5.22\n",
              "American Samoa                       NaN\n",
              "Andorra                          3799.72"
            ]
          },
          "execution_count": 105,
          "metadata": {},
          "output_type": "execute_result"
        }
      ],
      "source": [
        "split_18_v = ['continent', 'location', 'total_tests_per_thousand']\n",
        "df_18_v = vaccinations_df[split_18_v]\n",
        "df_18_v = df_18_v[df_18_v['continent'].notna()]\n",
        "df_18_v_group = df_18_v.groupby('location').agg({'total_tests_per_thousand': 'max'})\n",
        "df_18_v_group.head(5)"
      ]
    },
    {
      "cell_type": "code",
      "execution_count": 106,
      "metadata": {
        "colab": {
          "base_uri": "https://localhost:8080/",
          "height": 395
        },
        "id": "wbHa4EOvXJlX",
        "outputId": "862838e1-2f60-4478-fd76-d3fffd5493ea"
      },
      "outputs": [
        {
          "data": {
            "text/html": [
              "<div>\n",
              "<style scoped>\n",
              "    .dataframe tbody tr th:only-of-type {\n",
              "        vertical-align: middle;\n",
              "    }\n",
              "\n",
              "    .dataframe tbody tr th {\n",
              "        vertical-align: top;\n",
              "    }\n",
              "\n",
              "    .dataframe thead th {\n",
              "        text-align: right;\n",
              "    }\n",
              "</style>\n",
              "<table border=\"1\" class=\"dataframe\">\n",
              "  <thead>\n",
              "    <tr style=\"text-align: right;\">\n",
              "      <th></th>\n",
              "      <th>total_deaths</th>\n",
              "      <th>total_tests_per_thousand</th>\n",
              "      <th>percent</th>\n",
              "    </tr>\n",
              "    <tr>\n",
              "      <th>location</th>\n",
              "      <th></th>\n",
              "      <th></th>\n",
              "      <th></th>\n",
              "    </tr>\n",
              "  </thead>\n",
              "  <tbody>\n",
              "    <tr>\n",
              "      <th>Cyprus</th>\n",
              "      <td>1349.0</td>\n",
              "      <td>32925.83</td>\n",
              "      <td>0.00</td>\n",
              "    </tr>\n",
              "    <tr>\n",
              "      <th>Austria</th>\n",
              "      <td>22183.0</td>\n",
              "      <td>21272.13</td>\n",
              "      <td>0.10</td>\n",
              "    </tr>\n",
              "    <tr>\n",
              "      <th>United Arab Emirates</th>\n",
              "      <td>2349.0</td>\n",
              "      <td>17994.67</td>\n",
              "      <td>0.01</td>\n",
              "    </tr>\n",
              "    <tr>\n",
              "      <th>Gibraltar</th>\n",
              "      <td>113.0</td>\n",
              "      <td>16322.87</td>\n",
              "      <td>0.00</td>\n",
              "    </tr>\n",
              "    <tr>\n",
              "      <th>Faeroe Islands</th>\n",
              "      <td>28.0</td>\n",
              "      <td>14707.40</td>\n",
              "      <td>0.00</td>\n",
              "    </tr>\n",
              "    <tr>\n",
              "      <th>Denmark</th>\n",
              "      <td>8420.0</td>\n",
              "      <td>11043.26</td>\n",
              "      <td>0.08</td>\n",
              "    </tr>\n",
              "    <tr>\n",
              "      <th>Slovakia</th>\n",
              "      <td>21123.0</td>\n",
              "      <td>9405.66</td>\n",
              "      <td>0.22</td>\n",
              "    </tr>\n",
              "    <tr>\n",
              "      <th>Greece</th>\n",
              "      <td>36629.0</td>\n",
              "      <td>8088.12</td>\n",
              "      <td>0.45</td>\n",
              "    </tr>\n",
              "    <tr>\n",
              "      <th>United Kingdom</th>\n",
              "      <td>212083.0</td>\n",
              "      <td>7480.12</td>\n",
              "      <td>2.84</td>\n",
              "    </tr>\n",
              "    <tr>\n",
              "      <th>Bahrain</th>\n",
              "      <td>1536.0</td>\n",
              "      <td>6812.90</td>\n",
              "      <td>0.02</td>\n",
              "    </tr>\n",
              "  </tbody>\n",
              "</table>\n",
              "</div>"
            ],
            "text/plain": [
              "                      total_deaths  total_tests_per_thousand  percent\n",
              "location                                                             \n",
              "Cyprus                      1349.0                  32925.83     0.00\n",
              "Austria                    22183.0                  21272.13     0.10\n",
              "United Arab Emirates        2349.0                  17994.67     0.01\n",
              "Gibraltar                    113.0                  16322.87     0.00\n",
              "Faeroe Islands                28.0                  14707.40     0.00\n",
              "Denmark                     8420.0                  11043.26     0.08\n",
              "Slovakia                   21123.0                   9405.66     0.22\n",
              "Greece                     36629.0                   8088.12     0.45\n",
              "United Kingdom            212083.0                   7480.12     2.84\n",
              "Bahrain                     1536.0                   6812.90     0.02"
            ]
          },
          "execution_count": 106,
          "metadata": {},
          "output_type": "execute_result"
        }
      ],
      "source": [
        "merged_df_18 = pd.merge(df_18_d_group, df_18_v_group, on='location')\n",
        "merged_df_18['percent'] = round(((merged_df_18['total_deaths'] / (merged_df_18['total_tests_per_thousand']*1000)) * 100), 2)\n",
        "merged_df_18 = merged_df_18.sort_values(by='total_tests_per_thousand', ascending=False)\n",
        "merged_df_18.head(10)"
      ]
    },
    {
      "cell_type": "code",
      "execution_count": 107,
      "metadata": {
        "colab": {
          "base_uri": "https://localhost:8080/"
        },
        "id": "3wmRZ_b-XJdQ",
        "outputId": "77682570-edda-4dcc-abc6-1c110e29d917"
      },
      "outputs": [
        {
          "name": "stdout",
          "output_type": "stream",
          "text": [
            "Média do percentual: 0.98%\n"
          ]
        }
      ],
      "source": [
        "print(f\"Média do percentual: {merged_df_18['percent'].median()}%\")"
      ]
    },
    {
      "cell_type": "markdown",
      "metadata": {
        "id": "cPEewx7HIevj"
      },
      "source": [
        "### Conclusão\n",
        "\n",
        "Podemos inferir que quanto maior a quantidade de testes realizados menor e o número de mortes. Pegando os TOP-10 em quantidade de teste, a maioria possui valores bem abaixo da média da relação entre morte por testes, só o país United Kngdom como exceção.\n"
      ]
    },
    {
      "cell_type": "markdown",
      "metadata": {
        "id": "eGJChPONIe2h"
      },
      "source": [
        "## 19 - Comparar a média de mortes p/ milhão dos paises maior qtd de pessoas com vacinação completa e menor quantidade de pessoas com vacinação completa.\n",
        "\n",
        "**Justificativa:** Impacto da vacinação completa na média de mortes."
      ]
    },
    {
      "cell_type": "code",
      "execution_count": 108,
      "metadata": {
        "id": "MAqTIyZCeJp9"
      },
      "outputs": [],
      "source": [
        "split_19_d = ['continent', 'location', 'total_deaths_per_million']\n",
        "df_19_d = death_df[split_19_d]\n",
        "df_19_d = df_19_d[df_19_d['continent'].notna()]\n",
        "df_19_d_group = df_19_d.groupby('location').agg({'total_deaths_per_million': 'max'})"
      ]
    },
    {
      "cell_type": "code",
      "execution_count": 109,
      "metadata": {
        "id": "Xi-bHKy3Ie2h"
      },
      "outputs": [],
      "source": [
        "split_19_v = ['continent', 'location', 'people_fully_vaccinated']\n",
        "df_19_v = vaccinations_df[split_19_v]\n",
        "df_19_v = df_19_v[df_19_v['continent'].notna()]\n",
        "df_19_v_group = df_19_v.groupby('location').agg({'people_fully_vaccinated': 'max'})"
      ]
    },
    {
      "cell_type": "code",
      "execution_count": 110,
      "metadata": {
        "id": "IH7wQvI8eanf"
      },
      "outputs": [
        {
          "data": {
            "text/html": [
              "<div>\n",
              "<style scoped>\n",
              "    .dataframe tbody tr th:only-of-type {\n",
              "        vertical-align: middle;\n",
              "    }\n",
              "\n",
              "    .dataframe tbody tr th {\n",
              "        vertical-align: top;\n",
              "    }\n",
              "\n",
              "    .dataframe thead th {\n",
              "        text-align: right;\n",
              "    }\n",
              "</style>\n",
              "<table border=\"1\" class=\"dataframe\">\n",
              "  <thead>\n",
              "    <tr style=\"text-align: right;\">\n",
              "      <th></th>\n",
              "      <th>total_deaths_per_million</th>\n",
              "      <th>people_fully_vaccinated</th>\n",
              "    </tr>\n",
              "    <tr>\n",
              "      <th>location</th>\n",
              "      <th></th>\n",
              "      <th></th>\n",
              "    </tr>\n",
              "  </thead>\n",
              "  <tbody>\n",
              "    <tr>\n",
              "      <th>China</th>\n",
              "      <td>84.793</td>\n",
              "      <td>1.276760e+09</td>\n",
              "    </tr>\n",
              "    <tr>\n",
              "      <th>India</th>\n",
              "      <td>374.690</td>\n",
              "      <td>9.519652e+08</td>\n",
              "    </tr>\n",
              "    <tr>\n",
              "      <th>United States</th>\n",
              "      <td>3307.223</td>\n",
              "      <td>2.304676e+08</td>\n",
              "    </tr>\n",
              "    <tr>\n",
              "      <th>Brazil</th>\n",
              "      <td>3253.656</td>\n",
              "      <td>1.761642e+08</td>\n",
              "    </tr>\n",
              "    <tr>\n",
              "      <th>Indonesia</th>\n",
              "      <td>584.647</td>\n",
              "      <td>1.726933e+08</td>\n",
              "    </tr>\n",
              "  </tbody>\n",
              "</table>\n",
              "</div>"
            ],
            "text/plain": [
              "               total_deaths_per_million  people_fully_vaccinated\n",
              "location                                                        \n",
              "China                            84.793             1.276760e+09\n",
              "India                           374.690             9.519652e+08\n",
              "United States                  3307.223             2.304676e+08\n",
              "Brazil                         3253.656             1.761642e+08\n",
              "Indonesia                       584.647             1.726933e+08"
            ]
          },
          "execution_count": 110,
          "metadata": {},
          "output_type": "execute_result"
        }
      ],
      "source": [
        "merged_df_19 = pd.merge(df_19_d_group, df_19_v_group, on='location')\n",
        "merged_df_19 = merged_df_19[merged_df_19['total_deaths_per_million'].notna()]\n",
        "top_5_sup = merged_df_19.sort_values(by='people_fully_vaccinated', ascending=False).head(5)\n",
        "top_5_sup"
      ]
    },
    {
      "cell_type": "code",
      "execution_count": 111,
      "metadata": {
        "id": "IIBO0kcxd3i9"
      },
      "outputs": [
        {
          "data": {
            "text/html": [
              "<div>\n",
              "<style scoped>\n",
              "    .dataframe tbody tr th:only-of-type {\n",
              "        vertical-align: middle;\n",
              "    }\n",
              "\n",
              "    .dataframe tbody tr th {\n",
              "        vertical-align: top;\n",
              "    }\n",
              "\n",
              "    .dataframe thead th {\n",
              "        text-align: right;\n",
              "    }\n",
              "</style>\n",
              "<table border=\"1\" class=\"dataframe\">\n",
              "  <thead>\n",
              "    <tr style=\"text-align: right;\">\n",
              "      <th></th>\n",
              "      <th>total_deaths_per_million</th>\n",
              "      <th>people_fully_vaccinated</th>\n",
              "    </tr>\n",
              "    <tr>\n",
              "      <th>location</th>\n",
              "      <th></th>\n",
              "      <th></th>\n",
              "    </tr>\n",
              "  </thead>\n",
              "  <tbody>\n",
              "    <tr>\n",
              "      <th>Montserrat</th>\n",
              "      <td>1812.826</td>\n",
              "      <td>1952.0</td>\n",
              "    </tr>\n",
              "    <tr>\n",
              "      <th>Wallis and Futuna</th>\n",
              "      <td>603.656</td>\n",
              "      <td>6803.0</td>\n",
              "    </tr>\n",
              "    <tr>\n",
              "      <th>Anguilla</th>\n",
              "      <td>755.810</td>\n",
              "      <td>10380.0</td>\n",
              "    </tr>\n",
              "    <tr>\n",
              "      <th>Nauru</th>\n",
              "      <td>78.796</td>\n",
              "      <td>11346.0</td>\n",
              "    </tr>\n",
              "    <tr>\n",
              "      <th>Cook Islands</th>\n",
              "      <td>117.426</td>\n",
              "      <td>14728.0</td>\n",
              "    </tr>\n",
              "  </tbody>\n",
              "</table>\n",
              "</div>"
            ],
            "text/plain": [
              "                   total_deaths_per_million  people_fully_vaccinated\n",
              "location                                                            \n",
              "Montserrat                         1812.826                   1952.0\n",
              "Wallis and Futuna                   603.656                   6803.0\n",
              "Anguilla                            755.810                  10380.0\n",
              "Nauru                                78.796                  11346.0\n",
              "Cook Islands                        117.426                  14728.0"
            ]
          },
          "execution_count": 111,
          "metadata": {},
          "output_type": "execute_result"
        }
      ],
      "source": [
        "top_5_inf = merged_df_19.sort_values(by='people_fully_vaccinated', ascending=True).head(5)\n",
        "top_5_inf"
      ]
    },
    {
      "cell_type": "code",
      "execution_count": 112,
      "metadata": {
        "colab": {
          "base_uri": "https://localhost:8080/"
        },
        "id": "sFMu1owYg4HT",
        "outputId": "f7942773-1ac9-4335-e80f-1618e8adbfd3"
      },
      "outputs": [
        {
          "name": "stdout",
          "output_type": "stream",
          "text": [
            "Média de mortes/milhão do TOP-5 países com \u001b[1mMAIOR\u001b[0m número de vacinação completa: 584.647 \n",
            "Média de mortes/milhão do TOP-5 países com \u001b[1mMENOR\u001b[0m número de vacinação completa: 603.656 \n"
          ]
        }
      ],
      "source": [
        "print(f\"Média de mortes/milhão do TOP-5 países com \\033[1mMAIOR\\033[0m número de vacinação completa: {top_5_sup['total_deaths_per_million'].median()} \")\n",
        "print(f\"Média de mortes/milhão do TOP-5 países com \\033[1mMENOR\\033[0m número de vacinação completa: {top_5_inf['total_deaths_per_million'].median()} \")"
      ]
    },
    {
      "cell_type": "markdown",
      "metadata": {
        "id": "xdCShK8eIe2h"
      },
      "source": [
        "### Conclusão\n",
        "\n",
        "A partir dos dados temos uma diferença de apenas 19 mortes/milhão entre os TOP-5 maior quantidade de vacinados completos e TOP-5 menor quantidade de vacinados.\n",
        "\n",
        "Para conseguir verificar, de fato, o impacto da vacinação, talvez a melhor análise fosse considerando % em relação a população do país tanto para o número de mortes quanto para vacinação completa."
      ]
    },
    {
      "cell_type": "markdown",
      "metadata": {
        "id": "7WtmRJs1Ie-W"
      },
      "source": [
        "## 20 - Qual continente foi mais afetado pelo Covid?\n",
        "\n",
        "**Justificativa:** Análises de mortes, número de vacinados, taxa de vacinação por continente, qual foi o continente mais afetado."
      ]
    },
    {
      "cell_type": "code",
      "execution_count": 113,
      "metadata": {
        "colab": {
          "base_uri": "https://localhost:8080/",
          "height": 373
        },
        "id": "ywqItzzGIe-W",
        "outputId": "6a9fc840-f360-404f-eabd-f2be7d2ebd9e"
      },
      "outputs": [
        {
          "name": "stderr",
          "output_type": "stream",
          "text": [
            "/tmp/ipykernel_7765/431462154.py:12: SettingWithCopyWarning: \n",
            "A value is trying to be set on a copy of a slice from a DataFrame.\n",
            "Try using .loc[row_indexer,col_indexer] = value instead\n",
            "\n",
            "See the caveats in the documentation: https://pandas.pydata.org/pandas-docs/stable/user_guide/indexing.html#returning-a-view-versus-a-copy\n",
            "  df_20_d['continent'] = df_20_d['location'].map(continents)\n"
          ]
        },
        {
          "data": {
            "text/html": [
              "<div>\n",
              "<style scoped>\n",
              "    .dataframe tbody tr th:only-of-type {\n",
              "        vertical-align: middle;\n",
              "    }\n",
              "\n",
              "    .dataframe tbody tr th {\n",
              "        vertical-align: top;\n",
              "    }\n",
              "\n",
              "    .dataframe thead th {\n",
              "        text-align: right;\n",
              "    }\n",
              "</style>\n",
              "<table border=\"1\" class=\"dataframe\">\n",
              "  <thead>\n",
              "    <tr style=\"text-align: right;\">\n",
              "      <th></th>\n",
              "      <th>population</th>\n",
              "      <th>total_deaths</th>\n",
              "      <th>percent</th>\n",
              "    </tr>\n",
              "    <tr>\n",
              "      <th>continent</th>\n",
              "      <th></th>\n",
              "      <th></th>\n",
              "      <th></th>\n",
              "    </tr>\n",
              "  </thead>\n",
              "  <tbody>\n",
              "    <tr>\n",
              "      <th>South America</th>\n",
              "      <td>436816679</td>\n",
              "      <td>1352942.0</td>\n",
              "      <td>0.31</td>\n",
              "    </tr>\n",
              "    <tr>\n",
              "      <th>Europe</th>\n",
              "      <td>744807803</td>\n",
              "      <td>2038559.0</td>\n",
              "      <td>0.27</td>\n",
              "    </tr>\n",
              "    <tr>\n",
              "      <th>North America</th>\n",
              "      <td>600323657</td>\n",
              "      <td>1592261.0</td>\n",
              "      <td>0.27</td>\n",
              "    </tr>\n",
              "    <tr>\n",
              "      <th>Oceania</th>\n",
              "      <td>45038860</td>\n",
              "      <td>25926.0</td>\n",
              "      <td>0.06</td>\n",
              "    </tr>\n",
              "    <tr>\n",
              "      <th>Asia</th>\n",
              "      <td>4721383370</td>\n",
              "      <td>1628478.0</td>\n",
              "      <td>0.03</td>\n",
              "    </tr>\n",
              "    <tr>\n",
              "      <th>Africa</th>\n",
              "      <td>1426736614</td>\n",
              "      <td>258841.0</td>\n",
              "      <td>0.02</td>\n",
              "    </tr>\n",
              "  </tbody>\n",
              "</table>\n",
              "</div>"
            ],
            "text/plain": [
              "               population  total_deaths  percent\n",
              "continent                                       \n",
              "South America   436816679     1352942.0     0.31\n",
              "Europe          744807803     2038559.0     0.27\n",
              "North America   600323657     1592261.0     0.27\n",
              "Oceania          45038860       25926.0     0.06\n",
              "Asia           4721383370     1628478.0     0.03\n",
              "Africa         1426736614      258841.0     0.02"
            ]
          },
          "execution_count": 113,
          "metadata": {},
          "output_type": "execute_result"
        }
      ],
      "source": [
        "split_20_d = ['continent', 'location', 'population', 'total_deaths']\n",
        "df_20_d = death_df[split_20_d]\n",
        "\n",
        "continents = {\n",
        "    'Africa': 'Africa',\n",
        "    'Asia': 'Asia',\n",
        "    'Europe': 'Europe',\n",
        "    'South America': 'South America',\n",
        "    'North America': 'North America',\n",
        "    'Oceania': 'Oceania'\n",
        "}\n",
        "df_20_d['continent'] = df_20_d['location'].map(continents)\n",
        "\n",
        "df_20_d_continent = df_20_d.groupby('continent').agg({'population': 'max', 'total_deaths': 'max'})\n",
        "df_20_d_continent['percent'] = round(((df_20_d_continent['total_deaths'] / df_20_d_continent['population']) * 100), 2)\n",
        "df_20_d_continent.sort_values(by='percent', ascending=False)"
      ]
    },
    {
      "cell_type": "markdown",
      "metadata": {
        "id": "1ar48wmrIe-X"
      },
      "source": [
        "### Conclusão\n",
        "\n",
        "Considerando que o principal impacto da Covid é o número de mortes, temos que o continente Sul Americano foi o mais afetado, tendo 0,31% de sua população falecendo, seguido de Europa e América do Norte com 0.27% de sua população morta."
      ]
    },
    {
      "cell_type": "markdown",
      "metadata": {
        "id": "gFQSPs8qIfG6"
      },
      "source": [
        "## 21 - Qual a Taxa de sobrevivência UTI covid?\n",
        "\n",
        "**Justificativa:** -"
      ]
    },
    {
      "cell_type": "markdown",
      "metadata": {
        "id": "XDtlXcgMIfG8"
      },
      "source": [
        "### Conclusão\n",
        "\n",
        "Não consegui responder o questionamento com o dataset, só encontrei o número de internações na UTI por dia, mas não tenho a informação de quantidade de mortes por dia dos internados na UTI e não consegui correlacionar as colunas para obter essa informação :(\n"
      ]
    },
    {
      "cell_type": "markdown",
      "metadata": {
        "id": "dX_qC7dcIfYR"
      },
      "source": [
        "## 22 - Qual o top10 de países que receberam a primeira dose da vacina? E o top10 de países que receberam até a dose de reforço?\n",
        "\n",
        "**Justificativa:** Comparação entre o top10 dos países que receberam a primeira e todas as doses, visando saber se são os mesmos."
      ]
    },
    {
      "cell_type": "code",
      "execution_count": 114,
      "metadata": {
        "id": "nM_7clbFDDrw"
      },
      "outputs": [
        {
          "data": {
            "text/html": [
              "<div>\n",
              "<style scoped>\n",
              "    .dataframe tbody tr th:only-of-type {\n",
              "        vertical-align: middle;\n",
              "    }\n",
              "\n",
              "    .dataframe tbody tr th {\n",
              "        vertical-align: top;\n",
              "    }\n",
              "\n",
              "    .dataframe thead th {\n",
              "        text-align: right;\n",
              "    }\n",
              "</style>\n",
              "<table border=\"1\" class=\"dataframe\">\n",
              "  <thead>\n",
              "    <tr style=\"text-align: right;\">\n",
              "      <th></th>\n",
              "      <th>population</th>\n",
              "    </tr>\n",
              "    <tr>\n",
              "      <th>location</th>\n",
              "      <th></th>\n",
              "    </tr>\n",
              "  </thead>\n",
              "  <tbody>\n",
              "    <tr>\n",
              "      <th>Afghanistan</th>\n",
              "      <td>41128772</td>\n",
              "    </tr>\n",
              "    <tr>\n",
              "      <th>Albania</th>\n",
              "      <td>2842318</td>\n",
              "    </tr>\n",
              "    <tr>\n",
              "      <th>Algeria</th>\n",
              "      <td>44903228</td>\n",
              "    </tr>\n",
              "    <tr>\n",
              "      <th>American Samoa</th>\n",
              "      <td>44295</td>\n",
              "    </tr>\n",
              "    <tr>\n",
              "      <th>Andorra</th>\n",
              "      <td>79843</td>\n",
              "    </tr>\n",
              "  </tbody>\n",
              "</table>\n",
              "</div>"
            ],
            "text/plain": [
              "                population\n",
              "location                  \n",
              "Afghanistan       41128772\n",
              "Albania            2842318\n",
              "Algeria           44903228\n",
              "American Samoa       44295\n",
              "Andorra              79843"
            ]
          },
          "execution_count": 114,
          "metadata": {},
          "output_type": "execute_result"
        }
      ],
      "source": [
        "split_22_d = ['continent', 'location', 'population']\n",
        "df_22_d = death_df[split_22_d]\n",
        "df_22_d = df_22_d[df_22_d['continent'].notna()]\n",
        "df_22_d_group = df_22_d.groupby('location').agg({'population': 'max'})\n",
        "df_22_d_group.head(5)"
      ]
    },
    {
      "cell_type": "code",
      "execution_count": 115,
      "metadata": {
        "id": "bS3rq3spIfYS"
      },
      "outputs": [
        {
          "data": {
            "text/html": [
              "<div>\n",
              "<style scoped>\n",
              "    .dataframe tbody tr th:only-of-type {\n",
              "        vertical-align: middle;\n",
              "    }\n",
              "\n",
              "    .dataframe tbody tr th {\n",
              "        vertical-align: top;\n",
              "    }\n",
              "\n",
              "    .dataframe thead th {\n",
              "        text-align: right;\n",
              "    }\n",
              "</style>\n",
              "<table border=\"1\" class=\"dataframe\">\n",
              "  <thead>\n",
              "    <tr style=\"text-align: right;\">\n",
              "      <th></th>\n",
              "      <th>people_vaccinated</th>\n",
              "      <th>people_fully_vaccinated</th>\n",
              "    </tr>\n",
              "    <tr>\n",
              "      <th>location</th>\n",
              "      <th></th>\n",
              "      <th></th>\n",
              "    </tr>\n",
              "  </thead>\n",
              "  <tbody>\n",
              "    <tr>\n",
              "      <th>Afghanistan</th>\n",
              "      <td>14613185.0</td>\n",
              "      <td>13900701.0</td>\n",
              "    </tr>\n",
              "    <tr>\n",
              "      <th>Albania</th>\n",
              "      <td>1347054.0</td>\n",
              "      <td>1276432.0</td>\n",
              "    </tr>\n",
              "    <tr>\n",
              "      <th>Algeria</th>\n",
              "      <td>7840131.0</td>\n",
              "      <td>6481186.0</td>\n",
              "    </tr>\n",
              "    <tr>\n",
              "      <th>American Samoa</th>\n",
              "      <td>NaN</td>\n",
              "      <td>NaN</td>\n",
              "    </tr>\n",
              "    <tr>\n",
              "      <th>Andorra</th>\n",
              "      <td>57904.0</td>\n",
              "      <td>53492.0</td>\n",
              "    </tr>\n",
              "  </tbody>\n",
              "</table>\n",
              "</div>"
            ],
            "text/plain": [
              "                people_vaccinated  people_fully_vaccinated\n",
              "location                                                  \n",
              "Afghanistan            14613185.0               13900701.0\n",
              "Albania                 1347054.0                1276432.0\n",
              "Algeria                 7840131.0                6481186.0\n",
              "American Samoa                NaN                      NaN\n",
              "Andorra                   57904.0                  53492.0"
            ]
          },
          "execution_count": 115,
          "metadata": {},
          "output_type": "execute_result"
        }
      ],
      "source": [
        "split_22_v = ['continent', 'location', 'people_vaccinated', 'people_fully_vaccinated']\n",
        "df_22_v = vaccinations_df[split_22_v]\n",
        "df_22_v = df_22_v[df_22_v['continent'].notna()]\n",
        "df_22_v_group = df_22_v.groupby('location').agg({'people_vaccinated': 'max','people_fully_vaccinated': 'max'})\n",
        "df_22_v_group.head(5)"
      ]
    },
    {
      "cell_type": "code",
      "execution_count": 117,
      "metadata": {
        "id": "rgvZX_5jDaTc"
      },
      "outputs": [
        {
          "data": {
            "text/html": [
              "<div>\n",
              "<style scoped>\n",
              "    .dataframe tbody tr th:only-of-type {\n",
              "        vertical-align: middle;\n",
              "    }\n",
              "\n",
              "    .dataframe tbody tr th {\n",
              "        vertical-align: top;\n",
              "    }\n",
              "\n",
              "    .dataframe thead th {\n",
              "        text-align: right;\n",
              "    }\n",
              "</style>\n",
              "<table border=\"1\" class=\"dataframe\">\n",
              "  <thead>\n",
              "    <tr style=\"text-align: right;\">\n",
              "      <th></th>\n",
              "      <th>population</th>\n",
              "      <th>people_vaccinated</th>\n",
              "      <th>people_fully_vaccinated</th>\n",
              "      <th>percent_v</th>\n",
              "      <th>fully_percent</th>\n",
              "    </tr>\n",
              "    <tr>\n",
              "      <th>location</th>\n",
              "      <th></th>\n",
              "      <th></th>\n",
              "      <th></th>\n",
              "      <th></th>\n",
              "      <th></th>\n",
              "    </tr>\n",
              "  </thead>\n",
              "  <tbody>\n",
              "    <tr>\n",
              "      <th>Afghanistan</th>\n",
              "      <td>41128772</td>\n",
              "      <td>14613185.0</td>\n",
              "      <td>13900701.0</td>\n",
              "      <td>35.53</td>\n",
              "      <td>33.80</td>\n",
              "    </tr>\n",
              "    <tr>\n",
              "      <th>Albania</th>\n",
              "      <td>2842318</td>\n",
              "      <td>1347054.0</td>\n",
              "      <td>1276432.0</td>\n",
              "      <td>47.39</td>\n",
              "      <td>44.91</td>\n",
              "    </tr>\n",
              "    <tr>\n",
              "      <th>Algeria</th>\n",
              "      <td>44903228</td>\n",
              "      <td>7840131.0</td>\n",
              "      <td>6481186.0</td>\n",
              "      <td>17.46</td>\n",
              "      <td>14.43</td>\n",
              "    </tr>\n",
              "    <tr>\n",
              "      <th>American Samoa</th>\n",
              "      <td>44295</td>\n",
              "      <td>NaN</td>\n",
              "      <td>NaN</td>\n",
              "      <td>NaN</td>\n",
              "      <td>NaN</td>\n",
              "    </tr>\n",
              "    <tr>\n",
              "      <th>Andorra</th>\n",
              "      <td>79843</td>\n",
              "      <td>57904.0</td>\n",
              "      <td>53492.0</td>\n",
              "      <td>72.52</td>\n",
              "      <td>67.00</td>\n",
              "    </tr>\n",
              "    <tr>\n",
              "      <th>Angola</th>\n",
              "      <td>35588996</td>\n",
              "      <td>15590125.0</td>\n",
              "      <td>8684976.0</td>\n",
              "      <td>43.81</td>\n",
              "      <td>24.40</td>\n",
              "    </tr>\n",
              "    <tr>\n",
              "      <th>Anguilla</th>\n",
              "      <td>15877</td>\n",
              "      <td>10854.0</td>\n",
              "      <td>10380.0</td>\n",
              "      <td>68.36</td>\n",
              "      <td>65.38</td>\n",
              "    </tr>\n",
              "    <tr>\n",
              "      <th>Antigua and Barbuda</th>\n",
              "      <td>93772</td>\n",
              "      <td>64290.0</td>\n",
              "      <td>62384.0</td>\n",
              "      <td>68.56</td>\n",
              "      <td>66.53</td>\n",
              "    </tr>\n",
              "    <tr>\n",
              "      <th>Argentina</th>\n",
              "      <td>45510324</td>\n",
              "      <td>41486239.0</td>\n",
              "      <td>34868474.0</td>\n",
              "      <td>91.16</td>\n",
              "      <td>76.62</td>\n",
              "    </tr>\n",
              "    <tr>\n",
              "      <th>Armenia</th>\n",
              "      <td>2780472</td>\n",
              "      <td>1130844.0</td>\n",
              "      <td>986762.0</td>\n",
              "      <td>40.67</td>\n",
              "      <td>35.49</td>\n",
              "    </tr>\n",
              "  </tbody>\n",
              "</table>\n",
              "</div>"
            ],
            "text/plain": [
              "                     population  people_vaccinated  people_fully_vaccinated  \\\n",
              "location                                                                      \n",
              "Afghanistan            41128772         14613185.0               13900701.0   \n",
              "Albania                 2842318          1347054.0                1276432.0   \n",
              "Algeria                44903228          7840131.0                6481186.0   \n",
              "American Samoa            44295                NaN                      NaN   \n",
              "Andorra                   79843            57904.0                  53492.0   \n",
              "Angola                 35588996         15590125.0                8684976.0   \n",
              "Anguilla                  15877            10854.0                  10380.0   \n",
              "Antigua and Barbuda       93772            64290.0                  62384.0   \n",
              "Argentina              45510324         41486239.0               34868474.0   \n",
              "Armenia                 2780472          1130844.0                 986762.0   \n",
              "\n",
              "                     percent_v  fully_percent  \n",
              "location                                       \n",
              "Afghanistan              35.53          33.80  \n",
              "Albania                  47.39          44.91  \n",
              "Algeria                  17.46          14.43  \n",
              "American Samoa             NaN            NaN  \n",
              "Andorra                  72.52          67.00  \n",
              "Angola                   43.81          24.40  \n",
              "Anguilla                 68.36          65.38  \n",
              "Antigua and Barbuda      68.56          66.53  \n",
              "Argentina                91.16          76.62  \n",
              "Armenia                  40.67          35.49  "
            ]
          },
          "execution_count": 117,
          "metadata": {},
          "output_type": "execute_result"
        }
      ],
      "source": [
        "merged_df_22 = pd.merge(df_22_d_group, df_22_v_group, on='location')\n",
        "merged_df_22['percent_v'] = round(((merged_df_22['people_vaccinated'] / merged_df_22['population']) * 100), 2)\n",
        "merged_df_22['fully_percent'] = round(((merged_df_22['people_fully_vaccinated'] / merged_df_22['population']) * 100), 2)\n",
        "merged_df_22.head(10)"
      ]
    },
    {
      "cell_type": "code",
      "execution_count": 118,
      "metadata": {
        "colab": {
          "base_uri": "https://localhost:8080/",
          "height": 395
        },
        "id": "XW0M32ZXEBu1",
        "outputId": "84d94b80-cd98-45a3-a4e6-af8bdbdcfc95"
      },
      "outputs": [
        {
          "data": {
            "text/html": [
              "<div>\n",
              "<style scoped>\n",
              "    .dataframe tbody tr th:only-of-type {\n",
              "        vertical-align: middle;\n",
              "    }\n",
              "\n",
              "    .dataframe tbody tr th {\n",
              "        vertical-align: top;\n",
              "    }\n",
              "\n",
              "    .dataframe thead th {\n",
              "        text-align: right;\n",
              "    }\n",
              "</style>\n",
              "<table border=\"1\" class=\"dataframe\">\n",
              "  <thead>\n",
              "    <tr style=\"text-align: right;\">\n",
              "      <th></th>\n",
              "      <th>population</th>\n",
              "      <th>people_vaccinated</th>\n",
              "      <th>people_fully_vaccinated</th>\n",
              "      <th>percent_v</th>\n",
              "      <th>fully_percent</th>\n",
              "    </tr>\n",
              "    <tr>\n",
              "      <th>location</th>\n",
              "      <th></th>\n",
              "      <th></th>\n",
              "      <th></th>\n",
              "      <th></th>\n",
              "      <th></th>\n",
              "    </tr>\n",
              "  </thead>\n",
              "  <tbody>\n",
              "    <tr>\n",
              "      <th>Gibraltar</th>\n",
              "      <td>32677</td>\n",
              "      <td>42175.0</td>\n",
              "      <td>41465.0</td>\n",
              "      <td>129.07</td>\n",
              "      <td>126.89</td>\n",
              "    </tr>\n",
              "    <tr>\n",
              "      <th>Tokelau</th>\n",
              "      <td>1893</td>\n",
              "      <td>2203.0</td>\n",
              "      <td>2203.0</td>\n",
              "      <td>116.38</td>\n",
              "      <td>116.38</td>\n",
              "    </tr>\n",
              "    <tr>\n",
              "      <th>United Arab Emirates</th>\n",
              "      <td>9441138</td>\n",
              "      <td>9991089.0</td>\n",
              "      <td>9792266.0</td>\n",
              "      <td>105.83</td>\n",
              "      <td>103.72</td>\n",
              "    </tr>\n",
              "    <tr>\n",
              "      <th>Qatar</th>\n",
              "      <td>2695131</td>\n",
              "      <td>2852032.0</td>\n",
              "      <td>2852032.0</td>\n",
              "      <td>105.82</td>\n",
              "      <td>105.82</td>\n",
              "    </tr>\n",
              "    <tr>\n",
              "      <th>Nauru</th>\n",
              "      <td>12691</td>\n",
              "      <td>13106.0</td>\n",
              "      <td>11346.0</td>\n",
              "      <td>103.27</td>\n",
              "      <td>89.40</td>\n",
              "    </tr>\n",
              "    <tr>\n",
              "      <th>Brunei</th>\n",
              "      <td>449002</td>\n",
              "      <td>450944.0</td>\n",
              "      <td>446551.0</td>\n",
              "      <td>100.43</td>\n",
              "      <td>99.45</td>\n",
              "    </tr>\n",
              "    <tr>\n",
              "      <th>Pitcairn</th>\n",
              "      <td>47</td>\n",
              "      <td>47.0</td>\n",
              "      <td>47.0</td>\n",
              "      <td>100.00</td>\n",
              "      <td>100.00</td>\n",
              "    </tr>\n",
              "    <tr>\n",
              "      <th>Macao</th>\n",
              "      <td>695180</td>\n",
              "      <td>679703.0</td>\n",
              "      <td>642266.0</td>\n",
              "      <td>97.77</td>\n",
              "      <td>92.39</td>\n",
              "    </tr>\n",
              "    <tr>\n",
              "      <th>Cuba</th>\n",
              "      <td>11212198</td>\n",
              "      <td>10734201.0</td>\n",
              "      <td>10012178.0</td>\n",
              "      <td>95.74</td>\n",
              "      <td>89.30</td>\n",
              "    </tr>\n",
              "    <tr>\n",
              "      <th>Portugal</th>\n",
              "      <td>10270857</td>\n",
              "      <td>9782964.0</td>\n",
              "      <td>8897476.0</td>\n",
              "      <td>95.25</td>\n",
              "      <td>86.63</td>\n",
              "    </tr>\n",
              "  </tbody>\n",
              "</table>\n",
              "</div>"
            ],
            "text/plain": [
              "                      population  people_vaccinated  people_fully_vaccinated  \\\n",
              "location                                                                       \n",
              "Gibraltar                  32677            42175.0                  41465.0   \n",
              "Tokelau                     1893             2203.0                   2203.0   \n",
              "United Arab Emirates     9441138          9991089.0                9792266.0   \n",
              "Qatar                    2695131          2852032.0                2852032.0   \n",
              "Nauru                      12691            13106.0                  11346.0   \n",
              "Brunei                    449002           450944.0                 446551.0   \n",
              "Pitcairn                      47               47.0                     47.0   \n",
              "Macao                     695180           679703.0                 642266.0   \n",
              "Cuba                    11212198         10734201.0               10012178.0   \n",
              "Portugal                10270857          9782964.0                8897476.0   \n",
              "\n",
              "                      percent_v  fully_percent  \n",
              "location                                        \n",
              "Gibraltar                129.07         126.89  \n",
              "Tokelau                  116.38         116.38  \n",
              "United Arab Emirates     105.83         103.72  \n",
              "Qatar                    105.82         105.82  \n",
              "Nauru                    103.27          89.40  \n",
              "Brunei                   100.43          99.45  \n",
              "Pitcairn                 100.00         100.00  \n",
              "Macao                     97.77          92.39  \n",
              "Cuba                      95.74          89.30  \n",
              "Portugal                  95.25          86.63  "
            ]
          },
          "execution_count": 118,
          "metadata": {},
          "output_type": "execute_result"
        }
      ],
      "source": [
        "merged_df_22.sort_values(by='percent_v', ascending=False).head(10)"
      ]
    },
    {
      "cell_type": "code",
      "execution_count": 119,
      "metadata": {
        "colab": {
          "base_uri": "https://localhost:8080/",
          "height": 395
        },
        "id": "-72yJFglECrg",
        "outputId": "14357c66-614f-4ab9-a5c7-a6836e8b4d6d"
      },
      "outputs": [
        {
          "data": {
            "text/html": [
              "<div>\n",
              "<style scoped>\n",
              "    .dataframe tbody tr th:only-of-type {\n",
              "        vertical-align: middle;\n",
              "    }\n",
              "\n",
              "    .dataframe tbody tr th {\n",
              "        vertical-align: top;\n",
              "    }\n",
              "\n",
              "    .dataframe thead th {\n",
              "        text-align: right;\n",
              "    }\n",
              "</style>\n",
              "<table border=\"1\" class=\"dataframe\">\n",
              "  <thead>\n",
              "    <tr style=\"text-align: right;\">\n",
              "      <th></th>\n",
              "      <th>population</th>\n",
              "      <th>people_vaccinated</th>\n",
              "      <th>people_fully_vaccinated</th>\n",
              "      <th>percent_v</th>\n",
              "      <th>fully_percent</th>\n",
              "    </tr>\n",
              "    <tr>\n",
              "      <th>location</th>\n",
              "      <th></th>\n",
              "      <th></th>\n",
              "      <th></th>\n",
              "      <th></th>\n",
              "      <th></th>\n",
              "    </tr>\n",
              "  </thead>\n",
              "  <tbody>\n",
              "    <tr>\n",
              "      <th>Gibraltar</th>\n",
              "      <td>32677</td>\n",
              "      <td>42175.0</td>\n",
              "      <td>41465.0</td>\n",
              "      <td>129.07</td>\n",
              "      <td>126.89</td>\n",
              "    </tr>\n",
              "    <tr>\n",
              "      <th>Tokelau</th>\n",
              "      <td>1893</td>\n",
              "      <td>2203.0</td>\n",
              "      <td>2203.0</td>\n",
              "      <td>116.38</td>\n",
              "      <td>116.38</td>\n",
              "    </tr>\n",
              "    <tr>\n",
              "      <th>Qatar</th>\n",
              "      <td>2695131</td>\n",
              "      <td>2852032.0</td>\n",
              "      <td>2852032.0</td>\n",
              "      <td>105.82</td>\n",
              "      <td>105.82</td>\n",
              "    </tr>\n",
              "    <tr>\n",
              "      <th>United Arab Emirates</th>\n",
              "      <td>9441138</td>\n",
              "      <td>9991089.0</td>\n",
              "      <td>9792266.0</td>\n",
              "      <td>105.83</td>\n",
              "      <td>103.72</td>\n",
              "    </tr>\n",
              "    <tr>\n",
              "      <th>Pitcairn</th>\n",
              "      <td>47</td>\n",
              "      <td>47.0</td>\n",
              "      <td>47.0</td>\n",
              "      <td>100.00</td>\n",
              "      <td>100.00</td>\n",
              "    </tr>\n",
              "    <tr>\n",
              "      <th>Brunei</th>\n",
              "      <td>449002</td>\n",
              "      <td>450944.0</td>\n",
              "      <td>446551.0</td>\n",
              "      <td>100.43</td>\n",
              "      <td>99.45</td>\n",
              "    </tr>\n",
              "    <tr>\n",
              "      <th>Macao</th>\n",
              "      <td>695180</td>\n",
              "      <td>679703.0</td>\n",
              "      <td>642266.0</td>\n",
              "      <td>97.77</td>\n",
              "      <td>92.39</td>\n",
              "    </tr>\n",
              "    <tr>\n",
              "      <th>Singapore</th>\n",
              "      <td>5637022</td>\n",
              "      <td>5160551.0</td>\n",
              "      <td>5120969.0</td>\n",
              "      <td>91.55</td>\n",
              "      <td>90.85</td>\n",
              "    </tr>\n",
              "    <tr>\n",
              "      <th>Hong Kong</th>\n",
              "      <td>7488863</td>\n",
              "      <td>6915178.0</td>\n",
              "      <td>6798913.0</td>\n",
              "      <td>92.34</td>\n",
              "      <td>90.79</td>\n",
              "    </tr>\n",
              "    <tr>\n",
              "      <th>Chile</th>\n",
              "      <td>19603736</td>\n",
              "      <td>18088517.0</td>\n",
              "      <td>17700117.0</td>\n",
              "      <td>92.27</td>\n",
              "      <td>90.29</td>\n",
              "    </tr>\n",
              "  </tbody>\n",
              "</table>\n",
              "</div>"
            ],
            "text/plain": [
              "                      population  people_vaccinated  people_fully_vaccinated  \\\n",
              "location                                                                       \n",
              "Gibraltar                  32677            42175.0                  41465.0   \n",
              "Tokelau                     1893             2203.0                   2203.0   \n",
              "Qatar                    2695131          2852032.0                2852032.0   \n",
              "United Arab Emirates     9441138          9991089.0                9792266.0   \n",
              "Pitcairn                      47               47.0                     47.0   \n",
              "Brunei                    449002           450944.0                 446551.0   \n",
              "Macao                     695180           679703.0                 642266.0   \n",
              "Singapore                5637022          5160551.0                5120969.0   \n",
              "Hong Kong                7488863          6915178.0                6798913.0   \n",
              "Chile                   19603736         18088517.0               17700117.0   \n",
              "\n",
              "                      percent_v  fully_percent  \n",
              "location                                        \n",
              "Gibraltar                129.07         126.89  \n",
              "Tokelau                  116.38         116.38  \n",
              "Qatar                    105.82         105.82  \n",
              "United Arab Emirates     105.83         103.72  \n",
              "Pitcairn                 100.00         100.00  \n",
              "Brunei                   100.43          99.45  \n",
              "Macao                     97.77          92.39  \n",
              "Singapore                 91.55          90.85  \n",
              "Hong Kong                 92.34          90.79  \n",
              "Chile                     92.27          90.29  "
            ]
          },
          "execution_count": 119,
          "metadata": {},
          "output_type": "execute_result"
        }
      ],
      "source": [
        "merged_df_22.sort_values(by='fully_percent', ascending=False).head(10)"
      ]
    },
    {
      "cell_type": "markdown",
      "metadata": {
        "id": "tH86aFKyIfYS"
      },
      "source": [
        "### Conclusão\n",
        "\n",
        "Considerando o TOP-10 países que receberam primeira dose da vacina e o TOP-10 dos países que mais vacinou sua população de maneira completa (2ªdose) temos que sete desses países são os mesmo, podemos então concluir que os que mais vacinaram são também os que imunizaram sua população com todas as doses."
      ]
    },
    {
      "cell_type": "markdown",
      "metadata": {
        "id": "C9aivcr6IfiE"
      },
      "source": [
        "## 23 - Qual o top10 países com maior índice de ridigez do pais e qual foi seu nível de infeção por densidade populacional?\n",
        "\n",
        "**Justificativa:** -"
      ]
    },
    {
      "cell_type": "code",
      "execution_count": 120,
      "metadata": {
        "id": "zVHqVMmTIfiG"
      },
      "outputs": [
        {
          "data": {
            "text/html": [
              "<div>\n",
              "<style scoped>\n",
              "    .dataframe tbody tr th:only-of-type {\n",
              "        vertical-align: middle;\n",
              "    }\n",
              "\n",
              "    .dataframe tbody tr th {\n",
              "        vertical-align: top;\n",
              "    }\n",
              "\n",
              "    .dataframe thead th {\n",
              "        text-align: right;\n",
              "    }\n",
              "</style>\n",
              "<table border=\"1\" class=\"dataframe\">\n",
              "  <thead>\n",
              "    <tr style=\"text-align: right;\">\n",
              "      <th></th>\n",
              "      <th>population</th>\n",
              "      <th>total_cases</th>\n",
              "      <th>percent</th>\n",
              "    </tr>\n",
              "    <tr>\n",
              "      <th>location</th>\n",
              "      <th></th>\n",
              "      <th></th>\n",
              "      <th></th>\n",
              "    </tr>\n",
              "  </thead>\n",
              "  <tbody>\n",
              "    <tr>\n",
              "      <th>Afghanistan</th>\n",
              "      <td>41128772</td>\n",
              "      <td>211630.0</td>\n",
              "      <td>0.51</td>\n",
              "    </tr>\n",
              "    <tr>\n",
              "      <th>Albania</th>\n",
              "      <td>2842318</td>\n",
              "      <td>333897.0</td>\n",
              "      <td>11.75</td>\n",
              "    </tr>\n",
              "    <tr>\n",
              "      <th>Algeria</th>\n",
              "      <td>44903228</td>\n",
              "      <td>271613.0</td>\n",
              "      <td>0.60</td>\n",
              "    </tr>\n",
              "    <tr>\n",
              "      <th>American Samoa</th>\n",
              "      <td>44295</td>\n",
              "      <td>8326.0</td>\n",
              "      <td>18.80</td>\n",
              "    </tr>\n",
              "    <tr>\n",
              "      <th>Andorra</th>\n",
              "      <td>79843</td>\n",
              "      <td>47939.0</td>\n",
              "      <td>60.04</td>\n",
              "    </tr>\n",
              "  </tbody>\n",
              "</table>\n",
              "</div>"
            ],
            "text/plain": [
              "                population  total_cases  percent\n",
              "location                                        \n",
              "Afghanistan       41128772     211630.0     0.51\n",
              "Albania            2842318     333897.0    11.75\n",
              "Algeria           44903228     271613.0     0.60\n",
              "American Samoa       44295       8326.0    18.80\n",
              "Andorra              79843      47939.0    60.04"
            ]
          },
          "execution_count": 120,
          "metadata": {},
          "output_type": "execute_result"
        }
      ],
      "source": [
        "split_23_d = ['continent', 'location', 'population', 'total_cases']\n",
        "df_23_d = death_df[split_23_d]\n",
        "df_23_d = df_23_d[df_23_d['continent'].notna()]\n",
        "df_23_d_group = df_23_d.groupby('location').agg({'population': 'max', 'total_cases': 'max'})\n",
        "df_23_d_group['percent'] = round((df_23_d_group['total_cases'] / df_23_d_group['population'] * 100), 2)\n",
        "df_23_d_group.head(5)"
      ]
    },
    {
      "cell_type": "code",
      "execution_count": 121,
      "metadata": {
        "id": "i6RfgarFJg2k"
      },
      "outputs": [
        {
          "data": {
            "text/html": [
              "<div>\n",
              "<style scoped>\n",
              "    .dataframe tbody tr th:only-of-type {\n",
              "        vertical-align: middle;\n",
              "    }\n",
              "\n",
              "    .dataframe tbody tr th {\n",
              "        vertical-align: top;\n",
              "    }\n",
              "\n",
              "    .dataframe thead th {\n",
              "        text-align: right;\n",
              "    }\n",
              "</style>\n",
              "<table border=\"1\" class=\"dataframe\">\n",
              "  <thead>\n",
              "    <tr style=\"text-align: right;\">\n",
              "      <th></th>\n",
              "      <th>stringency_index</th>\n",
              "    </tr>\n",
              "    <tr>\n",
              "      <th>location</th>\n",
              "      <th></th>\n",
              "    </tr>\n",
              "  </thead>\n",
              "  <tbody>\n",
              "    <tr>\n",
              "      <th>Aruba</th>\n",
              "      <td>34.26</td>\n",
              "    </tr>\n",
              "    <tr>\n",
              "      <th>Bhutan</th>\n",
              "      <td>62.96</td>\n",
              "    </tr>\n",
              "    <tr>\n",
              "      <th>Sudan</th>\n",
              "      <td>16.67</td>\n",
              "    </tr>\n",
              "    <tr>\n",
              "      <th>Falkland Islands</th>\n",
              "      <td>NaN</td>\n",
              "    </tr>\n",
              "    <tr>\n",
              "      <th>Palau</th>\n",
              "      <td>NaN</td>\n",
              "    </tr>\n",
              "  </tbody>\n",
              "</table>\n",
              "</div>"
            ],
            "text/plain": [
              "                  stringency_index\n",
              "location                          \n",
              "Aruba                        34.26\n",
              "Bhutan                       62.96\n",
              "Sudan                        16.67\n",
              "Falkland Islands               NaN\n",
              "Palau                          NaN"
            ]
          },
          "execution_count": 121,
          "metadata": {},
          "output_type": "execute_result"
        }
      ],
      "source": [
        "split_23_v = ['continent', 'location', 'stringency_index']\n",
        "df_23_v = vaccinations_df[split_23_v]\n",
        "df_23_v = df_23_v[df_23_v['continent'].notna()]\n",
        "df_23_v_group = df_23_v.groupby('location').agg({'stringency_index': 'median'})\n",
        "df_23_v_group.sample(5)"
      ]
    },
    {
      "cell_type": "code",
      "execution_count": 122,
      "metadata": {
        "colab": {
          "base_uri": "https://localhost:8080/",
          "height": 395
        },
        "id": "kBNmTi5HLdvB",
        "outputId": "411c74d1-887e-4e0e-d1a1-71e2112ce223"
      },
      "outputs": [
        {
          "data": {
            "text/html": [
              "<div>\n",
              "<style scoped>\n",
              "    .dataframe tbody tr th:only-of-type {\n",
              "        vertical-align: middle;\n",
              "    }\n",
              "\n",
              "    .dataframe tbody tr th {\n",
              "        vertical-align: top;\n",
              "    }\n",
              "\n",
              "    .dataframe thead th {\n",
              "        text-align: right;\n",
              "    }\n",
              "</style>\n",
              "<table border=\"1\" class=\"dataframe\">\n",
              "  <thead>\n",
              "    <tr style=\"text-align: right;\">\n",
              "      <th></th>\n",
              "      <th>population</th>\n",
              "      <th>total_cases</th>\n",
              "      <th>percent</th>\n",
              "      <th>stringency_index</th>\n",
              "    </tr>\n",
              "    <tr>\n",
              "      <th>location</th>\n",
              "      <th></th>\n",
              "      <th></th>\n",
              "      <th></th>\n",
              "      <th></th>\n",
              "    </tr>\n",
              "  </thead>\n",
              "  <tbody>\n",
              "    <tr>\n",
              "      <th>Venezuela</th>\n",
              "      <td>28301700</td>\n",
              "      <td>552398.0</td>\n",
              "      <td>1.95</td>\n",
              "      <td>80.56</td>\n",
              "    </tr>\n",
              "    <tr>\n",
              "      <th>Honduras</th>\n",
              "      <td>10432858</td>\n",
              "      <td>472467.0</td>\n",
              "      <td>4.53</td>\n",
              "      <td>76.94</td>\n",
              "    </tr>\n",
              "    <tr>\n",
              "      <th>China</th>\n",
              "      <td>1425887360</td>\n",
              "      <td>99239252.0</td>\n",
              "      <td>6.96</td>\n",
              "      <td>73.61</td>\n",
              "    </tr>\n",
              "    <tr>\n",
              "      <th>Argentina</th>\n",
              "      <td>45510324</td>\n",
              "      <td>10044957.0</td>\n",
              "      <td>22.07</td>\n",
              "      <td>71.76</td>\n",
              "    </tr>\n",
              "    <tr>\n",
              "      <th>Jamaica</th>\n",
              "      <td>2827382</td>\n",
              "      <td>154602.0</td>\n",
              "      <td>5.47</td>\n",
              "      <td>71.30</td>\n",
              "    </tr>\n",
              "    <tr>\n",
              "      <th>Myanmar</th>\n",
              "      <td>54179312</td>\n",
              "      <td>634105.0</td>\n",
              "      <td>1.17</td>\n",
              "      <td>70.37</td>\n",
              "    </tr>\n",
              "    <tr>\n",
              "      <th>Philippines</th>\n",
              "      <td>115559008</td>\n",
              "      <td>4083678.0</td>\n",
              "      <td>3.53</td>\n",
              "      <td>67.13</td>\n",
              "    </tr>\n",
              "    <tr>\n",
              "      <th>Palestine</th>\n",
              "      <td>5250076</td>\n",
              "      <td>703228.0</td>\n",
              "      <td>13.39</td>\n",
              "      <td>66.20</td>\n",
              "    </tr>\n",
              "    <tr>\n",
              "      <th>Kazakhstan</th>\n",
              "      <td>19397998</td>\n",
              "      <td>1501450.0</td>\n",
              "      <td>7.74</td>\n",
              "      <td>65.74</td>\n",
              "    </tr>\n",
              "    <tr>\n",
              "      <th>Canada</th>\n",
              "      <td>38454328</td>\n",
              "      <td>4634277.0</td>\n",
              "      <td>12.05</td>\n",
              "      <td>65.08</td>\n",
              "    </tr>\n",
              "  </tbody>\n",
              "</table>\n",
              "</div>"
            ],
            "text/plain": [
              "             population  total_cases  percent  stringency_index\n",
              "location                                                       \n",
              "Venezuela      28301700     552398.0     1.95             80.56\n",
              "Honduras       10432858     472467.0     4.53             76.94\n",
              "China        1425887360   99239252.0     6.96             73.61\n",
              "Argentina      45510324   10044957.0    22.07             71.76\n",
              "Jamaica         2827382     154602.0     5.47             71.30\n",
              "Myanmar        54179312     634105.0     1.17             70.37\n",
              "Philippines   115559008    4083678.0     3.53             67.13\n",
              "Palestine       5250076     703228.0    13.39             66.20\n",
              "Kazakhstan     19397998    1501450.0     7.74             65.74\n",
              "Canada         38454328    4634277.0    12.05             65.08"
            ]
          },
          "execution_count": 122,
          "metadata": {},
          "output_type": "execute_result"
        }
      ],
      "source": [
        "merged_df_23 = pd.merge(df_23_d_group, df_23_v_group, on='location')\n",
        "merged_df_23.sort_values(by='stringency_index', ascending=False).head(10)"
      ]
    },
    {
      "cell_type": "code",
      "execution_count": 123,
      "metadata": {
        "colab": {
          "base_uri": "https://localhost:8080/"
        },
        "id": "0bHUM7BOL6uc",
        "outputId": "4d541ce3-79ff-46e9-a9bf-823d8d75a1b9"
      },
      "outputs": [
        {
          "data": {
            "text/plain": [
              "13.605"
            ]
          },
          "execution_count": 123,
          "metadata": {},
          "output_type": "execute_result"
        }
      ],
      "source": [
        "merged_df_23['percent'].median()"
      ]
    },
    {
      "cell_type": "markdown",
      "metadata": {
        "id": "pNuDPz18IfiJ"
      },
      "source": [
        "### Conclusão\n",
        "\n",
        "De fato o nível de rigidez do país contribuiu para que uma menor parcela da população fosse infectada. Observando o TOP-10 países mais rígidos apenas um, a Argentina, teve um percentual de infecção mais alto que a média, portanto é possível fazer uma relação entre rigidez e contaminação da população."
      ]
    },
    {
      "cell_type": "markdown",
      "metadata": {
        "id": "IF2iAzKdIfxq"
      },
      "source": [
        "## 24 - Países com maior densidade populacional foram mais restritos na rígidez?\n",
        "\n",
        "**Justificativa:** -"
      ]
    },
    {
      "cell_type": "code",
      "execution_count": 124,
      "metadata": {
        "colab": {
          "base_uri": "https://localhost:8080/",
          "height": 395
        },
        "id": "FnwdpUWPIfxr",
        "outputId": "0f647b90-367f-46b5-a9b2-669549c242b8"
      },
      "outputs": [
        {
          "data": {
            "text/html": [
              "<div>\n",
              "<style scoped>\n",
              "    .dataframe tbody tr th:only-of-type {\n",
              "        vertical-align: middle;\n",
              "    }\n",
              "\n",
              "    .dataframe tbody tr th {\n",
              "        vertical-align: top;\n",
              "    }\n",
              "\n",
              "    .dataframe thead th {\n",
              "        text-align: right;\n",
              "    }\n",
              "</style>\n",
              "<table border=\"1\" class=\"dataframe\">\n",
              "  <thead>\n",
              "    <tr style=\"text-align: right;\">\n",
              "      <th></th>\n",
              "      <th>stringency_index</th>\n",
              "      <th>population_density</th>\n",
              "    </tr>\n",
              "    <tr>\n",
              "      <th>location</th>\n",
              "      <th></th>\n",
              "      <th></th>\n",
              "    </tr>\n",
              "  </thead>\n",
              "  <tbody>\n",
              "    <tr>\n",
              "      <th>Macao</th>\n",
              "      <td>32.41</td>\n",
              "      <td>20546.77</td>\n",
              "    </tr>\n",
              "    <tr>\n",
              "      <th>Monaco</th>\n",
              "      <td>34.95</td>\n",
              "      <td>19347.50</td>\n",
              "    </tr>\n",
              "    <tr>\n",
              "      <th>Singapore</th>\n",
              "      <td>46.66</td>\n",
              "      <td>7915.73</td>\n",
              "    </tr>\n",
              "    <tr>\n",
              "      <th>Hong Kong</th>\n",
              "      <td>59.26</td>\n",
              "      <td>7039.71</td>\n",
              "    </tr>\n",
              "    <tr>\n",
              "      <th>Gibraltar</th>\n",
              "      <td>NaN</td>\n",
              "      <td>3457.10</td>\n",
              "    </tr>\n",
              "    <tr>\n",
              "      <th>Bahrain</th>\n",
              "      <td>37.43</td>\n",
              "      <td>1935.91</td>\n",
              "    </tr>\n",
              "    <tr>\n",
              "      <th>Maldives</th>\n",
              "      <td>NaN</td>\n",
              "      <td>1454.43</td>\n",
              "    </tr>\n",
              "    <tr>\n",
              "      <th>Malta</th>\n",
              "      <td>43.52</td>\n",
              "      <td>1454.04</td>\n",
              "    </tr>\n",
              "    <tr>\n",
              "      <th>Bermuda</th>\n",
              "      <td>39.84</td>\n",
              "      <td>1308.82</td>\n",
              "    </tr>\n",
              "    <tr>\n",
              "      <th>Bangladesh</th>\n",
              "      <td>53.70</td>\n",
              "      <td>1265.04</td>\n",
              "    </tr>\n",
              "  </tbody>\n",
              "</table>\n",
              "</div>"
            ],
            "text/plain": [
              "            stringency_index  population_density\n",
              "location                                        \n",
              "Macao                  32.41            20546.77\n",
              "Monaco                 34.95            19347.50\n",
              "Singapore              46.66             7915.73\n",
              "Hong Kong              59.26             7039.71\n",
              "Gibraltar                NaN             3457.10\n",
              "Bahrain                37.43             1935.91\n",
              "Maldives                 NaN             1454.43\n",
              "Malta                  43.52             1454.04\n",
              "Bermuda                39.84             1308.82\n",
              "Bangladesh             53.70             1265.04"
            ]
          },
          "execution_count": 124,
          "metadata": {},
          "output_type": "execute_result"
        }
      ],
      "source": [
        "split_24_v = ['continent', 'location', 'stringency_index', 'population_density']\n",
        "df_24_v = vaccinations_df[split_24_v]\n",
        "df_24_v = df_24_v[df_24_v['continent'].notna()]\n",
        "df_24_v_group = df_24_v.groupby('location').agg({'stringency_index': 'median', 'population_density': 'max'})\n",
        "df_24_v_group.sort_values(by='population_density', ascending=False).head(10)"
      ]
    },
    {
      "cell_type": "code",
      "execution_count": 125,
      "metadata": {
        "colab": {
          "base_uri": "https://localhost:8080/"
        },
        "id": "e5HQws5tNcMD",
        "outputId": "b5b43b22-31bd-48be-e4d8-5e9beab31ad5"
      },
      "outputs": [
        {
          "data": {
            "text/plain": [
              "44.44"
            ]
          },
          "execution_count": 125,
          "metadata": {},
          "output_type": "execute_result"
        }
      ],
      "source": [
        "df_24_v_group['stringency_index'].median()"
      ]
    },
    {
      "cell_type": "markdown",
      "metadata": {
        "id": "lf_eFxukIfxs"
      },
      "source": [
        "### Conclusão\n",
        "\n",
        "Considerando os TOP-10 países com maior densidade populacional, não podemos afirmar que eles foram os mais rigidos pois desses dez, apenas três registraram valores de rigidez acima do valor médio, e mesmo assim bem próximos a média."
      ]
    },
    {
      "cell_type": "markdown",
      "metadata": {
        "id": "YafqOCIfIf_5"
      },
      "source": [
        "## 25 - Qual foi a quantidade de mortes por milhão de habitantes nos países sulamericanos?\n",
        "\n",
        "**Justificativa:** Provavelmente, ao comprar a quantidade de mortes por milhão de habitantes ajudará a ter um indicativo de quais políticas públicas seriam mais eficazes."
      ]
    },
    {
      "cell_type": "code",
      "execution_count": 126,
      "metadata": {
        "colab": {
          "base_uri": "https://localhost:8080/",
          "height": 520
        },
        "id": "zIvdf5VcIf_5",
        "outputId": "cda14a5f-6b83-4e1f-fce2-594470a42ee7"
      },
      "outputs": [
        {
          "data": {
            "text/html": [
              "<div>\n",
              "<style scoped>\n",
              "    .dataframe tbody tr th:only-of-type {\n",
              "        vertical-align: middle;\n",
              "    }\n",
              "\n",
              "    .dataframe tbody tr th {\n",
              "        vertical-align: top;\n",
              "    }\n",
              "\n",
              "    .dataframe thead th {\n",
              "        text-align: right;\n",
              "    }\n",
              "</style>\n",
              "<table border=\"1\" class=\"dataframe\">\n",
              "  <thead>\n",
              "    <tr style=\"text-align: right;\">\n",
              "      <th></th>\n",
              "      <th>continent</th>\n",
              "      <th>total_deaths_per_million</th>\n",
              "    </tr>\n",
              "    <tr>\n",
              "      <th>location</th>\n",
              "      <th></th>\n",
              "      <th></th>\n",
              "    </tr>\n",
              "  </thead>\n",
              "  <tbody>\n",
              "    <tr>\n",
              "      <th>Peru</th>\n",
              "      <td>South America</td>\n",
              "      <td>6457.229</td>\n",
              "    </tr>\n",
              "    <tr>\n",
              "      <th>Chile</th>\n",
              "      <td>South America</td>\n",
              "      <td>3290.036</td>\n",
              "    </tr>\n",
              "    <tr>\n",
              "      <th>Brazil</th>\n",
              "      <td>South America</td>\n",
              "      <td>3253.656</td>\n",
              "    </tr>\n",
              "    <tr>\n",
              "      <th>Paraguay</th>\n",
              "      <td>South America</td>\n",
              "      <td>2931.831</td>\n",
              "    </tr>\n",
              "    <tr>\n",
              "      <th>Argentina</th>\n",
              "      <td>South America</td>\n",
              "      <td>2866.866</td>\n",
              "    </tr>\n",
              "    <tr>\n",
              "      <th>Colombia</th>\n",
              "      <td>South America</td>\n",
              "      <td>2750.702</td>\n",
              "    </tr>\n",
              "    <tr>\n",
              "      <th>Suriname</th>\n",
              "      <td>South America</td>\n",
              "      <td>2271.676</td>\n",
              "    </tr>\n",
              "    <tr>\n",
              "      <th>Uruguay</th>\n",
              "      <td>South America</td>\n",
              "      <td>2226.542</td>\n",
              "    </tr>\n",
              "    <tr>\n",
              "      <th>Ecuador</th>\n",
              "      <td>South America</td>\n",
              "      <td>2000.833</td>\n",
              "    </tr>\n",
              "    <tr>\n",
              "      <th>Bolivia</th>\n",
              "      <td>South America</td>\n",
              "      <td>1830.317</td>\n",
              "    </tr>\n",
              "    <tr>\n",
              "      <th>Guyana</th>\n",
              "      <td>South America</td>\n",
              "      <td>1604.992</td>\n",
              "    </tr>\n",
              "    <tr>\n",
              "      <th>French Guiana</th>\n",
              "      <td>South America</td>\n",
              "      <td>1356.019</td>\n",
              "    </tr>\n",
              "    <tr>\n",
              "      <th>Venezuela</th>\n",
              "      <td>South America</td>\n",
              "      <td>206.843</td>\n",
              "    </tr>\n",
              "    <tr>\n",
              "      <th>Falkland Islands</th>\n",
              "      <td>South America</td>\n",
              "      <td>NaN</td>\n",
              "    </tr>\n",
              "  </tbody>\n",
              "</table>\n",
              "</div>"
            ],
            "text/plain": [
              "                      continent  total_deaths_per_million\n",
              "location                                                 \n",
              "Peru              South America                  6457.229\n",
              "Chile             South America                  3290.036\n",
              "Brazil            South America                  3253.656\n",
              "Paraguay          South America                  2931.831\n",
              "Argentina         South America                  2866.866\n",
              "Colombia          South America                  2750.702\n",
              "Suriname          South America                  2271.676\n",
              "Uruguay           South America                  2226.542\n",
              "Ecuador           South America                  2000.833\n",
              "Bolivia           South America                  1830.317\n",
              "Guyana            South America                  1604.992\n",
              "French Guiana     South America                  1356.019\n",
              "Venezuela         South America                   206.843\n",
              "Falkland Islands  South America                       NaN"
            ]
          },
          "execution_count": 126,
          "metadata": {},
          "output_type": "execute_result"
        }
      ],
      "source": [
        "split_25_d = ['continent', 'location', 'total_deaths_per_million']\n",
        "df_25_d = death_df[split_25_d]\n",
        "df_24_v = df_24_v[df_24_v['continent'].notna()]\n",
        "df_25_d_group = df_25_d.groupby('location').agg({'continent': 'first', 'total_deaths_per_million': 'max'})\n",
        "result = df_25_d_group[df_25_d_group['continent'] == 'South America']\n",
        "result.sort_values(by='total_deaths_per_million', ascending=False)"
      ]
    },
    {
      "cell_type": "markdown",
      "metadata": {
        "id": "fWPBfAviIf_6"
      },
      "source": [
        "### Conclusão\n",
        "\n",
        "Foi possível gerar a tabela como total de mortes por milhão de habitantes de cada país da América do Sul."
      ]
    }
  ],
  "metadata": {
    "colab": {
      "provenance": [],
      "toc_visible": true
    },
    "kernelspec": {
      "display_name": "Python 3",
      "name": "python3"
    },
    "language_info": {
      "codemirror_mode": {
        "name": "ipython",
        "version": 3
      },
      "file_extension": ".py",
      "mimetype": "text/x-python",
      "name": "python",
      "nbconvert_exporter": "python",
      "pygments_lexer": "ipython3",
      "version": "3.8.10"
    }
  },
  "nbformat": 4,
  "nbformat_minor": 0
}
